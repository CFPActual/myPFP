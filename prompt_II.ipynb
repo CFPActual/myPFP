{
 "cells": [
  {
   "cell_type": "markdown",
   "metadata": {},
   "source": [
    "# What drives the price of a car?\n",
    "\n",
    "![](images/kurt.jpeg)"
   ]
  },
  {
   "cell_type": "markdown",
   "metadata": {},
   "source": [
    "**OVERVIEW**\n",
    "\n",
    "In this application, you will explore a dataset from Kaggle. The original dataset contained information on 3 million used cars. The provided dataset contains information on 426K cars to ensure speed of processing.  Your goal is to understand what factors make a car more or less expensive.  As a result of your analysis, you should provide clear recommendations to your client -- a used car dealership -- as to what consumers value in a used car."
   ]
  },
  {
   "cell_type": "markdown",
   "metadata": {},
   "source": [
    "### CRISP-DM Framework\n",
    "\n",
    "<center>\n",
    "    <img src = images/crisp.png width = 50%/>\n",
    "</center>\n",
    "\n",
    "\n",
    "To frame the task, throughout our practical applications, we will refer back to a standard process in industry for data projects called CRISP-DM.  This process provides a framework for working through a data problem.  Your first step in this application will be to read through a brief overview of CRISP-DM [here](https://mo-pcco.s3.us-east-1.amazonaws.com/BH-PCMLAI/module_11/readings_starter.zip).  After reading the overview, answer the questions below."
   ]
  },
  {
   "cell_type": "markdown",
   "metadata": {},
   "source": [
    "### Business Understanding\n",
    "\n",
    "From a business perspective, we are tasked with identifying key drivers for used car prices.  In the CRISP-DM overview, we are asked to convert this business framing to a data problem definition.  Using a few sentences, reframe the task as a data task with the appropriate technical vocabulary."
   ]
  },
  {
   "metadata": {},
   "cell_type": "markdown",
   "source": [
    "#### From the CRISP-DM: \"Towards a Standard Process Model for Data Mining\" paper by Rüdiger Wirth and the associated CRISP-DM manual I see that the purpose of Phase 1: Business Understanding is to:\n",
    "1. focus on understanding the project objectives and requirements from a business perspective\n",
    "2. convert this knowledge into a data mining problem definition, and a preliminary project plan designed to achieve the objectives.\"\n",
    "\n",
    "Following this convention this would be my phase 1 response\n",
    "\n",
    "Having worked in this industry for a few years in my early twenties, I can confidently say that the primary objective of this project is to determine what customers value most in a used \"vehicle\".\n",
    "My goal is to determine which characteristics of a used car inventory will provide the best probability of a(controlled and lucrative) sale for any given car.\n",
    "Additional Insight: There is a cost associated with maintaining a used car inventory.  These costs include, repair, refurbishment, licensing, maintenance, time, etc. Decisons have to be made (by the sales management staff) about which combination and number of these operating costs to apply to the base ingestion price of a given used car.  This is a per vehicle process that typically follows a specific algorithm. In my experience the process was the same whether the used car was obtained as a trade-in, an outright purchase, or an auction purchase.  The driving force behind this effort is every dealship's continuous desire to: 1. have strict control over used car \"time-in-inventory\" and 2. maximize \"net profit\".\n",
    "Finding the \"feature\" or \"features\" of a used car that will support their ultimate goal would place me in the Used Car Salesman Hall of Fame.\n",
    "\n",
    "One important thing I would like to point about this problem that would beg a conversation with used car domain experts/stakeholders (for clarity) is the use of the word \"value\" in the problem overview.\n",
    "I'm afraid the customer value signal cannot be obtained from the current 18 features.\n",
    "\n",
    "When I was that slimy used car guy years ago, we would say \"A good deal is a state of mind\".  Of course, it was our job to strictly control that state of mind.\n",
    "That phrase is a universal truth as well as a coping mechanism.  That is what salespeople say to make themselves feel better when they make a killing on a sale; meaning they sold it for a lot more than what the dealership purchased it for.\n",
    "I say all that to say, value != price. I believe the dataset can't capture \"value\" in its current state without historic sales data.  Knowing WHICH used cars sold for HOW MUCH and WHEN compared to INGESTION DATA is essential information.\n",
    "Dealerships definitely have that information so, with a firm understanding of the problem, I would have to circle back and ask the dealership stakeholders for additional features like Vehicle Purchased/Traded Date/Time, Vehicle Sold Data/Time, and \"Actual\" Sale Price.   That is absolutely necessary to be able to provide clear recommendations for what consumers \"value\" in a used car.\n",
    "\n",
    "For the sake of this assigment I can only explore the effects of the features on the \"**asking price**\" to expose used car pricing trends that the sales team may not be aware of."
   ]
  },
  {
   "cell_type": "markdown",
   "metadata": {},
   "source": [
    "### Data Understanding\n",
    "\n",
    "After considering the business understanding, we want to get familiar with our data.  Write down some steps that you would take to get to know the dataset and identify any quality issues within.  Take time to get to know the dataset and explore what information it contains and how this could be used to inform your business understanding."
   ]
  },
  {
   "cell_type": "code",
   "metadata": {
    "ExecuteTime": {
     "end_time": "2025-09-16T19:33:05.705855Z",
     "start_time": "2025-09-16T19:33:05.684756Z"
    }
   },
   "source": [
    "from sklearn.compose import ColumnTransformer\n",
    "from sklearn.decomposition import PCA\n",
    "from sklearn.ensemble import HistGradientBoostingRegressor\n",
    "from sklearn.ensemble import RandomForestRegressor\n",
    "from sklearn.linear_model import LinearRegression\n",
    "from sklearn.linear_model import Ridge\n",
    "from sklearn.linear_model import RidgeCV\n",
    "from sklearn.metrics import mean_absolute_error, r2_score\n",
    "from sklearn.metrics import mean_squared_error, r2_score, mean_absolute_error, mean_absolute_percentage_error\n",
    "from sklearn.model_selection import GridSearchCV\n",
    "from sklearn.model_selection import train_test_split\n",
    "from sklearn.pipeline import Pipeline\n",
    "from sklearn.preprocessing import OneHotEncoder, OrdinalEncoder\n",
    "from sklearn.preprocessing import PolynomialFeatures\n",
    "from sklearn.preprocessing import StandardScaler\n",
    "from xgboost import XGBRegressor\n",
    "import matplotlib.pyplot as plt\n",
    "import numpy as np\n",
    "import pandas as pd\n",
    "import seaborn as sns"
   ],
   "outputs": [],
   "execution_count": 1039
  },
  {
   "cell_type": "code",
   "metadata": {
    "ExecuteTime": {
     "end_time": "2025-09-16T19:33:06.613502Z",
     "start_time": "2025-09-16T19:33:05.717470Z"
    }
   },
   "source": [
    "df = pd.read_csv(\"data/vehicles.csv\")\n",
    "df.head()"
   ],
   "outputs": [
    {
     "data": {
      "text/plain": [
       "           id                  region  price  year manufacturer model  \\\n",
       "0  7222695916                prescott   6000   NaN          NaN   NaN   \n",
       "1  7218891961            fayetteville  11900   NaN          NaN   NaN   \n",
       "2  7221797935            florida keys  21000   NaN          NaN   NaN   \n",
       "3  7222270760  worcester / central MA   1500   NaN          NaN   NaN   \n",
       "4  7210384030              greensboro   4900   NaN          NaN   NaN   \n",
       "\n",
       "  condition cylinders fuel  odometer title_status transmission  VIN drive  \\\n",
       "0       NaN       NaN  NaN       NaN          NaN          NaN  NaN   NaN   \n",
       "1       NaN       NaN  NaN       NaN          NaN          NaN  NaN   NaN   \n",
       "2       NaN       NaN  NaN       NaN          NaN          NaN  NaN   NaN   \n",
       "3       NaN       NaN  NaN       NaN          NaN          NaN  NaN   NaN   \n",
       "4       NaN       NaN  NaN       NaN          NaN          NaN  NaN   NaN   \n",
       "\n",
       "  size type paint_color state  \n",
       "0  NaN  NaN         NaN    az  \n",
       "1  NaN  NaN         NaN    ar  \n",
       "2  NaN  NaN         NaN    fl  \n",
       "3  NaN  NaN         NaN    ma  \n",
       "4  NaN  NaN         NaN    nc  "
      ],
      "text/html": [
       "<div>\n",
       "<style scoped>\n",
       "    .dataframe tbody tr th:only-of-type {\n",
       "        vertical-align: middle;\n",
       "    }\n",
       "\n",
       "    .dataframe tbody tr th {\n",
       "        vertical-align: top;\n",
       "    }\n",
       "\n",
       "    .dataframe thead th {\n",
       "        text-align: right;\n",
       "    }\n",
       "</style>\n",
       "<table border=\"1\" class=\"dataframe\">\n",
       "  <thead>\n",
       "    <tr style=\"text-align: right;\">\n",
       "      <th></th>\n",
       "      <th>id</th>\n",
       "      <th>region</th>\n",
       "      <th>price</th>\n",
       "      <th>year</th>\n",
       "      <th>manufacturer</th>\n",
       "      <th>model</th>\n",
       "      <th>condition</th>\n",
       "      <th>cylinders</th>\n",
       "      <th>fuel</th>\n",
       "      <th>odometer</th>\n",
       "      <th>title_status</th>\n",
       "      <th>transmission</th>\n",
       "      <th>VIN</th>\n",
       "      <th>drive</th>\n",
       "      <th>size</th>\n",
       "      <th>type</th>\n",
       "      <th>paint_color</th>\n",
       "      <th>state</th>\n",
       "    </tr>\n",
       "  </thead>\n",
       "  <tbody>\n",
       "    <tr>\n",
       "      <th>0</th>\n",
       "      <td>7222695916</td>\n",
       "      <td>prescott</td>\n",
       "      <td>6000</td>\n",
       "      <td>NaN</td>\n",
       "      <td>NaN</td>\n",
       "      <td>NaN</td>\n",
       "      <td>NaN</td>\n",
       "      <td>NaN</td>\n",
       "      <td>NaN</td>\n",
       "      <td>NaN</td>\n",
       "      <td>NaN</td>\n",
       "      <td>NaN</td>\n",
       "      <td>NaN</td>\n",
       "      <td>NaN</td>\n",
       "      <td>NaN</td>\n",
       "      <td>NaN</td>\n",
       "      <td>NaN</td>\n",
       "      <td>az</td>\n",
       "    </tr>\n",
       "    <tr>\n",
       "      <th>1</th>\n",
       "      <td>7218891961</td>\n",
       "      <td>fayetteville</td>\n",
       "      <td>11900</td>\n",
       "      <td>NaN</td>\n",
       "      <td>NaN</td>\n",
       "      <td>NaN</td>\n",
       "      <td>NaN</td>\n",
       "      <td>NaN</td>\n",
       "      <td>NaN</td>\n",
       "      <td>NaN</td>\n",
       "      <td>NaN</td>\n",
       "      <td>NaN</td>\n",
       "      <td>NaN</td>\n",
       "      <td>NaN</td>\n",
       "      <td>NaN</td>\n",
       "      <td>NaN</td>\n",
       "      <td>NaN</td>\n",
       "      <td>ar</td>\n",
       "    </tr>\n",
       "    <tr>\n",
       "      <th>2</th>\n",
       "      <td>7221797935</td>\n",
       "      <td>florida keys</td>\n",
       "      <td>21000</td>\n",
       "      <td>NaN</td>\n",
       "      <td>NaN</td>\n",
       "      <td>NaN</td>\n",
       "      <td>NaN</td>\n",
       "      <td>NaN</td>\n",
       "      <td>NaN</td>\n",
       "      <td>NaN</td>\n",
       "      <td>NaN</td>\n",
       "      <td>NaN</td>\n",
       "      <td>NaN</td>\n",
       "      <td>NaN</td>\n",
       "      <td>NaN</td>\n",
       "      <td>NaN</td>\n",
       "      <td>NaN</td>\n",
       "      <td>fl</td>\n",
       "    </tr>\n",
       "    <tr>\n",
       "      <th>3</th>\n",
       "      <td>7222270760</td>\n",
       "      <td>worcester / central MA</td>\n",
       "      <td>1500</td>\n",
       "      <td>NaN</td>\n",
       "      <td>NaN</td>\n",
       "      <td>NaN</td>\n",
       "      <td>NaN</td>\n",
       "      <td>NaN</td>\n",
       "      <td>NaN</td>\n",
       "      <td>NaN</td>\n",
       "      <td>NaN</td>\n",
       "      <td>NaN</td>\n",
       "      <td>NaN</td>\n",
       "      <td>NaN</td>\n",
       "      <td>NaN</td>\n",
       "      <td>NaN</td>\n",
       "      <td>NaN</td>\n",
       "      <td>ma</td>\n",
       "    </tr>\n",
       "    <tr>\n",
       "      <th>4</th>\n",
       "      <td>7210384030</td>\n",
       "      <td>greensboro</td>\n",
       "      <td>4900</td>\n",
       "      <td>NaN</td>\n",
       "      <td>NaN</td>\n",
       "      <td>NaN</td>\n",
       "      <td>NaN</td>\n",
       "      <td>NaN</td>\n",
       "      <td>NaN</td>\n",
       "      <td>NaN</td>\n",
       "      <td>NaN</td>\n",
       "      <td>NaN</td>\n",
       "      <td>NaN</td>\n",
       "      <td>NaN</td>\n",
       "      <td>NaN</td>\n",
       "      <td>NaN</td>\n",
       "      <td>NaN</td>\n",
       "      <td>nc</td>\n",
       "    </tr>\n",
       "  </tbody>\n",
       "</table>\n",
       "</div>"
      ]
     },
     "execution_count": 1040,
     "metadata": {},
     "output_type": "execute_result"
    }
   ],
   "execution_count": 1040
  },
  {
   "metadata": {},
   "cell_type": "markdown",
   "source": "EXPLORING MISSING VALUES"
  },
  {
   "metadata": {
    "ExecuteTime": {
     "end_time": "2025-09-16T19:33:06.915809Z",
     "start_time": "2025-09-16T19:33:06.905294Z"
    }
   },
   "cell_type": "code",
   "source": [
    "# Since we might be checking for missing data repeatedly\n",
    "def summarize_missing_values(dframe):\n",
    "    counts_of_missing_per_feature = dframe.isnull().sum()\n",
    "    percentages_missing_per_feature = (counts_of_missing_per_feature / len(dframe)) * 100\n",
    "\n",
    "    missing_summary = pd.DataFrame({\n",
    "                                    'missing_count': counts_of_missing_per_feature ,\n",
    "                                    'missing_percent': percentages_missing_per_feature.round(2)\n",
    "                                })\n",
    "\n",
    "    missing_summary.sort_values(by='missing_percent', ascending=False, inplace=True)\n",
    "    print(missing_summary)"
   ],
   "outputs": [],
   "execution_count": 1041
  },
  {
   "metadata": {
    "ExecuteTime": {
     "end_time": "2025-09-16T19:33:07.134552Z",
     "start_time": "2025-09-16T19:33:06.968213Z"
    }
   },
   "cell_type": "code",
   "source": [
    "# Is the raw data like swiss cheese\n",
    "summarize_missing_values(df)\n"
   ],
   "outputs": [
    {
     "name": "stdout",
     "output_type": "stream",
     "text": [
      "              missing_count  missing_percent\n",
      "size                 306361            71.77\n",
      "cylinders            177678            41.62\n",
      "condition            174104            40.79\n",
      "VIN                  161042            37.73\n",
      "drive                130567            30.59\n",
      "paint_color          130203            30.50\n",
      "type                  92858            21.75\n",
      "manufacturer          17646             4.13\n",
      "title_status           8242             1.93\n",
      "model                  5277             1.24\n",
      "odometer               4400             1.03\n",
      "fuel                   3013             0.71\n",
      "transmission           2556             0.60\n",
      "year                   1205             0.28\n",
      "id                        0             0.00\n",
      "region                    0             0.00\n",
      "price                     0             0.00\n",
      "state                     0             0.00\n"
     ]
    }
   ],
   "execution_count": 1042
  },
  {
   "metadata": {},
   "cell_type": "markdown",
   "source": [
    "### Data Preparation\n",
    "\n",
    "After our initial exploration and fine-tuning of the business understanding, it is time to construct our final dataset prior to modeling.  Here, we want to make sure to handle any integrity issues and cleaning, the engineering of new features, any transformations that we believe should happen (scaling, logarithms, normalization, etc.), and general preparation for modeling with `sklearn`."
   ]
  },
  {
   "metadata": {},
   "cell_type": "markdown",
   "source": [
    "#### Giving these outputs, and based on my revised focus (dealership pricing perspective) I have decided to drop the following columns early based on data condition and or domain knowledge:\n",
    "1 id - id is just an inventory number for a particular used vehicle; an internal administrative tag for the dealership for accounting purposes and others; no pricing. <br>\n",
    "2 VIN is just a purely administrative property of the car. Either a vehicle  has one or it doesn't. Presence or absence doesn't affect price since dealerships can't sell cars without VIN plates.<br>\n",
    "3 size - too many values missing and some of that signal is captured by the model feature.<br>\n",
    "4.paint_color - unless it is some sort of unicorn-like special paint job that dealers are confident they can make money on, the paint color is not important.  Only to the customer.<br>"
   ]
  },
  {
   "metadata": {
    "ExecuteTime": {
     "end_time": "2025-09-16T19:33:07.404317Z",
     "start_time": "2025-09-16T19:33:07.150758Z"
    }
   },
   "cell_type": "code",
   "source": [
    "df_lite = df.drop(columns=[\"id\", \"size\", \"paint_color\"])  # retaining VIN until after the VIN duplicate check\n",
    "nan_thresh = 4\n",
    "df_lite = df_lite[df_lite.notnull().sum(axis=1) >= nan_thresh] #  dropping rows with fewer than n non-NaN values\n",
    "df_lite.shape"
   ],
   "outputs": [
    {
     "data": {
      "text/plain": [
       "(426812, 15)"
      ]
     },
     "execution_count": 1043,
     "metadata": {},
     "output_type": "execute_result"
    }
   ],
   "execution_count": 1043
  },
  {
   "metadata": {},
   "cell_type": "markdown",
   "source": "DUPLICATE HANDLING"
  },
  {
   "metadata": {
    "ExecuteTime": {
     "end_time": "2025-09-16T19:33:07.572713Z",
     "start_time": "2025-09-16T19:33:07.410449Z"
    }
   },
   "cell_type": "code",
   "source": [
    "# Count duplicate VINs\n",
    "duplicate_VIN = df_lite[df_lite.duplicated(subset='VIN', keep=False)]\n",
    "\n",
    "# A snapshot of how many VINs appear more than once\n",
    "print(duplicate_VIN ['VIN'].value_counts().head())\n",
    "print(duplicate_VIN.shape)\n",
    "\n",
    "# Drop VIN duplicates then drop the VIN column since it has served its purpose\n",
    "df_lite = df_lite.drop_duplicates(subset='VIN', keep='first')\n",
    "df_lite = df_lite.drop(columns=[\"VIN\"])\n",
    "df_lite.shape\n"
   ],
   "outputs": [
    {
     "name": "stdout",
     "output_type": "stream",
     "text": [
      "VIN\n",
      "1FMJU1JT1HEA52352    261\n",
      "3C6JR6DT3KG560649    235\n",
      "1FTER1EH1LLA36301    231\n",
      "5TFTX4CN3EX042751    227\n",
      "1GCHTCE37G1186784    214\n",
      "Name: count, dtype: int64\n",
      "(348846, 15)\n"
     ]
    },
    {
     "data": {
      "text/plain": [
       "(118247, 14)"
      ]
     },
     "execution_count": 1044,
     "metadata": {},
     "output_type": "execute_result"
    }
   ],
   "execution_count": 1044
  },
  {
   "cell_type": "code",
   "metadata": {
    "ExecuteTime": {
     "end_time": "2025-09-16T19:33:07.902679Z",
     "start_time": "2025-09-16T19:33:07.587663Z"
    }
   },
   "source": [
    "# Now we check for/handle row duplicates yes?\n",
    "num_dupes = df_lite.duplicated().sum()\n",
    "print(f\"Exact duplicate rows: {num_dupes}\")\n",
    "\n",
    "# Drop exact duplicate rows (keep first occurrence)\n",
    "df_lite = df_lite.drop_duplicates()\n",
    "\n",
    "num_dupes = df_lite.duplicated().sum()\n",
    "print(f\"Exact duplicate rows: {num_dupes}\")\n",
    "df_lite.shape"
   ],
   "outputs": [
    {
     "name": "stdout",
     "output_type": "stream",
     "text": [
      "Exact duplicate rows: 163\n",
      "Exact duplicate rows: 0\n"
     ]
    },
    {
     "data": {
      "text/plain": [
       "(118084, 14)"
      ]
     },
     "execution_count": 1045,
     "metadata": {},
     "output_type": "execute_result"
    }
   ],
   "execution_count": 1045
  },
  {
   "metadata": {},
   "cell_type": "markdown",
   "source": "DATA IMPUTATION"
  },
  {
   "metadata": {
    "ExecuteTime": {
     "end_time": "2025-09-16T19:33:07.927583Z",
     "start_time": "2025-09-16T19:33:07.923584Z"
    }
   },
   "cell_type": "code",
   "source": [
    "# df_clean_imp = df_lite.copy()\n",
    "# df_clean_imp.info()"
   ],
   "outputs": [],
   "execution_count": 1046
  },
  {
   "metadata": {
    "ExecuteTime": {
     "end_time": "2025-09-16T19:33:07.943665Z",
     "start_time": "2025-09-16T19:33:07.937695Z"
    }
   },
   "cell_type": "code",
   "source": "# working_df = df_clean_imp.copy()",
   "outputs": [],
   "execution_count": 1047
  },
  {
   "metadata": {
    "ExecuteTime": {
     "end_time": "2025-09-16T19:33:07.959220Z",
     "start_time": "2025-09-16T19:33:07.950210Z"
    }
   },
   "cell_type": "code",
   "source": [
    "# # Mean/Mode Fill the working df if that is what is needed\n",
    "# for col in working_df.columns:\n",
    "#     if working_df[col].dtype in ['float64', 'int64']:\n",
    "#         working_df[col] = working_df[col].fillna(working_df[col].mean())\n",
    "#     elif working_df[col].dtype == 'object':\n",
    "#         working_df[col] = working_df[col].fillna(working_df[col].mode()[0])"
   ],
   "outputs": [],
   "execution_count": 1048
  },
  {
   "metadata": {
    "ExecuteTime": {
     "end_time": "2025-09-16T19:33:07.977671Z",
     "start_time": "2025-09-16T19:33:07.964481Z"
    }
   },
   "cell_type": "code",
   "source": [
    "# summarize_missing_values(working_df)\n",
    "# print(working_df.shape)"
   ],
   "outputs": [],
   "execution_count": 1049
  },
  {
   "metadata": {
    "ExecuteTime": {
     "end_time": "2025-09-16T19:33:07.999481Z",
     "start_time": "2025-09-16T19:33:07.983698Z"
    }
   },
   "cell_type": "code",
   "source": "# print(working_df.describe())",
   "outputs": [],
   "execution_count": 1050
  },
  {
   "metadata": {},
   "cell_type": "markdown",
   "source": "CREATING A DROPNA'd VERSION OF THE DATA FOR COMPARISON  <-- TESTS WERE RUN FOLLOWING IMPUTED DATA TESTING AND THE DROPNA RESULTS WERE FAR SUPERIOR"
  },
  {
   "metadata": {
    "ExecuteTime": {
     "end_time": "2025-09-16T19:33:08.072552Z",
     "start_time": "2025-09-16T19:33:08.005948Z"
    }
   },
   "cell_type": "code",
   "source": [
    "df_clean_dna = df_lite.copy().dropna() # this is the fully NaN sanitized version without imputation\n",
    "print(df_clean_dna.shape)\n",
    "df_clean_dna.info()"
   ],
   "outputs": [
    {
     "name": "stdout",
     "output_type": "stream",
     "text": [
      "(34697, 14)\n",
      "<class 'pandas.core.frame.DataFrame'>\n",
      "Index: 34697 entries, 31 to 426833\n",
      "Data columns (total 14 columns):\n",
      " #   Column        Non-Null Count  Dtype  \n",
      "---  ------        --------------  -----  \n",
      " 0   region        34697 non-null  object \n",
      " 1   price         34697 non-null  int64  \n",
      " 2   year          34697 non-null  float64\n",
      " 3   manufacturer  34697 non-null  object \n",
      " 4   model         34697 non-null  object \n",
      " 5   condition     34697 non-null  object \n",
      " 6   cylinders     34697 non-null  object \n",
      " 7   fuel          34697 non-null  object \n",
      " 8   odometer      34697 non-null  float64\n",
      " 9   title_status  34697 non-null  object \n",
      " 10  transmission  34697 non-null  object \n",
      " 11  drive         34697 non-null  object \n",
      " 12  type          34697 non-null  object \n",
      " 13  state         34697 non-null  object \n",
      "dtypes: float64(2), int64(1), object(11)\n",
      "memory usage: 4.0+ MB\n"
     ]
    }
   ],
   "execution_count": 1051
  },
  {
   "metadata": {
    "ExecuteTime": {
     "end_time": "2025-09-16T19:33:08.118162Z",
     "start_time": "2025-09-16T19:33:08.094551Z"
    }
   },
   "cell_type": "code",
   "source": "working_df = df_clean_dna.copy()",
   "outputs": [],
   "execution_count": 1052
  },
  {
   "metadata": {
    "ExecuteTime": {
     "end_time": "2025-09-16T19:33:08.135773Z",
     "start_time": "2025-09-16T19:33:08.124193Z"
    }
   },
   "cell_type": "code",
   "source": [
    "# Prices and Odometer values approaching 1M should be examined\n",
    "working_df[working_df['price'] > 1e6]"
   ],
   "outputs": [
    {
     "data": {
      "text/plain": [
       "Empty DataFrame\n",
       "Columns: [region, price, year, manufacturer, model, condition, cylinders, fuel, odometer, title_status, transmission, drive, type, state]\n",
       "Index: []"
      ],
      "text/html": [
       "<div>\n",
       "<style scoped>\n",
       "    .dataframe tbody tr th:only-of-type {\n",
       "        vertical-align: middle;\n",
       "    }\n",
       "\n",
       "    .dataframe tbody tr th {\n",
       "        vertical-align: top;\n",
       "    }\n",
       "\n",
       "    .dataframe thead th {\n",
       "        text-align: right;\n",
       "    }\n",
       "</style>\n",
       "<table border=\"1\" class=\"dataframe\">\n",
       "  <thead>\n",
       "    <tr style=\"text-align: right;\">\n",
       "      <th></th>\n",
       "      <th>region</th>\n",
       "      <th>price</th>\n",
       "      <th>year</th>\n",
       "      <th>manufacturer</th>\n",
       "      <th>model</th>\n",
       "      <th>condition</th>\n",
       "      <th>cylinders</th>\n",
       "      <th>fuel</th>\n",
       "      <th>odometer</th>\n",
       "      <th>title_status</th>\n",
       "      <th>transmission</th>\n",
       "      <th>drive</th>\n",
       "      <th>type</th>\n",
       "      <th>state</th>\n",
       "    </tr>\n",
       "  </thead>\n",
       "  <tbody>\n",
       "  </tbody>\n",
       "</table>\n",
       "</div>"
      ]
     },
     "execution_count": 1053,
     "metadata": {},
     "output_type": "execute_result"
    }
   ],
   "execution_count": 1053
  },
  {
   "metadata": {
    "ExecuteTime": {
     "end_time": "2025-09-16T19:33:08.221778Z",
     "start_time": "2025-09-16T19:33:08.199864Z"
    }
   },
   "cell_type": "code",
   "source": "working_df[working_df['odometer'] > 1e6]",
   "outputs": [
    {
     "data": {
      "text/plain": [
       "                         region  price    year   manufacturer  \\\n",
       "76874                    denver   2995  1999.0           audi   \n",
       "119725           treasure coast   1000  1992.0           ford   \n",
       "137441  spokane / coeur d'alene   3850  2002.0  mercedes-benz   \n",
       "144401       quad cities, IA/IL   7999  2012.0           ford   \n",
       "151648             indianapolis   6495  2010.0       chrysler   \n",
       "156057             cedar rapids   5999  2008.0           ford   \n",
       "176057              new orleans  15999  2013.0           ford   \n",
       "242659    raleigh / durham / CH  10900  2011.0            bmw   \n",
       "328533                     erie    600  1981.0           ford   \n",
       "334534             philadelphia   2946  1964.0          buick   \n",
       "353492               cookeville   5000  1970.0      chevrolet   \n",
       "355243                knoxville   2650  1999.0          buick   \n",
       "369958      dallas / fort worth  18000  1961.0           ford   \n",
       "385754         ogden-clearfield   5000  2004.0        lincoln   \n",
       "391670             harrisonburg   2250  2003.0           ford   \n",
       "396317                 richmond  11495  2000.0           ford   \n",
       "417643                green bay  39500  1958.0      chevrolet   \n",
       "\n",
       "                         model  condition    cylinders    fuel   odometer  \\\n",
       "76874                       a4       good  6 cylinders     gas  2319010.0   \n",
       "119725            f150 longbed    salvage  6 cylinders     gas  3000000.0   \n",
       "137441                  ml-500  excellent  8 cylinders     gas  1111111.0   \n",
       "144401                  escape       good  6 cylinders     gas  1096000.0   \n",
       "151648    town country touring       good  6 cylinders     gas  1200290.0   \n",
       "156057          escape limited  excellent  6 cylinders     gas  1130401.0   \n",
       "176057                   f-150  excellent  8 cylinders     gas  1701289.0   \n",
       "242659                      x5  excellent  6 cylinders  diesel  1320000.0   \n",
       "328533                   f-150       fair  8 cylinders     gas  9999999.0   \n",
       "334534                   wagon       fair  8 cylinders     gas  9999999.0   \n",
       "353492                 c10 cst       fair  8 cylinders     gas  9999999.0   \n",
       "355243               regal gse       good  6 cylinders     gas  9999999.0   \n",
       "369958                 galaxie       good  8 cylinders     gas  1111111.0   \n",
       "385754                town car  excellent  8 cylinders     gas  1422929.0   \n",
       "391670        explorer xlt 4wd       good  4 cylinders     gas  1795320.0   \n",
       "396317  mustang gt convertible       good  8 cylinders     gas  1000011.0   \n",
       "417643                  impala       good  8 cylinders     gas  1710000.0   \n",
       "\n",
       "       title_status transmission drive         type state  \n",
       "76874         clean    automatic   4wd        sedan    co  \n",
       "119725        clean       manual   rwd        truck    fl  \n",
       "137441        clean    automatic   4wd          SUV    id  \n",
       "144401        clean    automatic   4wd          SUV    il  \n",
       "151648        clean    automatic   fwd     mini-van    in  \n",
       "156057        clean    automatic   4wd          SUV    ia  \n",
       "176057         lien    automatic   rwd        truck    la  \n",
       "242659        clean    automatic   4wd          SUV    nc  \n",
       "328533        clean       manual   rwd        truck    pa  \n",
       "334534        clean       manual   rwd        wagon    pa  \n",
       "353492        clean    automatic   rwd       pickup    tn  \n",
       "355243        clean    automatic   fwd        sedan    tn  \n",
       "369958        clean       manual   rwd        coupe    tx  \n",
       "385754        clean    automatic   rwd        sedan    ut  \n",
       "391670        clean    automatic   4wd          SUV    va  \n",
       "396317        clean    automatic   rwd  convertible    va  \n",
       "417643        clean    automatic   rwd        coupe    wi  "
      ],
      "text/html": [
       "<div>\n",
       "<style scoped>\n",
       "    .dataframe tbody tr th:only-of-type {\n",
       "        vertical-align: middle;\n",
       "    }\n",
       "\n",
       "    .dataframe tbody tr th {\n",
       "        vertical-align: top;\n",
       "    }\n",
       "\n",
       "    .dataframe thead th {\n",
       "        text-align: right;\n",
       "    }\n",
       "</style>\n",
       "<table border=\"1\" class=\"dataframe\">\n",
       "  <thead>\n",
       "    <tr style=\"text-align: right;\">\n",
       "      <th></th>\n",
       "      <th>region</th>\n",
       "      <th>price</th>\n",
       "      <th>year</th>\n",
       "      <th>manufacturer</th>\n",
       "      <th>model</th>\n",
       "      <th>condition</th>\n",
       "      <th>cylinders</th>\n",
       "      <th>fuel</th>\n",
       "      <th>odometer</th>\n",
       "      <th>title_status</th>\n",
       "      <th>transmission</th>\n",
       "      <th>drive</th>\n",
       "      <th>type</th>\n",
       "      <th>state</th>\n",
       "    </tr>\n",
       "  </thead>\n",
       "  <tbody>\n",
       "    <tr>\n",
       "      <th>76874</th>\n",
       "      <td>denver</td>\n",
       "      <td>2995</td>\n",
       "      <td>1999.0</td>\n",
       "      <td>audi</td>\n",
       "      <td>a4</td>\n",
       "      <td>good</td>\n",
       "      <td>6 cylinders</td>\n",
       "      <td>gas</td>\n",
       "      <td>2319010.0</td>\n",
       "      <td>clean</td>\n",
       "      <td>automatic</td>\n",
       "      <td>4wd</td>\n",
       "      <td>sedan</td>\n",
       "      <td>co</td>\n",
       "    </tr>\n",
       "    <tr>\n",
       "      <th>119725</th>\n",
       "      <td>treasure coast</td>\n",
       "      <td>1000</td>\n",
       "      <td>1992.0</td>\n",
       "      <td>ford</td>\n",
       "      <td>f150 longbed</td>\n",
       "      <td>salvage</td>\n",
       "      <td>6 cylinders</td>\n",
       "      <td>gas</td>\n",
       "      <td>3000000.0</td>\n",
       "      <td>clean</td>\n",
       "      <td>manual</td>\n",
       "      <td>rwd</td>\n",
       "      <td>truck</td>\n",
       "      <td>fl</td>\n",
       "    </tr>\n",
       "    <tr>\n",
       "      <th>137441</th>\n",
       "      <td>spokane / coeur d'alene</td>\n",
       "      <td>3850</td>\n",
       "      <td>2002.0</td>\n",
       "      <td>mercedes-benz</td>\n",
       "      <td>ml-500</td>\n",
       "      <td>excellent</td>\n",
       "      <td>8 cylinders</td>\n",
       "      <td>gas</td>\n",
       "      <td>1111111.0</td>\n",
       "      <td>clean</td>\n",
       "      <td>automatic</td>\n",
       "      <td>4wd</td>\n",
       "      <td>SUV</td>\n",
       "      <td>id</td>\n",
       "    </tr>\n",
       "    <tr>\n",
       "      <th>144401</th>\n",
       "      <td>quad cities, IA/IL</td>\n",
       "      <td>7999</td>\n",
       "      <td>2012.0</td>\n",
       "      <td>ford</td>\n",
       "      <td>escape</td>\n",
       "      <td>good</td>\n",
       "      <td>6 cylinders</td>\n",
       "      <td>gas</td>\n",
       "      <td>1096000.0</td>\n",
       "      <td>clean</td>\n",
       "      <td>automatic</td>\n",
       "      <td>4wd</td>\n",
       "      <td>SUV</td>\n",
       "      <td>il</td>\n",
       "    </tr>\n",
       "    <tr>\n",
       "      <th>151648</th>\n",
       "      <td>indianapolis</td>\n",
       "      <td>6495</td>\n",
       "      <td>2010.0</td>\n",
       "      <td>chrysler</td>\n",
       "      <td>town country touring</td>\n",
       "      <td>good</td>\n",
       "      <td>6 cylinders</td>\n",
       "      <td>gas</td>\n",
       "      <td>1200290.0</td>\n",
       "      <td>clean</td>\n",
       "      <td>automatic</td>\n",
       "      <td>fwd</td>\n",
       "      <td>mini-van</td>\n",
       "      <td>in</td>\n",
       "    </tr>\n",
       "    <tr>\n",
       "      <th>156057</th>\n",
       "      <td>cedar rapids</td>\n",
       "      <td>5999</td>\n",
       "      <td>2008.0</td>\n",
       "      <td>ford</td>\n",
       "      <td>escape limited</td>\n",
       "      <td>excellent</td>\n",
       "      <td>6 cylinders</td>\n",
       "      <td>gas</td>\n",
       "      <td>1130401.0</td>\n",
       "      <td>clean</td>\n",
       "      <td>automatic</td>\n",
       "      <td>4wd</td>\n",
       "      <td>SUV</td>\n",
       "      <td>ia</td>\n",
       "    </tr>\n",
       "    <tr>\n",
       "      <th>176057</th>\n",
       "      <td>new orleans</td>\n",
       "      <td>15999</td>\n",
       "      <td>2013.0</td>\n",
       "      <td>ford</td>\n",
       "      <td>f-150</td>\n",
       "      <td>excellent</td>\n",
       "      <td>8 cylinders</td>\n",
       "      <td>gas</td>\n",
       "      <td>1701289.0</td>\n",
       "      <td>lien</td>\n",
       "      <td>automatic</td>\n",
       "      <td>rwd</td>\n",
       "      <td>truck</td>\n",
       "      <td>la</td>\n",
       "    </tr>\n",
       "    <tr>\n",
       "      <th>242659</th>\n",
       "      <td>raleigh / durham / CH</td>\n",
       "      <td>10900</td>\n",
       "      <td>2011.0</td>\n",
       "      <td>bmw</td>\n",
       "      <td>x5</td>\n",
       "      <td>excellent</td>\n",
       "      <td>6 cylinders</td>\n",
       "      <td>diesel</td>\n",
       "      <td>1320000.0</td>\n",
       "      <td>clean</td>\n",
       "      <td>automatic</td>\n",
       "      <td>4wd</td>\n",
       "      <td>SUV</td>\n",
       "      <td>nc</td>\n",
       "    </tr>\n",
       "    <tr>\n",
       "      <th>328533</th>\n",
       "      <td>erie</td>\n",
       "      <td>600</td>\n",
       "      <td>1981.0</td>\n",
       "      <td>ford</td>\n",
       "      <td>f-150</td>\n",
       "      <td>fair</td>\n",
       "      <td>8 cylinders</td>\n",
       "      <td>gas</td>\n",
       "      <td>9999999.0</td>\n",
       "      <td>clean</td>\n",
       "      <td>manual</td>\n",
       "      <td>rwd</td>\n",
       "      <td>truck</td>\n",
       "      <td>pa</td>\n",
       "    </tr>\n",
       "    <tr>\n",
       "      <th>334534</th>\n",
       "      <td>philadelphia</td>\n",
       "      <td>2946</td>\n",
       "      <td>1964.0</td>\n",
       "      <td>buick</td>\n",
       "      <td>wagon</td>\n",
       "      <td>fair</td>\n",
       "      <td>8 cylinders</td>\n",
       "      <td>gas</td>\n",
       "      <td>9999999.0</td>\n",
       "      <td>clean</td>\n",
       "      <td>manual</td>\n",
       "      <td>rwd</td>\n",
       "      <td>wagon</td>\n",
       "      <td>pa</td>\n",
       "    </tr>\n",
       "    <tr>\n",
       "      <th>353492</th>\n",
       "      <td>cookeville</td>\n",
       "      <td>5000</td>\n",
       "      <td>1970.0</td>\n",
       "      <td>chevrolet</td>\n",
       "      <td>c10 cst</td>\n",
       "      <td>fair</td>\n",
       "      <td>8 cylinders</td>\n",
       "      <td>gas</td>\n",
       "      <td>9999999.0</td>\n",
       "      <td>clean</td>\n",
       "      <td>automatic</td>\n",
       "      <td>rwd</td>\n",
       "      <td>pickup</td>\n",
       "      <td>tn</td>\n",
       "    </tr>\n",
       "    <tr>\n",
       "      <th>355243</th>\n",
       "      <td>knoxville</td>\n",
       "      <td>2650</td>\n",
       "      <td>1999.0</td>\n",
       "      <td>buick</td>\n",
       "      <td>regal gse</td>\n",
       "      <td>good</td>\n",
       "      <td>6 cylinders</td>\n",
       "      <td>gas</td>\n",
       "      <td>9999999.0</td>\n",
       "      <td>clean</td>\n",
       "      <td>automatic</td>\n",
       "      <td>fwd</td>\n",
       "      <td>sedan</td>\n",
       "      <td>tn</td>\n",
       "    </tr>\n",
       "    <tr>\n",
       "      <th>369958</th>\n",
       "      <td>dallas / fort worth</td>\n",
       "      <td>18000</td>\n",
       "      <td>1961.0</td>\n",
       "      <td>ford</td>\n",
       "      <td>galaxie</td>\n",
       "      <td>good</td>\n",
       "      <td>8 cylinders</td>\n",
       "      <td>gas</td>\n",
       "      <td>1111111.0</td>\n",
       "      <td>clean</td>\n",
       "      <td>manual</td>\n",
       "      <td>rwd</td>\n",
       "      <td>coupe</td>\n",
       "      <td>tx</td>\n",
       "    </tr>\n",
       "    <tr>\n",
       "      <th>385754</th>\n",
       "      <td>ogden-clearfield</td>\n",
       "      <td>5000</td>\n",
       "      <td>2004.0</td>\n",
       "      <td>lincoln</td>\n",
       "      <td>town car</td>\n",
       "      <td>excellent</td>\n",
       "      <td>8 cylinders</td>\n",
       "      <td>gas</td>\n",
       "      <td>1422929.0</td>\n",
       "      <td>clean</td>\n",
       "      <td>automatic</td>\n",
       "      <td>rwd</td>\n",
       "      <td>sedan</td>\n",
       "      <td>ut</td>\n",
       "    </tr>\n",
       "    <tr>\n",
       "      <th>391670</th>\n",
       "      <td>harrisonburg</td>\n",
       "      <td>2250</td>\n",
       "      <td>2003.0</td>\n",
       "      <td>ford</td>\n",
       "      <td>explorer xlt 4wd</td>\n",
       "      <td>good</td>\n",
       "      <td>4 cylinders</td>\n",
       "      <td>gas</td>\n",
       "      <td>1795320.0</td>\n",
       "      <td>clean</td>\n",
       "      <td>automatic</td>\n",
       "      <td>4wd</td>\n",
       "      <td>SUV</td>\n",
       "      <td>va</td>\n",
       "    </tr>\n",
       "    <tr>\n",
       "      <th>396317</th>\n",
       "      <td>richmond</td>\n",
       "      <td>11495</td>\n",
       "      <td>2000.0</td>\n",
       "      <td>ford</td>\n",
       "      <td>mustang gt convertible</td>\n",
       "      <td>good</td>\n",
       "      <td>8 cylinders</td>\n",
       "      <td>gas</td>\n",
       "      <td>1000011.0</td>\n",
       "      <td>clean</td>\n",
       "      <td>automatic</td>\n",
       "      <td>rwd</td>\n",
       "      <td>convertible</td>\n",
       "      <td>va</td>\n",
       "    </tr>\n",
       "    <tr>\n",
       "      <th>417643</th>\n",
       "      <td>green bay</td>\n",
       "      <td>39500</td>\n",
       "      <td>1958.0</td>\n",
       "      <td>chevrolet</td>\n",
       "      <td>impala</td>\n",
       "      <td>good</td>\n",
       "      <td>8 cylinders</td>\n",
       "      <td>gas</td>\n",
       "      <td>1710000.0</td>\n",
       "      <td>clean</td>\n",
       "      <td>automatic</td>\n",
       "      <td>rwd</td>\n",
       "      <td>coupe</td>\n",
       "      <td>wi</td>\n",
       "    </tr>\n",
       "  </tbody>\n",
       "</table>\n",
       "</div>"
      ]
     },
     "execution_count": 1054,
     "metadata": {},
     "output_type": "execute_result"
    }
   ],
   "execution_count": 1054
  },
  {
   "metadata": {},
   "cell_type": "markdown",
   "source": "SETTING LIMITS ON PRICE AND ODOMETER VALUES"
  },
  {
   "metadata": {
    "ExecuteTime": {
     "end_time": "2025-09-16T19:33:08.440275Z",
     "start_time": "2025-09-16T19:33:08.416087Z"
    }
   },
   "cell_type": "code",
   "source": [
    "# Dropping the insaaaaane prices\n",
    "working_df = working_df[working_df['price'] <= 1e6]"
   ],
   "outputs": [],
   "execution_count": 1055
  },
  {
   "metadata": {
    "ExecuteTime": {
     "end_time": "2025-09-16T19:33:08.605368Z",
     "start_time": "2025-09-16T19:33:08.595021Z"
    }
   },
   "cell_type": "code",
   "source": [
    "# and the 10M mile van has to go too.  The remaining high-mileages are all plausible\n",
    "working_df = working_df[working_df['odometer'] <= 1e6]"
   ],
   "outputs": [],
   "execution_count": 1056
  },
  {
   "metadata": {
    "ExecuteTime": {
     "end_time": "2025-09-16T19:33:08.656740Z",
     "start_time": "2025-09-16T19:33:08.641105Z"
    }
   },
   "cell_type": "code",
   "source": [
    "working_df.reset_index(drop=True, inplace=True)\n",
    "working_df.head()"
   ],
   "outputs": [
    {
     "data": {
      "text/plain": [
       "   region  price    year manufacturer                        model  condition  \\\n",
       "0  auburn  15000  2013.0         ford                    f-150 xlt  excellent   \n",
       "1  auburn  27990  2012.0          gmc  sierra 2500 hd extended cab       good   \n",
       "2  auburn  34590  2016.0    chevrolet        silverado 1500 double       good   \n",
       "3  auburn  29990  2016.0    chevrolet        colorado extended cab       good   \n",
       "4  auburn  38590  2011.0    chevrolet         corvette grand sport       good   \n",
       "\n",
       "     cylinders fuel  odometer title_status transmission drive    type state  \n",
       "0  6 cylinders  gas  128000.0        clean    automatic   rwd   truck    al  \n",
       "1  8 cylinders  gas   68696.0        clean        other   4wd  pickup    al  \n",
       "2  6 cylinders  gas   29499.0        clean        other   4wd  pickup    al  \n",
       "3  6 cylinders  gas   17302.0        clean        other   4wd  pickup    al  \n",
       "4  8 cylinders  gas   30237.0        clean        other   rwd   other    al  "
      ],
      "text/html": [
       "<div>\n",
       "<style scoped>\n",
       "    .dataframe tbody tr th:only-of-type {\n",
       "        vertical-align: middle;\n",
       "    }\n",
       "\n",
       "    .dataframe tbody tr th {\n",
       "        vertical-align: top;\n",
       "    }\n",
       "\n",
       "    .dataframe thead th {\n",
       "        text-align: right;\n",
       "    }\n",
       "</style>\n",
       "<table border=\"1\" class=\"dataframe\">\n",
       "  <thead>\n",
       "    <tr style=\"text-align: right;\">\n",
       "      <th></th>\n",
       "      <th>region</th>\n",
       "      <th>price</th>\n",
       "      <th>year</th>\n",
       "      <th>manufacturer</th>\n",
       "      <th>model</th>\n",
       "      <th>condition</th>\n",
       "      <th>cylinders</th>\n",
       "      <th>fuel</th>\n",
       "      <th>odometer</th>\n",
       "      <th>title_status</th>\n",
       "      <th>transmission</th>\n",
       "      <th>drive</th>\n",
       "      <th>type</th>\n",
       "      <th>state</th>\n",
       "    </tr>\n",
       "  </thead>\n",
       "  <tbody>\n",
       "    <tr>\n",
       "      <th>0</th>\n",
       "      <td>auburn</td>\n",
       "      <td>15000</td>\n",
       "      <td>2013.0</td>\n",
       "      <td>ford</td>\n",
       "      <td>f-150 xlt</td>\n",
       "      <td>excellent</td>\n",
       "      <td>6 cylinders</td>\n",
       "      <td>gas</td>\n",
       "      <td>128000.0</td>\n",
       "      <td>clean</td>\n",
       "      <td>automatic</td>\n",
       "      <td>rwd</td>\n",
       "      <td>truck</td>\n",
       "      <td>al</td>\n",
       "    </tr>\n",
       "    <tr>\n",
       "      <th>1</th>\n",
       "      <td>auburn</td>\n",
       "      <td>27990</td>\n",
       "      <td>2012.0</td>\n",
       "      <td>gmc</td>\n",
       "      <td>sierra 2500 hd extended cab</td>\n",
       "      <td>good</td>\n",
       "      <td>8 cylinders</td>\n",
       "      <td>gas</td>\n",
       "      <td>68696.0</td>\n",
       "      <td>clean</td>\n",
       "      <td>other</td>\n",
       "      <td>4wd</td>\n",
       "      <td>pickup</td>\n",
       "      <td>al</td>\n",
       "    </tr>\n",
       "    <tr>\n",
       "      <th>2</th>\n",
       "      <td>auburn</td>\n",
       "      <td>34590</td>\n",
       "      <td>2016.0</td>\n",
       "      <td>chevrolet</td>\n",
       "      <td>silverado 1500 double</td>\n",
       "      <td>good</td>\n",
       "      <td>6 cylinders</td>\n",
       "      <td>gas</td>\n",
       "      <td>29499.0</td>\n",
       "      <td>clean</td>\n",
       "      <td>other</td>\n",
       "      <td>4wd</td>\n",
       "      <td>pickup</td>\n",
       "      <td>al</td>\n",
       "    </tr>\n",
       "    <tr>\n",
       "      <th>3</th>\n",
       "      <td>auburn</td>\n",
       "      <td>29990</td>\n",
       "      <td>2016.0</td>\n",
       "      <td>chevrolet</td>\n",
       "      <td>colorado extended cab</td>\n",
       "      <td>good</td>\n",
       "      <td>6 cylinders</td>\n",
       "      <td>gas</td>\n",
       "      <td>17302.0</td>\n",
       "      <td>clean</td>\n",
       "      <td>other</td>\n",
       "      <td>4wd</td>\n",
       "      <td>pickup</td>\n",
       "      <td>al</td>\n",
       "    </tr>\n",
       "    <tr>\n",
       "      <th>4</th>\n",
       "      <td>auburn</td>\n",
       "      <td>38590</td>\n",
       "      <td>2011.0</td>\n",
       "      <td>chevrolet</td>\n",
       "      <td>corvette grand sport</td>\n",
       "      <td>good</td>\n",
       "      <td>8 cylinders</td>\n",
       "      <td>gas</td>\n",
       "      <td>30237.0</td>\n",
       "      <td>clean</td>\n",
       "      <td>other</td>\n",
       "      <td>rwd</td>\n",
       "      <td>other</td>\n",
       "      <td>al</td>\n",
       "    </tr>\n",
       "  </tbody>\n",
       "</table>\n",
       "</div>"
      ]
     },
     "execution_count": 1057,
     "metadata": {},
     "output_type": "execute_result"
    }
   ],
   "execution_count": 1057
  },
  {
   "metadata": {
    "ExecuteTime": {
     "end_time": "2025-09-16T19:33:08.782440Z",
     "start_time": "2025-09-16T19:33:08.743646Z"
    }
   },
   "cell_type": "code",
   "source": [
    "# A little pre-visualization feature engineering is necessary to expose useful numeric values hidden in strings and to look for high cardinality features to handle\n",
    "def get_unique_values_by_column(dframe):\n",
    "    for col in dframe.select_dtypes(include='object').columns:\n",
    "        unique_vals = dframe[col].dropna().unique()\n",
    "        print(f\"{col} ({len(unique_vals)} unique):\")\n",
    "        print(unique_vals[:41])\n",
    "        print(\"-\" * 40)\n",
    "get_unique_values_by_column(working_df)"
   ],
   "outputs": [
    {
     "name": "stdout",
     "output_type": "stream",
     "text": [
      "region (392 unique):\n",
      "['auburn' 'birmingham' 'dothan' 'florence / muscle shoals'\n",
      " 'gadsden-anniston' 'huntsville / decatur' 'mobile' 'montgomery'\n",
      " 'tuscaloosa' 'anchorage / mat-su' 'fairbanks' 'kenai peninsula'\n",
      " 'southeast alaska' 'flagstaff / sedona' 'mohave county' 'phoenix'\n",
      " 'prescott' 'show low' 'sierra vista' 'tucson' 'yuma' 'fayetteville'\n",
      " 'fort smith' 'jonesboro' 'little rock' 'texarkana' 'bakersfield' 'chico'\n",
      " 'fresno / madera' 'gold country' 'hanford-corcoran' 'humboldt county'\n",
      " 'imperial county' 'inland empire' 'los angeles' 'mendocino county'\n",
      " 'merced' 'modesto' 'monterey bay' 'orange county' 'palm springs']\n",
      "----------------------------------------\n",
      "manufacturer (41 unique):\n",
      "['ford' 'gmc' 'chevrolet' 'jeep' 'nissan' 'toyota' 'ram' 'infiniti'\n",
      " 'chrysler' 'bmw' 'mazda' 'mercedes-benz' 'ferrari' 'lexus' 'audi'\n",
      " 'mitsubishi' 'dodge' 'volkswagen' 'honda' 'hyundai' 'fiat' 'kia'\n",
      " 'cadillac' 'rover' 'jaguar' 'lincoln' 'mini' 'volvo' 'buick' 'acura'\n",
      " 'subaru' 'porsche' 'alfa-romeo' 'saturn' 'tesla' 'harley-davidson'\n",
      " 'pontiac' 'mercury' 'datsun' 'aston-martin' 'land rover']\n",
      "----------------------------------------\n",
      "model (6783 unique):\n",
      "['f-150 xlt' 'sierra 2500 hd extended cab' 'silverado 1500 double'\n",
      " 'colorado extended cab' 'corvette grand sport' 'wrangler unlimited sport'\n",
      " 'camaro ss coupe 2d' 'frontier crew cab pro-4x' 'mustang gt premium'\n",
      " 'tundra double cab pickup' 'wrangler unlimited sahara'\n",
      " 'expedition xlt sport' 'wrangler sport suv 2d' 'tacoma double cab pickup'\n",
      " '1500 crew cab tradesman' 'sierra 1500 limited double'\n",
      " 'f250 super duty regular cab' 'wrangler unlimited willys'\n",
      " 'wrangler unlimited rubicon' 'wrangler unlimited all new'\n",
      " 'acadia sle-2 sport utility' 'acadia slt-1 sport utility'\n",
      " 'express cargo van' 'qx60 luxe sport utility' '300 limited sedan 4d'\n",
      " 'titan single cab sv' 'sentra' 'echo' '525i' 'silverado 1500'\n",
      " 'corvette convertible' 'miata mx-5' 'wrangler sport s utility 2d'\n",
      " 'mustang gt premium coupe 2d' 'f-150' 'benz' '360 modena' 'benz c350'\n",
      " 'rx350' 'tahoe' 'q7']\n",
      "----------------------------------------\n",
      "condition (6 unique):\n",
      "['excellent' 'good' 'like new' 'fair' 'new' 'salvage']\n",
      "----------------------------------------\n",
      "cylinders (8 unique):\n",
      "['6 cylinders' '8 cylinders' '4 cylinders' '5 cylinders' '10 cylinders'\n",
      " '3 cylinders' 'other' '12 cylinders']\n",
      "----------------------------------------\n",
      "fuel (5 unique):\n",
      "['gas' 'other' 'hybrid' 'diesel' 'electric']\n",
      "----------------------------------------\n",
      "title_status (6 unique):\n",
      "['clean' 'rebuilt' 'salvage' 'lien' 'missing' 'parts only']\n",
      "----------------------------------------\n",
      "transmission (3 unique):\n",
      "['automatic' 'other' 'manual']\n",
      "----------------------------------------\n",
      "drive (3 unique):\n",
      "['rwd' '4wd' 'fwd']\n",
      "----------------------------------------\n",
      "type (13 unique):\n",
      "['truck' 'pickup' 'other' 'coupe' 'SUV' 'van' 'sedan' 'convertible'\n",
      " 'hatchback' 'wagon' 'mini-van' 'offroad' 'bus']\n",
      "----------------------------------------\n",
      "state (51 unique):\n",
      "['al' 'ak' 'az' 'ar' 'ca' 'co' 'ct' 'dc' 'de' 'fl' 'ga' 'hi' 'id' 'il'\n",
      " 'in' 'ia' 'ks' 'ky' 'la' 'me' 'md' 'ma' 'mi' 'mn' 'ms' 'mo' 'mt' 'nc'\n",
      " 'ne' 'nv' 'nj' 'nm' 'ny' 'nh' 'nd' 'oh' 'ok' 'or' 'pa' 'ri' 'sc']\n",
      "----------------------------------------\n"
     ]
    }
   ],
   "execution_count": 1058
  },
  {
   "metadata": {},
   "cell_type": "markdown",
   "source": [
    "## The DATA CLEANING way ahead with rationale:\n",
    "region drop, too specific, too much to encode + too many questions <br>\n",
    "manufacturer keep, Group by global region European, American, Japanese, Asian, etc then encode as nominal <br>\n",
    "model drop, too much to encode <br>\n",
    "condition  keep and encode as ordinal <br>\n",
    "cylinders   check counts of \"other\", convert to int feature <br>\n",
    "fuel   keep and encode as nominal <br>\n",
    "title_status  keep and encode as nominal <br>\n",
    "transmission  keep and encode as nominal <br>\n",
    "drive  keep and encode as nominal <br>\n",
    "type  keep, histogram value counts for shrinking this feature,  encode as norminal (be prepared to circle back an redo this step with a lesser top # collapse applied) <br>\n",
    "state (51 unique) keep, convert states to region map grouping, encode as nominal <br>"
   ]
  },
  {
   "metadata": {},
   "cell_type": "markdown",
   "source": "DROP TWO"
  },
  {
   "metadata": {
    "ExecuteTime": {
     "end_time": "2025-09-16T19:33:08.892440Z",
     "start_time": "2025-09-16T19:33:08.882685Z"
    }
   },
   "cell_type": "code",
   "source": [
    "working_df.drop(columns=[\"region\", \"model\"], inplace=True)\n",
    "# working_df.info()"
   ],
   "outputs": [],
   "execution_count": 1059
  },
  {
   "metadata": {},
   "cell_type": "markdown",
   "source": "GROUP MANUFACTURERS"
  },
  {
   "metadata": {
    "ExecuteTime": {
     "end_time": "2025-09-16T19:33:08.945029Z",
     "start_time": "2025-09-16T19:33:08.931526Z"
    }
   },
   "cell_type": "code",
   "source": [
    "american = [\n",
    "    \"gmc\", \"chevrolet\", \"ford\", \"jeep\", \"ram\", \"cadillac\", \"buick\",\n",
    "    \"lincoln\", \"chrysler\", \"dodge\", \"pontiac\", \"mercury\", \"saturn\",\n",
    "    \"tesla\", \"harley-davidson\"]\n",
    "\n",
    "japanese = [\n",
    "    \"toyota\", \"nissan\", \"mazda\", \"honda\", \"lexus\", \"acura\", \"subaru\",\n",
    "    \"mitsubishi\", \"infiniti\", \"datsun\"]\n",
    "\n",
    "asian = [\n",
    "    \"hyundai\", \"kia\"]\n",
    "\n",
    "european = [\n",
    "    \"volvo\", \"audi\", \"bmw\", \"mercedes-benz\", \"porsche\", \"fiat\",\n",
    "    \"jaguar\", \"mini\", \"rover\", \"land rover\", \"alfa-romeo\",\n",
    "    \"aston-martin\", \"ferrari\", \"volkswagen\"]\n"
   ],
   "outputs": [],
   "execution_count": 1060
  },
  {
   "metadata": {
    "ExecuteTime": {
     "end_time": "2025-09-16T19:33:09.031570Z",
     "start_time": "2025-09-16T19:33:09.001759Z"
    }
   },
   "cell_type": "code",
   "source": [
    "manufacturer_region = {}\n",
    "\n",
    "for brand in american:\n",
    "    manufacturer_region[brand] = \"american\"\n",
    "for brand in japanese:\n",
    "    manufacturer_region[brand] = \"japanese\"\n",
    "for brand in asian:\n",
    "    manufacturer_region[brand] = \"asian\"\n",
    "for brand in european:\n",
    "    manufacturer_region[brand] = \"european\"\n",
    "\n",
    "working_df['manufacturer_region'] = working_df['manufacturer'].map(manufacturer_region)\n",
    "working_df.drop(columns=['manufacturer'], inplace=True)\n",
    "working_df.info()"
   ],
   "outputs": [
    {
     "name": "stdout",
     "output_type": "stream",
     "text": [
      "<class 'pandas.core.frame.DataFrame'>\n",
      "RangeIndex: 34680 entries, 0 to 34679\n",
      "Data columns (total 12 columns):\n",
      " #   Column               Non-Null Count  Dtype  \n",
      "---  ------               --------------  -----  \n",
      " 0   price                34680 non-null  int64  \n",
      " 1   year                 34680 non-null  float64\n",
      " 2   condition            34680 non-null  object \n",
      " 3   cylinders            34680 non-null  object \n",
      " 4   fuel                 34680 non-null  object \n",
      " 5   odometer             34680 non-null  float64\n",
      " 6   title_status         34680 non-null  object \n",
      " 7   transmission         34680 non-null  object \n",
      " 8   drive                34680 non-null  object \n",
      " 9   type                 34680 non-null  object \n",
      " 10  state                34680 non-null  object \n",
      " 11  manufacturer_region  34680 non-null  object \n",
      "dtypes: float64(2), int64(1), object(9)\n",
      "memory usage: 3.2+ MB\n"
     ]
    }
   ],
   "execution_count": 1061
  },
  {
   "metadata": {},
   "cell_type": "markdown",
   "source": "CONVERT CYLINDERS TO NUMERIC"
  },
  {
   "metadata": {
    "ExecuteTime": {
     "end_time": "2025-09-16T19:33:09.070155Z",
     "start_time": "2025-09-16T19:33:09.052124Z"
    }
   },
   "cell_type": "code",
   "source": [
    "cond = (working_df.fuel == \"other\")\n",
    "len(pd.DataFrame(working_df[cond]))"
   ],
   "outputs": [
    {
     "data": {
      "text/plain": [
       "550"
      ]
     },
     "execution_count": 1062,
     "metadata": {},
     "output_type": "execute_result"
    }
   ],
   "execution_count": 1062
  },
  {
   "metadata": {
    "ExecuteTime": {
     "end_time": "2025-09-16T19:33:09.112892Z",
     "start_time": "2025-09-16T19:33:09.084155Z"
    }
   },
   "cell_type": "code",
   "source": [
    "cond = (working_df.cylinders == \"other\")\n",
    "len(pd.DataFrame(working_df[cond]))"
   ],
   "outputs": [
    {
     "data": {
      "text/plain": [
       "88"
      ]
     },
     "execution_count": 1063,
     "metadata": {},
     "output_type": "execute_result"
    }
   ],
   "execution_count": 1063
  },
  {
   "metadata": {
    "ExecuteTime": {
     "end_time": "2025-09-16T19:33:09.144190Z",
     "start_time": "2025-09-16T19:33:09.122070Z"
    }
   },
   "cell_type": "code",
   "source": [
    "# Droping these 469 records wont hurt\n",
    "working_df = working_df[working_df['cylinders'] != 'other']\n",
    "working_df.info()"
   ],
   "outputs": [
    {
     "name": "stdout",
     "output_type": "stream",
     "text": [
      "<class 'pandas.core.frame.DataFrame'>\n",
      "Index: 34592 entries, 0 to 34679\n",
      "Data columns (total 12 columns):\n",
      " #   Column               Non-Null Count  Dtype  \n",
      "---  ------               --------------  -----  \n",
      " 0   price                34592 non-null  int64  \n",
      " 1   year                 34592 non-null  float64\n",
      " 2   condition            34592 non-null  object \n",
      " 3   cylinders            34592 non-null  object \n",
      " 4   fuel                 34592 non-null  object \n",
      " 5   odometer             34592 non-null  float64\n",
      " 6   title_status         34592 non-null  object \n",
      " 7   transmission         34592 non-null  object \n",
      " 8   drive                34592 non-null  object \n",
      " 9   type                 34592 non-null  object \n",
      " 10  state                34592 non-null  object \n",
      " 11  manufacturer_region  34592 non-null  object \n",
      "dtypes: float64(2), int64(1), object(9)\n",
      "memory usage: 3.4+ MB\n"
     ]
    }
   ],
   "execution_count": 1064
  },
  {
   "metadata": {
    "ExecuteTime": {
     "end_time": "2025-09-16T19:33:09.219990Z",
     "start_time": "2025-09-16T19:33:09.150432Z"
    }
   },
   "cell_type": "code",
   "source": [
    "working_df['cylinders'] = working_df['cylinders'].str.extract('(\\d+)').astype('int64')\n",
    "working_df.info()"
   ],
   "outputs": [
    {
     "name": "stdout",
     "output_type": "stream",
     "text": [
      "<class 'pandas.core.frame.DataFrame'>\n",
      "Index: 34592 entries, 0 to 34679\n",
      "Data columns (total 12 columns):\n",
      " #   Column               Non-Null Count  Dtype  \n",
      "---  ------               --------------  -----  \n",
      " 0   price                34592 non-null  int64  \n",
      " 1   year                 34592 non-null  float64\n",
      " 2   condition            34592 non-null  object \n",
      " 3   cylinders            34592 non-null  int64  \n",
      " 4   fuel                 34592 non-null  object \n",
      " 5   odometer             34592 non-null  float64\n",
      " 6   title_status         34592 non-null  object \n",
      " 7   transmission         34592 non-null  object \n",
      " 8   drive                34592 non-null  object \n",
      " 9   type                 34592 non-null  object \n",
      " 10  state                34592 non-null  object \n",
      " 11  manufacturer_region  34592 non-null  object \n",
      "dtypes: float64(2), int64(2), object(8)\n",
      "memory usage: 3.4+ MB\n"
     ]
    }
   ],
   "execution_count": 1065
  },
  {
   "metadata": {},
   "cell_type": "markdown",
   "source": "COLLAPSE THE TYPE FEATURE TO THE TOP N MOST COMMON VALUES"
  },
  {
   "metadata": {
    "ExecuteTime": {
     "end_time": "2025-09-16T19:33:09.265172Z",
     "start_time": "2025-09-16T19:33:09.231263Z"
    }
   },
   "cell_type": "code",
   "source": [
    "commonality_thresh = 10\n",
    "top_n = working_df['type'].value_counts().nlargest(commonality_thresh).index\n",
    "working_df['type'] = working_df['type'].apply(lambda x: x if x in top_n else 'other')\n",
    "working_df['type'] = working_df['type'].str.lower()"
   ],
   "outputs": [],
   "execution_count": 1066
  },
  {
   "metadata": {},
   "cell_type": "markdown",
   "source": "GROUP STATES BY NATIONAL REGION"
  },
  {
   "metadata": {
    "ExecuteTime": {
     "end_time": "2025-09-16T19:33:09.317481Z",
     "start_time": "2025-09-16T19:33:09.273139Z"
    }
   },
   "cell_type": "code",
   "source": [
    "region = {\n",
    "    \"South\": [\"wv\", \"dc\", \"md\", \"va\",\n",
    "              \"ky\", \"tn\", \"nc\", \"ms\",\n",
    "              \"ar\", \"la\", \"al\", \"ga\", \"sc\",\n",
    "              \"fl\", \"de\", \"pr\"],\n",
    "    \"Southwest\": [\"az\", \"nm\", \"ok\", \"tx\"],\n",
    "    \"West\": [\"wa\", \"or\", \"ca\", \"nv\", \"id\", \"mt\",\n",
    "             \"wy\", \"ut\", \"co\", \"ak\", \"hi\"],\n",
    "    \"Midwest\": [\"nd\", \"sd\", \"ne\", \"ks\", \"mn\",\n",
    "                \"ia\", \"mo\", \"wi\", \"il\", \"mi\", \"in\",\n",
    "                \"oh\"],\n",
    "    \"Northeast\": [\"me\", \"vt\", \"ny\", \"nh\", \"ma\",\n",
    "                  \"ri\", \"ct\", \"nj\", \"pa\"]\n",
    "}\n",
    "\n",
    "def get_region(state):\n",
    "    if state in region[\"South\"]:\n",
    "        return \"south\"\n",
    "    elif state in region[\"Southwest\"]:\n",
    "        return \"southwest\"\n",
    "    elif state in region[\"West\"]:\n",
    "        return \"west\"\n",
    "    elif state in region[\"Midwest\"]:\n",
    "        return \"midwest\"\n",
    "    elif state in region[\"Northeast\"]:\n",
    "        return \"northeast\"\n",
    "    else:\n",
    "        return \"unknown\"\n",
    "\n",
    "state_col = working_df[\"state\"].tolist()\n",
    "region_col = []\n",
    "for st in state_col:\n",
    "    region_col.append(get_region(st))\n",
    "working_df[\"title_region\"] = region_col\n",
    "working_df.drop(columns=[\"state\"], inplace=True)"
   ],
   "outputs": [],
   "execution_count": 1067
  },
  {
   "metadata": {
    "ExecuteTime": {
     "end_time": "2025-09-16T19:33:09.366618Z",
     "start_time": "2025-09-16T19:33:09.325304Z"
    }
   },
   "cell_type": "code",
   "source": [
    "working_df.info()\n",
    "get_unique_values_by_column(working_df)"
   ],
   "outputs": [
    {
     "name": "stdout",
     "output_type": "stream",
     "text": [
      "<class 'pandas.core.frame.DataFrame'>\n",
      "Index: 34592 entries, 0 to 34679\n",
      "Data columns (total 12 columns):\n",
      " #   Column               Non-Null Count  Dtype  \n",
      "---  ------               --------------  -----  \n",
      " 0   price                34592 non-null  int64  \n",
      " 1   year                 34592 non-null  float64\n",
      " 2   condition            34592 non-null  object \n",
      " 3   cylinders            34592 non-null  int64  \n",
      " 4   fuel                 34592 non-null  object \n",
      " 5   odometer             34592 non-null  float64\n",
      " 6   title_status         34592 non-null  object \n",
      " 7   transmission         34592 non-null  object \n",
      " 8   drive                34592 non-null  object \n",
      " 9   type                 34592 non-null  object \n",
      " 10  manufacturer_region  34592 non-null  object \n",
      " 11  title_region         34592 non-null  object \n",
      "dtypes: float64(2), int64(2), object(8)\n",
      "memory usage: 3.4+ MB\n",
      "condition (6 unique):\n",
      "['excellent' 'good' 'like new' 'fair' 'new' 'salvage']\n",
      "----------------------------------------\n",
      "fuel (5 unique):\n",
      "['gas' 'other' 'hybrid' 'diesel' 'electric']\n",
      "----------------------------------------\n",
      "title_status (6 unique):\n",
      "['clean' 'rebuilt' 'salvage' 'lien' 'missing' 'parts only']\n",
      "----------------------------------------\n",
      "transmission (3 unique):\n",
      "['automatic' 'other' 'manual']\n",
      "----------------------------------------\n",
      "drive (3 unique):\n",
      "['rwd' '4wd' 'fwd']\n",
      "----------------------------------------\n",
      "type (11 unique):\n",
      "['truck' 'pickup' 'other' 'coupe' 'suv' 'van' 'sedan' 'convertible'\n",
      " 'hatchback' 'wagon' 'mini-van']\n",
      "----------------------------------------\n",
      "manufacturer_region (4 unique):\n",
      "['american' 'japanese' 'european' 'asian']\n",
      "----------------------------------------\n",
      "title_region (5 unique):\n",
      "['south' 'west' 'southwest' 'northeast' 'midwest']\n",
      "----------------------------------------\n"
     ]
    }
   ],
   "execution_count": 1068
  },
  {
   "metadata": {},
   "cell_type": "markdown",
   "source": "VALIDATING PRICE AND ODO VALUES AGAINST THE PLOT"
  },
  {
   "metadata": {
    "ExecuteTime": {
     "end_time": "2025-09-16T19:33:09.398725Z",
     "start_time": "2025-09-16T19:33:09.388736Z"
    }
   },
   "cell_type": "code",
   "source": [
    "thresh_pool = [1e6, 7.5e5, 5e5, 4e5, 3e5, 2e5, 1e5]\n",
    "for thresh in thresh_pool:\n",
    "    print(len(working_df[working_df['price'] > thresh]))"
   ],
   "outputs": [
    {
     "name": "stdout",
     "output_type": "stream",
     "text": [
      "0\n",
      "0\n",
      "0\n",
      "0\n",
      "0\n",
      "0\n",
      "26\n"
     ]
    }
   ],
   "execution_count": 1069
  },
  {
   "metadata": {
    "ExecuteTime": {
     "end_time": "2025-09-16T19:33:09.442016Z",
     "start_time": "2025-09-16T19:33:09.419281Z"
    }
   },
   "cell_type": "code",
   "source": [
    "thresh_pool = [1e6, 7.5e5, 5e5, 4e5, 3e5, 2e5, 1e5]\n",
    "for thresh in thresh_pool:\n",
    "    print(len(working_df[working_df['odometer'] > thresh]))"
   ],
   "outputs": [
    {
     "name": "stdout",
     "output_type": "stream",
     "text": [
      "0\n",
      "7\n",
      "16\n",
      "23\n",
      "111\n",
      "1973\n",
      "18070\n"
     ]
    }
   ],
   "execution_count": 1070
  },
  {
   "metadata": {},
   "cell_type": "markdown",
   "source": "FEATURE VIZ"
  },
  {
   "metadata": {
    "ExecuteTime": {
     "end_time": "2025-09-17T00:37:02.717034Z",
     "start_time": "2025-09-17T00:36:54.093299Z"
    }
   },
   "cell_type": "code",
   "source": [
    "plt.figure(figsize=(18, 20))\n",
    "\n",
    "numeric_cols = ['price', 'year', 'odometer']\n",
    "categorical_cols = ['condition', 'cylinders', 'fuel', 'title_status', 'transmission',\n",
    "                    'drive', 'type', 'manufacturer_region', 'title_region']\n",
    "\n",
    "total_plots = len(numeric_cols) + len(categorical_cols)\n",
    "\n",
    "for idx, col in enumerate(numeric_cols + categorical_cols):\n",
    "    plt.subplot((total_plots + 2) // 3, 3, idx + 1)\n",
    "\n",
    "    if col in numeric_cols:\n",
    "        data = working_df[col]\n",
    "\n",
    "        # Apply log scale only to skewed numeric variables\n",
    "        if col in ['price', 'odometer']:\n",
    "            # Avoid log(0) issues\n",
    "            data = data[data > 0]\n",
    "            sns.histplot(data, kde=False, bins=\"sqrt\", color='black')\n",
    "            plt.xscale('log')\n",
    "            plt.xlabel(f\"{col} (log scale)\")\n",
    "        else:\n",
    "            sns.histplot(data, kde=False, bins=\"sqrt\", color='black')\n",
    "            plt.xlabel(col)\n",
    "\n",
    "        plt.ylabel('Frequency')\n",
    "        plt.title(f'Distribution of {col}')\n",
    "\n",
    "    else:\n",
    "        order = working_df[col].value_counts().index\n",
    "        sns.countplot(data=working_df, x=col, order=order, hue=col, palette='tab10', legend=False)\n",
    "        plt.xticks(rotation=45)\n",
    "        plt.ylabel('Count')\n",
    "        plt.title(f'Count of {col}')\n",
    "\n",
    "plt.tight_layout()\n",
    "plt.show()"
   ],
   "outputs": [
    {
     "data": {
      "text/plain": [
       "<Figure size 1800x2000 with 12 Axes>"
      ],
      "image/png": "[encoded data removed]"
     },
     "metadata": {},
     "output_type": "display_data",
     "jetTransient": {
      "display_id": null
     }
    }
   ],
   "execution_count": 1120
  },
  {
   "metadata": {},
   "cell_type": "code",
   "outputs": [],
   "execution_count": null,
   "source": "working_df.info()"
  },
  {
   "metadata": {},
   "cell_type": "markdown",
   "source": "FEATURE ENCODING"
  },
  {
   "metadata": {
    "ExecuteTime": {
     "end_time": "2025-09-16T19:33:14.171290Z",
     "start_time": "2025-09-16T19:33:14.151740Z"
    }
   },
   "cell_type": "code",
   "source": [
    "# ----- Columns -----\n",
    "ordinal_col = ['condition']\n",
    "ordinal_order = [['salvage', 'fair', 'good', 'excellent', 'like new', 'new']]\n",
    "\n",
    "nominal_cols = [\n",
    "    'fuel', 'title_status', 'transmission', 'drive',\n",
    "    'type', 'manufacturer_region', 'title_region'\n",
    "]\n",
    "\n",
    "numeric_cols = ['price', 'year', 'odometer', 'cylinders']\n",
    "\n",
    "# ----- Transformers -----\n",
    "ordinal_enc = OrdinalEncoder(categories=ordinal_order)\n",
    "nominal_enc = OneHotEncoder(handle_unknown='ignore', sparse_output=False)\n",
    "\n",
    "preprocessor = ColumnTransformer([\n",
    "    ('ordinal', ordinal_enc, ordinal_col),\n",
    "    ('nominal', nominal_enc, nominal_cols)\n",
    "], remainder='passthrough')  # keep numeric features\n",
    "\n",
    "# ----- Final pipeline -----\n",
    "full_pipeline = Pipeline([\n",
    "    ('encode', preprocessor)\n",
    "])\n",
    "\n",
    "# ----- Transform the dataset -----\n",
    "working_df_transformed = full_pipeline.fit_transform(working_df)\n",
    "\n",
    "# Get feature names\n",
    "encoded_cols = list(full_pipeline.named_steps['encode'].transformers_[1][1].get_feature_names_out(nominal_cols))\n",
    "final_columns = ordinal_col + encoded_cols + numeric_cols\n",
    "\n",
    "working_df_encoded = pd.DataFrame(working_df_transformed, columns=final_columns)"
   ],
   "outputs": [
    {
     "name": "stdout",
     "output_type": "stream",
     "text": [
      "<class 'pandas.core.frame.DataFrame'>\n",
      "RangeIndex: 34592 entries, 0 to 34591\n",
      "Data columns (total 42 columns):\n",
      " #   Column                        Non-Null Count  Dtype  \n",
      "---  ------                        --------------  -----  \n",
      " 0   condition                     34592 non-null  float64\n",
      " 1   fuel_diesel                   34592 non-null  float64\n",
      " 2   fuel_electric                 34592 non-null  float64\n",
      " 3   fuel_gas                      34592 non-null  float64\n",
      " 4   fuel_hybrid                   34592 non-null  float64\n",
      " 5   fuel_other                    34592 non-null  float64\n",
      " 6   title_status_clean            34592 non-null  float64\n",
      " 7   title_status_lien             34592 non-null  float64\n",
      " 8   title_status_missing          34592 non-null  float64\n",
      " 9   title_status_parts only       34592 non-null  float64\n",
      " 10  title_status_rebuilt          34592 non-null  float64\n",
      " 11  title_status_salvage          34592 non-null  float64\n",
      " 12  transmission_automatic        34592 non-null  float64\n",
      " 13  transmission_manual           34592 non-null  float64\n",
      " 14  transmission_other            34592 non-null  float64\n",
      " 15  drive_4wd                     34592 non-null  float64\n",
      " 16  drive_fwd                     34592 non-null  float64\n",
      " 17  drive_rwd                     34592 non-null  float64\n",
      " 18  type_convertible              34592 non-null  float64\n",
      " 19  type_coupe                    34592 non-null  float64\n",
      " 20  type_hatchback                34592 non-null  float64\n",
      " 21  type_mini-van                 34592 non-null  float64\n",
      " 22  type_other                    34592 non-null  float64\n",
      " 23  type_pickup                   34592 non-null  float64\n",
      " 24  type_sedan                    34592 non-null  float64\n",
      " 25  type_suv                      34592 non-null  float64\n",
      " 26  type_truck                    34592 non-null  float64\n",
      " 27  type_van                      34592 non-null  float64\n",
      " 28  type_wagon                    34592 non-null  float64\n",
      " 29  manufacturer_region_american  34592 non-null  float64\n",
      " 30  manufacturer_region_asian     34592 non-null  float64\n",
      " 31  manufacturer_region_european  34592 non-null  float64\n",
      " 32  manufacturer_region_japanese  34592 non-null  float64\n",
      " 33  title_region_midwest          34592 non-null  float64\n",
      " 34  title_region_northeast        34592 non-null  float64\n",
      " 35  title_region_south            34592 non-null  float64\n",
      " 36  title_region_southwest        34592 non-null  float64\n",
      " 37  title_region_west             34592 non-null  float64\n",
      " 38  price                         34592 non-null  float64\n",
      " 39  year                          34592 non-null  float64\n",
      " 40  odometer                      34592 non-null  float64\n",
      " 41  cylinders                     34592 non-null  float64\n",
      "dtypes: float64(42)\n",
      "memory usage: 11.1 MB\n"
     ]
    }
   ],
   "execution_count": 1074
  },
  {
   "metadata": {},
   "cell_type": "code",
   "outputs": [],
   "execution_count": null,
   "source": "working_df_encoded.info()"
  },
  {
   "metadata": {},
   "cell_type": "markdown",
   "source": "DATA SPLITTING"
  },
  {
   "metadata": {
    "ExecuteTime": {
     "end_time": "2025-09-16T19:33:14.256350Z",
     "start_time": "2025-09-16T19:33:14.240687Z"
    }
   },
   "cell_type": "code",
   "source": [
    "# Step 1: isolate features and target\n",
    "X = working_df_encoded.drop(\"price\", axis=1)\n",
    "y = working_df_encoded[\"price\"]\n",
    "\n",
    "# Step 2: split into train_temp (80%) and test (20%)\n",
    "X_train_temp, X_test, y_train_temp, y_test = train_test_split(\n",
    "    X, y, test_size=0.2, random_state=42\n",
    ")\n",
    "\n",
    "# Step 3: split train_temp into train (75% of 80%) and dev (25% of 80%)\n",
    "X_train, X_dev, y_train, y_dev = train_test_split(\n",
    "    X_train_temp, y_train_temp, test_size=0.25, random_state=42\n",
    ")\n",
    "working_df_encoded.info()"
   ],
   "outputs": [
    {
     "name": "stdout",
     "output_type": "stream",
     "text": [
      "(20754, 41) (20754,)\n",
      "(6919, 41) (6919,)\n",
      "(6919, 41) (6919,)\n"
     ]
    }
   ],
   "execution_count": 1076
  },
  {
   "metadata": {
    "ExecuteTime": {
     "end_time": "2025-09-16T19:33:14.299722Z",
     "start_time": "2025-09-16T19:33:14.268096Z"
    }
   },
   "cell_type": "code",
   "source": [
    "print(X_train.shape, y_train.shape)\n",
    "print(X_test.shape, y_test.shape)\n",
    "print(X_test.shape, y_dev.shape)"
   ],
   "outputs": [],
   "execution_count": 1077
  },
  {
   "metadata": {},
   "cell_type": "code",
   "outputs": [],
   "execution_count": null,
   "source": [
    "numeric_features = ['year', 'odometer', 'cylinders']  # Possibly 'price' if you're transforming it\n",
    "\n",
    "\n",
    "# Instantiate the scaler\n",
    "scaler = StandardScaler()\n",
    "\n",
    "# Fit on training data ONLY\n",
    "scaler.fit(X_train[numeric_features])\n",
    "\n",
    "# Transform all sets\n",
    "X_train[numeric_features] = scaler.transform(X_train[numeric_features])\n",
    "X_dev[numeric_features] = scaler.transform(X_dev[numeric_features])\n",
    "X_test[numeric_features] = scaler.transform(X_test[numeric_features])"
   ]
  },
  {
   "metadata": {},
   "cell_type": "markdown",
   "source": "SCALING"
  },
  {
   "metadata": {
    "ExecuteTime": {
     "end_time": "2025-09-16T19:33:14.361180Z",
     "start_time": "2025-09-16T19:33:14.353140Z"
    }
   },
   "cell_type": "code",
   "source": [
    "scaler = StandardScaler()\n",
    "X_train_scaled = scaler.fit_transform(X_train)\n",
    "X_dev_scaled = scaler.transform(X_dev)\n",
    "X_test_scaled = scaler.transform(X_test)"
   ],
   "outputs": [],
   "execution_count": 1079
  },
  {
   "metadata": {
    "ExecuteTime": {
     "end_time": "2025-09-16T19:33:14.386402Z",
     "start_time": "2025-09-16T19:33:14.367577Z"
    }
   },
   "cell_type": "code",
   "source": "X_train_scaled_df = pd.DataFrame(X_train_scaled, columns=X_train.columns, index=X_train.index)",
   "outputs": [
    {
     "data": {
      "text/plain": [
       "       condition  fuel_diesel  fuel_electric  fuel_gas  fuel_hybrid  \\\n",
       "1506   -1.090424    -0.212663      -0.034728  0.283008    -0.117998   \n",
       "26882  -1.090424    -0.212663      -0.034728  0.283008    -0.117998   \n",
       "9697    0.415576    -0.212663      -0.034728  0.283008    -0.117998   \n",
       "7448   -1.090424    -0.212663      -0.034728  0.283008    -0.117998   \n",
       "822     0.415576    -0.212663      -0.034728  0.283008    -0.117998   \n",
       "\n",
       "       fuel_other  title_status_clean  title_status_lien  \\\n",
       "1506    -0.127308            0.196822          -0.069931   \n",
       "26882   -0.127308            0.196822          -0.069931   \n",
       "9697    -0.127308            0.196822          -0.069931   \n",
       "7448    -0.127308            0.196822          -0.069931   \n",
       "822     -0.127308            0.196822          -0.069931   \n",
       "\n",
       "       title_status_missing  title_status_parts only  ...  \\\n",
       "1506              -0.019637                -0.009817  ...   \n",
       "26882             -0.019637                -0.009817  ...   \n",
       "9697              -0.019637                -0.009817  ...   \n",
       "7448              -0.019637                -0.009817  ...   \n",
       "822               -0.019637                -0.009817  ...   \n",
       "\n",
       "       manufacturer_region_european  manufacturer_region_japanese  \\\n",
       "1506                      -0.370497                     -0.663589   \n",
       "26882                      2.699079                     -0.663589   \n",
       "9697                       2.699079                     -0.663589   \n",
       "7448                      -0.370497                     -0.663589   \n",
       "822                       -0.370497                     -0.663589   \n",
       "\n",
       "       title_region_midwest  title_region_northeast  title_region_south  \\\n",
       "1506              -0.591113               -0.447989           -0.525573   \n",
       "26882             -0.591113               -0.447989           -0.525573   \n",
       "9697              -0.591113               -0.447989            1.902686   \n",
       "7448              -0.591113                2.232197           -0.525573   \n",
       "822               -0.591113               -0.447989           -0.525573   \n",
       "\n",
       "       title_region_southwest  title_region_west      year  odometer  \\\n",
       "1506                 2.930968          -0.582284  0.685023  0.141265   \n",
       "26882               -0.341184           1.717376 -0.954798  1.406887   \n",
       "9697                -0.341184          -0.582284 -0.544842  0.141265   \n",
       "7448                -0.341184          -0.582284 -0.681494  1.406887   \n",
       "822                 -0.341184           1.717376  1.094979  0.141265   \n",
       "\n",
       "       cylinders  \n",
       "1506   -0.951389  \n",
       "26882   0.580712  \n",
       "9697    0.340051  \n",
       "7448    0.503880  \n",
       "822    -1.605121  \n",
       "\n",
       "[5 rows x 41 columns]"
      ],
      "text/html": [
       "<div>\n",
       "<style scoped>\n",
       "    .dataframe tbody tr th:only-of-type {\n",
       "        vertical-align: middle;\n",
       "    }\n",
       "\n",
       "    .dataframe tbody tr th {\n",
       "        vertical-align: top;\n",
       "    }\n",
       "\n",
       "    .dataframe thead th {\n",
       "        text-align: right;\n",
       "    }\n",
       "</style>\n",
       "<table border=\"1\" class=\"dataframe\">\n",
       "  <thead>\n",
       "    <tr style=\"text-align: right;\">\n",
       "      <th></th>\n",
       "      <th>condition</th>\n",
       "      <th>fuel_diesel</th>\n",
       "      <th>fuel_electric</th>\n",
       "      <th>fuel_gas</th>\n",
       "      <th>fuel_hybrid</th>\n",
       "      <th>fuel_other</th>\n",
       "      <th>title_status_clean</th>\n",
       "      <th>title_status_lien</th>\n",
       "      <th>title_status_missing</th>\n",
       "      <th>title_status_parts only</th>\n",
       "      <th>...</th>\n",
       "      <th>manufacturer_region_european</th>\n",
       "      <th>manufacturer_region_japanese</th>\n",
       "      <th>title_region_midwest</th>\n",
       "      <th>title_region_northeast</th>\n",
       "      <th>title_region_south</th>\n",
       "      <th>title_region_southwest</th>\n",
       "      <th>title_region_west</th>\n",
       "      <th>year</th>\n",
       "      <th>odometer</th>\n",
       "      <th>cylinders</th>\n",
       "    </tr>\n",
       "  </thead>\n",
       "  <tbody>\n",
       "    <tr>\n",
       "      <th>1506</th>\n",
       "      <td>-1.090424</td>\n",
       "      <td>-0.212663</td>\n",
       "      <td>-0.034728</td>\n",
       "      <td>0.283008</td>\n",
       "      <td>-0.117998</td>\n",
       "      <td>-0.127308</td>\n",
       "      <td>0.196822</td>\n",
       "      <td>-0.069931</td>\n",
       "      <td>-0.019637</td>\n",
       "      <td>-0.009817</td>\n",
       "      <td>...</td>\n",
       "      <td>-0.370497</td>\n",
       "      <td>-0.663589</td>\n",
       "      <td>-0.591113</td>\n",
       "      <td>-0.447989</td>\n",
       "      <td>-0.525573</td>\n",
       "      <td>2.930968</td>\n",
       "      <td>-0.582284</td>\n",
       "      <td>0.685023</td>\n",
       "      <td>0.141265</td>\n",
       "      <td>-0.951389</td>\n",
       "    </tr>\n",
       "    <tr>\n",
       "      <th>26882</th>\n",
       "      <td>-1.090424</td>\n",
       "      <td>-0.212663</td>\n",
       "      <td>-0.034728</td>\n",
       "      <td>0.283008</td>\n",
       "      <td>-0.117998</td>\n",
       "      <td>-0.127308</td>\n",
       "      <td>0.196822</td>\n",
       "      <td>-0.069931</td>\n",
       "      <td>-0.019637</td>\n",
       "      <td>-0.009817</td>\n",
       "      <td>...</td>\n",
       "      <td>2.699079</td>\n",
       "      <td>-0.663589</td>\n",
       "      <td>-0.591113</td>\n",
       "      <td>-0.447989</td>\n",
       "      <td>-0.525573</td>\n",
       "      <td>-0.341184</td>\n",
       "      <td>1.717376</td>\n",
       "      <td>-0.954798</td>\n",
       "      <td>1.406887</td>\n",
       "      <td>0.580712</td>\n",
       "    </tr>\n",
       "    <tr>\n",
       "      <th>9697</th>\n",
       "      <td>0.415576</td>\n",
       "      <td>-0.212663</td>\n",
       "      <td>-0.034728</td>\n",
       "      <td>0.283008</td>\n",
       "      <td>-0.117998</td>\n",
       "      <td>-0.127308</td>\n",
       "      <td>0.196822</td>\n",
       "      <td>-0.069931</td>\n",
       "      <td>-0.019637</td>\n",
       "      <td>-0.009817</td>\n",
       "      <td>...</td>\n",
       "      <td>2.699079</td>\n",
       "      <td>-0.663589</td>\n",
       "      <td>-0.591113</td>\n",
       "      <td>-0.447989</td>\n",
       "      <td>1.902686</td>\n",
       "      <td>-0.341184</td>\n",
       "      <td>-0.582284</td>\n",
       "      <td>-0.544842</td>\n",
       "      <td>0.141265</td>\n",
       "      <td>0.340051</td>\n",
       "    </tr>\n",
       "    <tr>\n",
       "      <th>7448</th>\n",
       "      <td>-1.090424</td>\n",
       "      <td>-0.212663</td>\n",
       "      <td>-0.034728</td>\n",
       "      <td>0.283008</td>\n",
       "      <td>-0.117998</td>\n",
       "      <td>-0.127308</td>\n",
       "      <td>0.196822</td>\n",
       "      <td>-0.069931</td>\n",
       "      <td>-0.019637</td>\n",
       "      <td>-0.009817</td>\n",
       "      <td>...</td>\n",
       "      <td>-0.370497</td>\n",
       "      <td>-0.663589</td>\n",
       "      <td>-0.591113</td>\n",
       "      <td>2.232197</td>\n",
       "      <td>-0.525573</td>\n",
       "      <td>-0.341184</td>\n",
       "      <td>-0.582284</td>\n",
       "      <td>-0.681494</td>\n",
       "      <td>1.406887</td>\n",
       "      <td>0.503880</td>\n",
       "    </tr>\n",
       "    <tr>\n",
       "      <th>822</th>\n",
       "      <td>0.415576</td>\n",
       "      <td>-0.212663</td>\n",
       "      <td>-0.034728</td>\n",
       "      <td>0.283008</td>\n",
       "      <td>-0.117998</td>\n",
       "      <td>-0.127308</td>\n",
       "      <td>0.196822</td>\n",
       "      <td>-0.069931</td>\n",
       "      <td>-0.019637</td>\n",
       "      <td>-0.009817</td>\n",
       "      <td>...</td>\n",
       "      <td>-0.370497</td>\n",
       "      <td>-0.663589</td>\n",
       "      <td>-0.591113</td>\n",
       "      <td>-0.447989</td>\n",
       "      <td>-0.525573</td>\n",
       "      <td>-0.341184</td>\n",
       "      <td>1.717376</td>\n",
       "      <td>1.094979</td>\n",
       "      <td>0.141265</td>\n",
       "      <td>-1.605121</td>\n",
       "    </tr>\n",
       "  </tbody>\n",
       "</table>\n",
       "<p>5 rows × 41 columns</p>\n",
       "</div>"
      ]
     },
     "execution_count": 1080,
     "metadata": {},
     "output_type": "execute_result"
    }
   ],
   "execution_count": 1080
  },
  {
   "metadata": {
    "ExecuteTime": {
     "end_time": "2025-09-16T19:33:14.507398Z",
     "start_time": "2025-09-16T19:33:14.460143Z"
    }
   },
   "cell_type": "code",
   "source": "X_train_scaled_df.head()",
   "outputs": [
    {
     "name": "stdout",
     "output_type": "stream",
     "text": [
      "Original feature count: 41\n",
      "Reduced to: 35 components\n"
     ]
    }
   ],
   "execution_count": 1081
  },
  {
   "metadata": {
    "ExecuteTime": {
     "end_time": "2025-09-16T19:33:14.892224Z",
     "start_time": "2025-09-16T19:33:14.651995Z"
    }
   },
   "cell_type": "code",
   "source": [
    "pca = PCA(n_components=35, random_state=42)\n",
    "X_train_pca = pca.fit_transform(X_train_scaled)\n",
    "X_dev_pca = pca.transform(X_dev_scaled)\n",
    "X_test_pca = pca.transform(X_test_scaled)\n",
    "\n",
    "print(f\"Original feature count: {X_train.shape[1]}\")\n",
    "print(f\"Reduced to: {X_train_pca.shape[1]} components\")\n"
   ],
   "outputs": [
    {
     "data": {
      "text/plain": [
       "<Figure size 800x500 with 1 Axes>"
      ],
      "image/png": "[encoded data removed]"
     },
     "metadata": {},
     "output_type": "display_data",
     "jetTransient": {
      "display_id": null
     }
    }
   ],
   "execution_count": 1082
  },
  {
   "metadata": {},
   "cell_type": "code",
   "outputs": [],
   "execution_count": null,
   "source": [
    "plt.figure(figsize=(8, 5))\n",
    "plt.plot(np.cumsum(pca.explained_variance_ratio_), marker='o')\n",
    "plt.xlabel('Number of Components')\n",
    "plt.ylabel('Cumulative Explained Variance')\n",
    "plt.title('PCA Explained Variance')\n",
    "plt.grid(True)\n",
    "plt.tight_layout()\n",
    "plt.show()\n"
   ]
  },
  {
   "metadata": {},
   "cell_type": "markdown",
   "source": "CREATING POLY FEATURES"
  },
  {
   "metadata": {
    "ExecuteTime": {
     "end_time": "2025-09-16T23:37:54.509778Z",
     "start_time": "2025-09-16T23:37:49.385307Z"
    }
   },
   "cell_type": "code",
   "source": [
    "input_features = X.columns\n",
    "\n",
    "deg = 3\n",
    "poly = PolynomialFeatures(degree=deg, include_bias=False)\n",
    "\n",
    "# Fit + transform train only\n",
    "X_train_poly = poly.fit_transform(X_train_scaled)\n",
    "X_dev_poly = poly.transform(X_dev_scaled)\n",
    "X_test_poly = poly.transform(X_test_scaled)\n",
    "\n",
    "feature_names = poly.get_feature_names_out(input_features=input_features)"
   ],
   "outputs": [],
   "execution_count": 1111
  },
  {
   "metadata": {},
   "cell_type": "markdown",
   "source": [
    "### Modeling\n",
    "\n",
    "With your (almost?) final dataset in hand, it is now time to build some models.  Here, you should build a number of different regression models with the price as the target.  In building your models, you should explore different parameters and be sure to cross-validate your findings."
   ]
  },
  {
   "metadata": {},
   "cell_type": "markdown",
   "source": "TESTING A FEW DIFFERENT MODEL TYPES"
  },
  {
   "metadata": {},
   "cell_type": "markdown",
   "source": "LINEAR REGRESSION"
  },
  {
   "metadata": {
    "ExecuteTime": {
     "end_time": "2025-09-16T23:38:13.684686Z",
     "start_time": "2025-09-16T23:38:13.640177Z"
    }
   },
   "cell_type": "code",
   "source": [
    "# Fit model\n",
    "lr = LinearRegression()\n",
    "lr.fit(X_train_pca, y_train)\n",
    "\n",
    "# Predict\n",
    "y_pred = lr.predict(X_dev_pca)"
   ],
   "outputs": [],
   "execution_count": 1112
  },
  {
   "metadata": {
    "ExecuteTime": {
     "end_time": "2025-09-16T23:38:15.135803Z",
     "start_time": "2025-09-16T23:38:15.119678Z"
    }
   },
   "cell_type": "code",
   "source": [
    "# Evaluate\n",
    "print(\"RMSE:\", mean_squared_error(y_dev, y_pred))\n",
    "print(\"R Score:\", r2_score(y_dev, y_pred))"
   ],
   "outputs": [
    {
     "name": "stdout",
     "output_type": "stream",
     "text": [
      "RMSE: 88849000.43699467\n",
      "R Score: 0.440101387974564\n"
     ]
    }
   ],
   "execution_count": 1113
  },
  {
   "metadata": {},
   "cell_type": "markdown",
   "source": "THIS MODEL WITH DEGREE 2 HAS BEEN GREAT AS A FAST PERFORMING TEST PROXY"
  },
  {
   "metadata": {
    "ExecuteTime": {
     "end_time": "2025-09-16T23:39:40.541636Z",
     "start_time": "2025-09-16T23:38:16.104112Z"
    }
   },
   "cell_type": "code",
   "source": [
    "model = Ridge(alpha=100)\n",
    "model.fit(X_train_poly, y_train)\n",
    "y_pred = model.predict(X_dev_poly)"
   ],
   "outputs": [],
   "execution_count": 1114
  },
  {
   "metadata": {
    "ExecuteTime": {
     "end_time": "2025-09-16T23:39:40.555802Z",
     "start_time": "2025-09-16T23:39:40.543790Z"
    }
   },
   "cell_type": "code",
   "source": [
    "print(\"RMSE:\", mean_squared_error(y_dev, y_pred))\n",
    "print(\"R Score:\", r2_score(y_dev, y_pred))"
   ],
   "outputs": [
    {
     "name": "stdout",
     "output_type": "stream",
     "text": [
      "RMSE: 107866198.73253278\n",
      "R Score: 0.3202609522024715\n"
     ]
    }
   ],
   "execution_count": 1115
  },
  {
   "metadata": {},
   "cell_type": "markdown",
   "source": "SENSITIVITY TO HIGH VALUES IS EVIDENT HERE, SWITCHING TO MAE"
  },
  {
   "metadata": {
    "ExecuteTime": {
     "end_time": "2025-09-16T23:39:40.772349Z",
     "start_time": "2025-09-16T23:39:40.753129Z"
    }
   },
   "cell_type": "code",
   "source": [
    "print(\"MAE\", mean_absolute_error(y_dev, y_pred))\n",
    "print(\"R Score:\", r2_score(y_dev, y_pred))"
   ],
   "outputs": [
    {
     "name": "stdout",
     "output_type": "stream",
     "text": [
      "MAE 5294.789464256481\n",
      "R Score: 0.3202609522024715\n"
     ]
    }
   ],
   "execution_count": 1116
  },
  {
   "metadata": {},
   "cell_type": "markdown",
   "source": "PCA TEST BLOCK"
  },
  {
   "metadata": {
    "ExecuteTime": {
     "end_time": "2025-09-16T19:34:41.316238Z",
     "start_time": "2025-09-16T19:34:41.293808Z"
    }
   },
   "cell_type": "code",
   "source": [
    "# test_results = {\"MAE\": [], \"R\":[], \"num_C\":[]}\n",
    "# # components_values = [5,10, 15, 20, 25, 30, 35, 40]\n",
    "# components_values = [34, 35]\n",
    "#\n",
    "# for value in components_values:\n",
    "#\n",
    "#     pca = PCA(n_components=value, random_state=42)\n",
    "#     X_train_pca = pca.fit_transform(X_train_scaled)\n",
    "#     X_dev_pca = pca.transform(X_dev_scaled)\n",
    "#     X_test_pca = pca.transform(X_test_scaled)\n",
    "#\n",
    "#\n",
    "#     from sklearn.preprocessing import PolynomialFeatures\n",
    "#\n",
    "#     # Create transformer\n",
    "#     poly = PolynomialFeatures(degree=2, include_bias=False)\n",
    "#\n",
    "#     # Fit + transform train only\n",
    "#     X_train_poly = poly.fit_transform(X_train_pca)\n",
    "#     X_dev_poly = poly.transform(X_dev_pca)\n",
    "#     X_test_poly = poly.transform(X_test_pca)\n",
    "#\n",
    "#\n",
    "#     from sklearn.linear_model import Ridge\n",
    "#\n",
    "#     model = Ridge(alpha=1.0)\n",
    "#     model.fit(X_train_poly, y_train)\n",
    "#     y_pred = model.predict(X_dev_poly)\n",
    "#\n",
    "#     test_results[\"MAE\"].append(mean_absolute_error(y_dev, y_pred))\n",
    "#     test_results[\"R\"].append(r2_score(y_dev, y_pred))\n",
    "#     test_results[\"num_C\"].append(value)\n",
    "#\n",
    "# pd.DataFrame(test_results)"
   ],
   "outputs": [],
   "execution_count": 1089
  },
  {
   "metadata": {},
   "cell_type": "markdown",
   "source": "33 COMPONENTS SEEMS TO PROVIDE THE BEST RESULTS, 25 TO 32 WERE UNSTABLE"
  },
  {
   "metadata": {},
   "cell_type": "markdown",
   "source": "ALPHA TEST BLOCK"
  },
  {
   "metadata": {
    "ExecuteTime": {
     "end_time": "2025-09-16T19:34:41.346944Z",
     "start_time": "2025-09-16T19:34:41.323854Z"
    }
   },
   "cell_type": "code",
   "source": [
    "# # Testing various values of alpha\n",
    "# alphas = [0.01, 0.1, 1.0, 10.0, 100.0]\n",
    "# model = RidgeCV(alphas=alphas, scoring='neg_mean_absolute_error', cv=5)\n",
    "# model.fit(X_train_poly, y_train)\n",
    "# print(\"Best alpha:\", model.alpha_)"
   ],
   "outputs": [],
   "execution_count": 1090
  },
  {
   "metadata": {},
   "cell_type": "markdown",
   "source": "EXPLORING RANDOM FOREST REGRESSION"
  },
  {
   "metadata": {
    "ExecuteTime": {
     "end_time": "2025-09-16T19:34:42.854715Z",
     "start_time": "2025-09-16T19:34:41.355911Z"
    }
   },
   "cell_type": "code",
   "source": [
    "# rf_model = RandomForestRegressor(\n",
    "#     n_estimators=100,\n",
    "#     max_depth=None,\n",
    "#     random_state=42,\n",
    "#     n_jobs=-1\n",
    "# )\n",
    "#\n",
    "# # Train\n",
    "# rf_model.fit(X_train, y_train)\n",
    "#\n",
    "# # Predict on dev set\n",
    "# y_pred_rf = rf_model.predict(X_dev)\n",
    "#\n",
    "# # Evaluate\n",
    "# print(\"MAE (RF):\", mean_absolute_error(y_dev, y_pred_rf))\n",
    "# print(\"R Score (RF):\", r2_score(y_dev, y_pred_rf))\n"
   ],
   "outputs": [
    {
     "name": "stdout",
     "output_type": "stream",
     "text": [
      "MAE (RF): 4739.114336337483\n",
      "R² Score (RF): 0.5487109616720174\n"
     ]
    }
   ],
   "execution_count": 1091
  },
  {
   "metadata": {},
   "cell_type": "markdown",
   "source": "GRID SEARCH"
  },
  {
   "metadata": {
    "ExecuteTime": {
     "end_time": "2025-09-16T19:36:02.494117Z",
     "start_time": "2025-09-16T19:34:43.015645Z"
    }
   },
   "cell_type": "code",
   "source": [
    "# param_grid = {\n",
    "#     'n_estimators': [100, 200],\n",
    "#     'max_depth': [10, 20, None],\n",
    "#     'min_samples_split': [2, 5],\n",
    "#     'min_samples_leaf': [1, 2],\n",
    "# }\n",
    "#\n",
    "# grid = GridSearchCV(RandomForestRegressor(random_state=42, n_jobs=-1), param_grid, cv=3, scoring='neg_mean_absolute_error')\n",
    "# grid.fit(X_train, y_train)\n",
    "#\n",
    "# print(\"Best Params:\", grid.best_params_)"
   ],
   "outputs": [
    {
     "name": "stdout",
     "output_type": "stream",
     "text": [
      "Best Params: {'max_depth': 20, 'min_samples_leaf': 2, 'min_samples_split': 5, 'n_estimators': 200}\n"
     ]
    }
   ],
   "execution_count": 1092
  },
  {
   "metadata": {
    "ExecuteTime": {
     "end_time": "2025-09-16T19:36:02.806121Z",
     "start_time": "2025-09-16T19:36:02.661555Z"
    }
   },
   "cell_type": "code",
   "source": [
    "# best_rf = grid.best_estimator_\n",
    "# y_pred_rf = best_rf.predict(X_dev)\n",
    "#\n",
    "# print(\"MAE (Tuned RF):\", mean_absolute_error(y_dev, y_pred_rf))\n",
    "# print(\"R Score (Tuned RF):\", r2_score(y_dev, y_pred_rf))\n",
    "# importances = rf_model.feature_importances_"
   ],
   "outputs": [
    {
     "name": "stdout",
     "output_type": "stream",
     "text": [
      "MAE (Tuned RF): 4639.682845761476\n",
      "R² Score (Tuned RF): 0.5603910782774472\n"
     ]
    }
   ],
   "execution_count": 1093
  },
  {
   "metadata": {
    "ExecuteTime": {
     "end_time": "2025-09-16T19:36:05.478451Z",
     "start_time": "2025-09-16T19:36:02.833711Z"
    }
   },
   "cell_type": "code",
   "source": [
    "# # Quick setup — start small to get a feel\n",
    "# rf_model = RandomForestRegressor(\n",
    "#     n_estimators=200,\n",
    "#     max_depth=20,\n",
    "#     random_state=42,\n",
    "#     n_jobs=-1\n",
    "# )\n",
    "#\n",
    "# # Train\n",
    "# rf_model.fit(X_train, y_train)\n",
    "#\n",
    "# # Predict on dev set\n",
    "# y_pred_rf = rf_model.predict(X_dev)\n",
    "#\n",
    "# # Evaluate\n",
    "# print(\"MAE (RF):\", mean_absolute_error(y_dev, y_pred_rf))\n",
    "# print(\"R Score (RF):\", r2_score(y_dev, y_pred_rf))"
   ],
   "outputs": [
    {
     "name": "stdout",
     "output_type": "stream",
     "text": [
      "MAE (RF): 4685.907502254441\n",
      "R² Score (RF): 0.5540385401288633\n"
     ]
    }
   ],
   "execution_count": 1094
  },
  {
   "metadata": {},
   "cell_type": "markdown",
   "source": "BEST FOREST RESULTS WERE WITH DEGREE 3"
  },
  {
   "metadata": {
    "ExecuteTime": {
     "end_time": "2025-09-16T20:10:21.035395Z",
     "start_time": "2025-09-16T19:36:05.619245Z"
    }
   },
   "cell_type": "code",
   "source": [
    "# best_rf = RandomForestRegressor(\n",
    "#     n_estimators=200,\n",
    "#     max_depth=20,\n",
    "#     min_samples_split=5,\n",
    "#     min_samples_leaf=2,\n",
    "#     random_state=42,\n",
    "#     n_jobs=-1\n",
    "# )\n",
    "#\n",
    "# best_rf.fit(X_train_poly, y_train)\n",
    "#\n",
    "# y_dev_pred = best_rf.predict(X_dev_poly)\n",
    "# y_test_pred = best_rf.predict(X_test_poly)\n",
    "#\n",
    "# print(\"MAE (Dev):\", mean_absolute_error(y_dev, y_dev_pred))\n",
    "# print(\"R Score (Dev):\", r2_score(y_dev, y_dev_pred))\n",
    "#\n",
    "# print(\"MAE (Test):\", mean_absolute_error(y_test, y_test_pred))\n",
    "# print(\"R Score (Test):\", r2_score(y_test, y_test_pred))"
   ],
   "outputs": [
    {
     "name": "stdout",
     "output_type": "stream",
     "text": [
      "MAE (Dev): 4505.317141854117\n",
      "R² Score (Dev): 0.587562230737397\n",
      "MAE (Test): 4312.647444129676\n",
      "R² Score (Test): 0.6430975047802328\n"
     ]
    }
   ],
   "execution_count": 1095
  },
  {
   "metadata": {},
   "cell_type": "markdown",
   "source": "EXPLORING FEATURE IMPORTANCE"
  },
  {
   "metadata": {
    "ExecuteTime": {
     "end_time": "2025-09-16T20:10:21.331789Z",
     "start_time": "2025-09-16T20:10:21.244169Z"
    }
   },
   "cell_type": "code",
   "source": [
    "# # Get feature names from the poly transformer\n",
    "# # poly_feature_names = poly.get_feature_names_out(input_features=X_train)\n",
    "#\n",
    "# # Wrap the importances in a DataFrame\n",
    "# feat_imp_df = pd.DataFrame({\n",
    "#     'feature': feature_names,\n",
    "#     'importance': best_rf.feature_importances_\n",
    "# }).sort_values(by='importance', ascending=False)\n",
    "#\n",
    "# feat_imp_df.head(10)\n"
   ],
   "outputs": [
    {
     "data": {
      "text/plain": [
       "                                           feature  importance\n",
       "9990                              drive_4wd^2 year    0.267220\n",
       "13241                         odometer cylinders^2    0.056270\n",
       "8775             transmission_automatic^2 odometer    0.037555\n",
       "1802                       fuel_diesel^2 cylinders    0.025513\n",
       "11908                  type_mini-van year odometer    0.012270\n",
       "9992                         drive_4wd^2 cylinders    0.010128\n",
       "1879                fuel_diesel fuel_gas cylinders    0.007458\n",
       "2175   fuel_diesel transmission_automatic odometer    0.007379\n",
       "2306               fuel_diesel drive_rwd cylinders    0.007370\n",
       "1800                            fuel_diesel^2 year    0.007222"
      ],
      "text/html": [
       "<div>\n",
       "<style scoped>\n",
       "    .dataframe tbody tr th:only-of-type {\n",
       "        vertical-align: middle;\n",
       "    }\n",
       "\n",
       "    .dataframe tbody tr th {\n",
       "        vertical-align: top;\n",
       "    }\n",
       "\n",
       "    .dataframe thead th {\n",
       "        text-align: right;\n",
       "    }\n",
       "</style>\n",
       "<table border=\"1\" class=\"dataframe\">\n",
       "  <thead>\n",
       "    <tr style=\"text-align: right;\">\n",
       "      <th></th>\n",
       "      <th>feature</th>\n",
       "      <th>importance</th>\n",
       "    </tr>\n",
       "  </thead>\n",
       "  <tbody>\n",
       "    <tr>\n",
       "      <th>9990</th>\n",
       "      <td>drive_4wd^2 year</td>\n",
       "      <td>0.267220</td>\n",
       "    </tr>\n",
       "    <tr>\n",
       "      <th>13241</th>\n",
       "      <td>odometer cylinders^2</td>\n",
       "      <td>0.056270</td>\n",
       "    </tr>\n",
       "    <tr>\n",
       "      <th>8775</th>\n",
       "      <td>transmission_automatic^2 odometer</td>\n",
       "      <td>0.037555</td>\n",
       "    </tr>\n",
       "    <tr>\n",
       "      <th>1802</th>\n",
       "      <td>fuel_diesel^2 cylinders</td>\n",
       "      <td>0.025513</td>\n",
       "    </tr>\n",
       "    <tr>\n",
       "      <th>11908</th>\n",
       "      <td>type_mini-van year odometer</td>\n",
       "      <td>0.012270</td>\n",
       "    </tr>\n",
       "    <tr>\n",
       "      <th>9992</th>\n",
       "      <td>drive_4wd^2 cylinders</td>\n",
       "      <td>0.010128</td>\n",
       "    </tr>\n",
       "    <tr>\n",
       "      <th>1879</th>\n",
       "      <td>fuel_diesel fuel_gas cylinders</td>\n",
       "      <td>0.007458</td>\n",
       "    </tr>\n",
       "    <tr>\n",
       "      <th>2175</th>\n",
       "      <td>fuel_diesel transmission_automatic odometer</td>\n",
       "      <td>0.007379</td>\n",
       "    </tr>\n",
       "    <tr>\n",
       "      <th>2306</th>\n",
       "      <td>fuel_diesel drive_rwd cylinders</td>\n",
       "      <td>0.007370</td>\n",
       "    </tr>\n",
       "    <tr>\n",
       "      <th>1800</th>\n",
       "      <td>fuel_diesel^2 year</td>\n",
       "      <td>0.007222</td>\n",
       "    </tr>\n",
       "  </tbody>\n",
       "</table>\n",
       "</div>"
      ]
     },
     "execution_count": 1096,
     "metadata": {},
     "output_type": "execute_result"
    }
   ],
   "execution_count": 1096
  },
  {
   "metadata": {},
   "cell_type": "markdown",
   "source": "EXPLORING XGBOOST REGRESSION"
  },
  {
   "metadata": {
    "ExecuteTime": {
     "end_time": "2025-09-16T23:39:40.819946Z",
     "start_time": "2025-09-16T23:39:40.798878Z"
    }
   },
   "cell_type": "code",
   "source": [
    "xgb = XGBRegressor(\n",
    "    n_estimators=250,\n",
    "    max_depth=6,\n",
    "    learning_rate=0.05,\n",
    "    subsample=0.8,\n",
    "    colsample_bytree=0.8,\n",
    "    random_state=42,\n",
    "    n_jobs=-1,\n",
    "    verbosity=1\n",
    ")"
   ],
   "outputs": [],
   "execution_count": 1117
  },
  {
   "metadata": {
    "ExecuteTime": {
     "end_time": "2025-09-16T23:45:53.582457Z",
     "start_time": "2025-09-16T23:39:40.921331Z"
    }
   },
   "cell_type": "code",
   "source": [
    "xgb.fit(X_train_poly, y_train)\n",
    "y_dev_pred = xgb.predict(X_dev_poly)\n",
    "y_test_pred = xgb.predict(X_test_poly)\n",
    "\n",
    "print(\"MAE (Dev):\", mean_absolute_error(y_dev, y_dev_pred))\n",
    "print(\"R Score (Dev):\", r2_score(y_dev, y_dev_pred))\n",
    "\n",
    "print(\"\\nMAE (Test):\", mean_absolute_error(y_test, y_test_pred))\n",
    "print(\"R Score (Test):\", r2_score(y_test, y_test_pred))"
   ],
   "outputs": [
    {
     "name": "stdout",
     "output_type": "stream",
     "text": [
      "MAE (Dev): 4321.176100624902\n",
      "R Score (Dev): 0.6092498128500561\n",
      "\n",
      "MAE (Test): 4164.005342837754\n",
      "R Score (Test): 0.6619721572163263\n"
     ]
    }
   ],
   "execution_count": 1118
  },
  {
   "metadata": {},
   "cell_type": "markdown",
   "source": "EXPLORING FEATURE IMPORTANCE"
  },
  {
   "metadata": {
    "ExecuteTime": {
     "end_time": "2025-09-16T23:45:53.614423Z",
     "start_time": "2025-09-16T23:45:53.582457Z"
    }
   },
   "cell_type": "code",
   "source": [
    "# Wrap the importances in a DataFrame\n",
    "feat_imp_df = pd.DataFrame({\n",
    "    'feature': feature_names,\n",
    "    'importance': xgb.feature_importances_\n",
    "}).sort_values(by='importance', ascending=False)\n",
    "\n",
    "feat_imp_df.head(10)"
   ],
   "outputs": [
    {
     "data": {
      "text/plain": [
       "                                                 feature  importance\n",
       "3358                         fuel_electric year odometer    0.025978\n",
       "7254                  title_status_missing year odometer    0.018151\n",
       "9990                                    drive_4wd^2 year    0.015826\n",
       "9992                               drive_4wd^2 cylinders    0.011941\n",
       "8775                   transmission_automatic^2 odometer    0.010829\n",
       "12166                        type_pickup type_truck year    0.009039\n",
       "11908                        type_mini-van year odometer    0.008713\n",
       "9799           transmission_other type_pickup type_truck    0.007908\n",
       "12575                                  type_truck^2 year    0.007011\n",
       "2437   fuel_diesel type_sedan manufacturer_region_eur...    0.006324"
      ],
      "text/html": [
       "<div>\n",
       "<style scoped>\n",
       "    .dataframe tbody tr th:only-of-type {\n",
       "        vertical-align: middle;\n",
       "    }\n",
       "\n",
       "    .dataframe tbody tr th {\n",
       "        vertical-align: top;\n",
       "    }\n",
       "\n",
       "    .dataframe thead th {\n",
       "        text-align: right;\n",
       "    }\n",
       "</style>\n",
       "<table border=\"1\" class=\"dataframe\">\n",
       "  <thead>\n",
       "    <tr style=\"text-align: right;\">\n",
       "      <th></th>\n",
       "      <th>feature</th>\n",
       "      <th>importance</th>\n",
       "    </tr>\n",
       "  </thead>\n",
       "  <tbody>\n",
       "    <tr>\n",
       "      <th>3358</th>\n",
       "      <td>fuel_electric year odometer</td>\n",
       "      <td>0.025978</td>\n",
       "    </tr>\n",
       "    <tr>\n",
       "      <th>7254</th>\n",
       "      <td>title_status_missing year odometer</td>\n",
       "      <td>0.018151</td>\n",
       "    </tr>\n",
       "    <tr>\n",
       "      <th>9990</th>\n",
       "      <td>drive_4wd^2 year</td>\n",
       "      <td>0.015826</td>\n",
       "    </tr>\n",
       "    <tr>\n",
       "      <th>9992</th>\n",
       "      <td>drive_4wd^2 cylinders</td>\n",
       "      <td>0.011941</td>\n",
       "    </tr>\n",
       "    <tr>\n",
       "      <th>8775</th>\n",
       "      <td>transmission_automatic^2 odometer</td>\n",
       "      <td>0.010829</td>\n",
       "    </tr>\n",
       "    <tr>\n",
       "      <th>12166</th>\n",
       "      <td>type_pickup type_truck year</td>\n",
       "      <td>0.009039</td>\n",
       "    </tr>\n",
       "    <tr>\n",
       "      <th>11908</th>\n",
       "      <td>type_mini-van year odometer</td>\n",
       "      <td>0.008713</td>\n",
       "    </tr>\n",
       "    <tr>\n",
       "      <th>9799</th>\n",
       "      <td>transmission_other type_pickup type_truck</td>\n",
       "      <td>0.007908</td>\n",
       "    </tr>\n",
       "    <tr>\n",
       "      <th>12575</th>\n",
       "      <td>type_truck^2 year</td>\n",
       "      <td>0.007011</td>\n",
       "    </tr>\n",
       "    <tr>\n",
       "      <th>2437</th>\n",
       "      <td>fuel_diesel type_sedan manufacturer_region_eur...</td>\n",
       "      <td>0.006324</td>\n",
       "    </tr>\n",
       "  </tbody>\n",
       "</table>\n",
       "</div>"
      ]
     },
     "execution_count": 1119,
     "metadata": {},
     "output_type": "execute_result"
    }
   ],
   "execution_count": 1119
  },
  {
   "cell_type": "markdown",
   "metadata": {},
   "source": "EXPLORING SKLEARN HISTOGRAM GRADIENT BOOST REGRESSION"
  },
  {
   "cell_type": "code",
   "metadata": {
    "ExecuteTime": {
     "end_time": "2025-09-16T20:21:11.876449Z",
     "start_time": "2025-09-16T20:16:33.721991Z"
    }
   },
   "source": [
    "# Define the model\n",
    "# hgb = HistGradientBoostingRegressor(\n",
    "#     max_iter=250,\n",
    "#     learning_rate=0.06,\n",
    "#     max_depth=8,\n",
    "#     max_leaf_nodes=31,\n",
    "#     l2_regularization=0.4,\n",
    "#     random_state=42,\n",
    "#     verbose=1\n",
    "# )\n",
    "#\n",
    "# # Fit and predict\n",
    "# hgb.fit(X_train_poly, y_train)\n",
    "# y_dev_pred = hgb.predict(X_dev_poly)\n",
    "# y_test_pred = hgb.predict(X_test_poly)\n",
    "#\n",
    "# # Evaluate\n",
    "# print(\"MAE (Dev):\", mean_absolute_error(y_dev, y_dev_pred))\n",
    "# print(\"R Score (Dev):\", r2_score(y_dev, y_dev_pred))\n",
    "# print(\"\\nMAE (Test):\", mean_absolute_error(y_test, y_test_pred))\n",
    "# print(\"R Score (Test):\", r2_score(y_test, y_test_pred))"
   ],
   "outputs": [
    {
     "name": "stdout",
     "output_type": "stream",
     "text": [
      "Binning 1.979 GB of training data: 19.069 s\n",
      "Binning 0.220 GB of validation data: 0.842 s\n",
      "Fitting gradient boosted rounds:\n",
      "[1/250] 1 tree, 31 leaves, max depth = 7, train loss: 76000990.23262, val loss: 76993375.60510, in 2.126s\n",
      "[2/250] 1 tree, 31 leaves, max depth = 7, train loss: 71261144.82098, val loss: 72019095.03848, in 2.281s\n",
      "[3/250] 1 tree, 31 leaves, max depth = 7, train loss: 67017246.81250, val loss: 67672843.77294, in 2.203s\n",
      "[4/250] 1 tree, 31 leaves, max depth = 8, train loss: 63204242.83244, val loss: 63792974.17324, in 2.171s\n",
      "[5/250] 1 tree, 31 leaves, max depth = 7, train loss: 59798976.05782, val loss: 60016083.78442, in 2.172s\n",
      "[6/250] 1 tree, 31 leaves, max depth = 7, train loss: 56740161.64594, val loss: 56855843.55817, in 2.251s\n",
      "[7/250] 1 tree, 31 leaves, max depth = 8, train loss: 53802558.63339, val loss: 53936972.88706, in 2.064s\n",
      "[8/250] 1 tree, 31 leaves, max depth = 8, train loss: 51304392.40454, val loss: 51366759.55847, in 2.155s\n",
      "[9/250] 1 tree, 31 leaves, max depth = 8, train loss: 49039538.98597, val loss: 49012745.57196, in 2.094s\n",
      "[10/250] 1 tree, 31 leaves, max depth = 8, train loss: 46856757.39648, val loss: 46741914.83352, in 1.997s\n",
      "[11/250] 1 tree, 31 leaves, max depth = 8, train loss: 44945187.83823, val loss: 44816177.29461, in 2.111s\n",
      "[12/250] 1 tree, 31 leaves, max depth = 8, train loss: 43173321.98615, val loss: 42969121.10299, in 1.931s\n",
      "[13/250] 1 tree, 31 leaves, max depth = 8, train loss: 41595039.61351, val loss: 41333196.25637, in 2.053s\n",
      "[14/250] 1 tree, 31 leaves, max depth = 8, train loss: 40119829.31562, val loss: 39840876.67438, in 2.032s\n",
      "[15/250] 1 tree, 31 leaves, max depth = 8, train loss: 38767176.11965, val loss: 38415828.41150, in 2.024s\n",
      "[16/250] 1 tree, 31 leaves, max depth = 8, train loss: 37571969.28212, val loss: 37256678.42807, in 1.948s\n",
      "[17/250] 1 tree, 31 leaves, max depth = 8, train loss: 36464160.24943, val loss: 36335551.99358, in 2.068s\n",
      "[18/250] 1 tree, 31 leaves, max depth = 8, train loss: 35446132.52785, val loss: 35380600.13109, in 1.958s\n",
      "[19/250] 1 tree, 31 leaves, max depth = 8, train loss: 34490847.44520, val loss: 34391755.47331, in 2.001s\n",
      "[20/250] 1 tree, 31 leaves, max depth = 8, train loss: 33650347.18556, val loss: 33591498.69594, in 2.099s\n",
      "[21/250] 1 tree, 31 leaves, max depth = 8, train loss: 32881128.25625, val loss: 32810762.21900, in 1.920s\n",
      "[22/250] 1 tree, 31 leaves, max depth = 8, train loss: 32153049.14569, val loss: 32172822.52169, in 2.075s\n",
      "[23/250] 1 tree, 31 leaves, max depth = 8, train loss: 31487089.51899, val loss: 31538435.44445, in 2.077s\n",
      "[24/250] 1 tree, 31 leaves, max depth = 8, train loss: 30852996.54680, val loss: 31069538.32091, in 2.002s\n",
      "[25/250] 1 tree, 31 leaves, max depth = 8, train loss: 30237232.61349, val loss: 30567521.87686, in 1.957s\n",
      "[26/250] 1 tree, 31 leaves, max depth = 8, train loss: 29682349.57582, val loss: 30093755.53632, in 1.880s\n",
      "[27/250] 1 tree, 31 leaves, max depth = 8, train loss: 29160437.18218, val loss: 29697838.11025, in 1.896s\n",
      "[28/250] 1 tree, 31 leaves, max depth = 8, train loss: 28711715.07137, val loss: 29315167.94834, in 1.849s\n",
      "[29/250] 1 tree, 31 leaves, max depth = 8, train loss: 28272743.79022, val loss: 28934491.59592, in 1.812s\n",
      "[30/250] 1 tree, 31 leaves, max depth = 8, train loss: 27864367.70605, val loss: 28616290.30756, in 2.058s\n",
      "[31/250] 1 tree, 31 leaves, max depth = 8, train loss: 27481469.52301, val loss: 28302127.42639, in 1.812s\n",
      "[32/250] 1 tree, 31 leaves, max depth = 8, train loss: 27112525.39727, val loss: 28045433.51103, in 1.928s\n",
      "[33/250] 1 tree, 31 leaves, max depth = 8, train loss: 26755651.69674, val loss: 27734426.48742, in 1.773s\n",
      "[34/250] 1 tree, 31 leaves, max depth = 8, train loss: 26440908.14839, val loss: 27522282.02926, in 1.940s\n",
      "[35/250] 1 tree, 31 leaves, max depth = 8, train loss: 26135596.93250, val loss: 27354687.05742, in 1.782s\n",
      "[36/250] 1 tree, 31 leaves, max depth = 8, train loss: 25843699.88029, val loss: 27149478.69453, in 1.897s\n",
      "[37/250] 1 tree, 31 leaves, max depth = 8, train loss: 25581306.04269, val loss: 27000906.69555, in 1.751s\n",
      "[38/250] 1 tree, 31 leaves, max depth = 8, train loss: 25317534.31025, val loss: 26789363.22175, in 1.683s\n",
      "[39/250] 1 tree, 31 leaves, max depth = 8, train loss: 25045600.03599, val loss: 26622254.40948, in 1.745s\n",
      "[40/250] 1 tree, 31 leaves, max depth = 8, train loss: 24796092.19909, val loss: 26445401.01860, in 1.750s\n",
      "[41/250] 1 tree, 31 leaves, max depth = 8, train loss: 24565065.87070, val loss: 26254418.58204, in 1.794s\n",
      "[42/250] 1 tree, 31 leaves, max depth = 8, train loss: 24375883.17266, val loss: 26137696.54014, in 1.829s\n",
      "[43/250] 1 tree, 31 leaves, max depth = 8, train loss: 24168162.92374, val loss: 26019968.89231, in 1.736s\n",
      "[44/250] 1 tree, 31 leaves, max depth = 8, train loss: 23964943.88803, val loss: 25893144.85526, in 1.548s\n",
      "[45/250] 1 tree, 31 leaves, max depth = 8, train loss: 23772997.10633, val loss: 25848418.00172, in 1.638s\n",
      "[46/250] 1 tree, 31 leaves, max depth = 8, train loss: 23555616.11193, val loss: 25756337.53011, in 1.721s\n",
      "[47/250] 1 tree, 31 leaves, max depth = 8, train loss: 23388720.86078, val loss: 25646954.41436, in 1.843s\n",
      "[48/250] 1 tree, 31 leaves, max depth = 8, train loss: 23210068.40266, val loss: 25522938.30881, in 1.750s\n",
      "[49/250] 1 tree, 31 leaves, max depth = 8, train loss: 23056322.88125, val loss: 25453644.61045, in 1.757s\n",
      "[50/250] 1 tree, 31 leaves, max depth = 8, train loss: 22897768.03616, val loss: 25364479.26836, in 1.648s\n",
      "[51/250] 1 tree, 31 leaves, max depth = 8, train loss: 22737607.46499, val loss: 25305036.18653, in 1.796s\n",
      "[52/250] 1 tree, 31 leaves, max depth = 8, train loss: 22560241.97226, val loss: 25249869.35188, in 1.620s\n",
      "[53/250] 1 tree, 31 leaves, max depth = 8, train loss: 22450522.96151, val loss: 25221913.79806, in 1.696s\n",
      "[54/250] 1 tree, 31 leaves, max depth = 8, train loss: 22290751.29583, val loss: 25144929.90625, in 1.571s\n",
      "[55/250] 1 tree, 31 leaves, max depth = 8, train loss: 22151179.06834, val loss: 25094848.79837, in 1.508s\n",
      "[56/250] 1 tree, 31 leaves, max depth = 8, train loss: 22048281.08240, val loss: 25066535.54860, in 1.687s\n",
      "[57/250] 1 tree, 31 leaves, max depth = 8, train loss: 21890228.33381, val loss: 25049202.67262, in 1.488s\n",
      "[58/250] 1 tree, 31 leaves, max depth = 8, train loss: 21773825.62029, val loss: 24997293.77203, in 1.684s\n",
      "[59/250] 1 tree, 31 leaves, max depth = 8, train loss: 21651894.34404, val loss: 24937210.22960, in 1.437s\n",
      "[60/250] 1 tree, 31 leaves, max depth = 8, train loss: 21545606.74562, val loss: 24915504.35983, in 1.531s\n",
      "[61/250] 1 tree, 31 leaves, max depth = 8, train loss: 21444962.38208, val loss: 24887243.39569, in 1.515s\n",
      "[62/250] 1 tree, 31 leaves, max depth = 8, train loss: 21331207.28457, val loss: 24860954.85633, in 1.548s\n",
      "[63/250] 1 tree, 31 leaves, max depth = 8, train loss: 21196168.59371, val loss: 24849236.50094, in 1.483s\n",
      "[64/250] 1 tree, 31 leaves, max depth = 8, train loss: 21100764.25819, val loss: 24832812.43256, in 1.510s\n",
      "[65/250] 1 tree, 31 leaves, max depth = 8, train loss: 21015906.45487, val loss: 24823908.59787, in 1.637s\n",
      "[66/250] 1 tree, 31 leaves, max depth = 8, train loss: 20936222.72030, val loss: 24787770.98546, in 1.557s\n",
      "[67/250] 1 tree, 31 leaves, max depth = 8, train loss: 20838347.83405, val loss: 24751157.02858, in 1.399s\n",
      "[68/250] 1 tree, 31 leaves, max depth = 8, train loss: 20741827.44987, val loss: 24738852.14577, in 1.430s\n",
      "[69/250] 1 tree, 31 leaves, max depth = 8, train loss: 20638270.76159, val loss: 24709186.33078, in 1.547s\n",
      "[70/250] 1 tree, 31 leaves, max depth = 8, train loss: 20571262.63181, val loss: 24712056.59332, in 1.714s\n",
      "[71/250] 1 tree, 31 leaves, max depth = 8, train loss: 20493808.46554, val loss: 24676277.12190, in 1.389s\n",
      "[72/250] 1 tree, 31 leaves, max depth = 8, train loss: 20401727.69813, val loss: 24652156.23764, in 1.333s\n",
      "[73/250] 1 tree, 31 leaves, max depth = 8, train loss: 20324976.36958, val loss: 24578787.73942, in 1.350s\n",
      "[74/250] 1 tree, 31 leaves, max depth = 8, train loss: 20239026.65444, val loss: 24576217.53320, in 1.376s\n",
      "[75/250] 1 tree, 31 leaves, max depth = 8, train loss: 20162800.53149, val loss: 24533678.36640, in 1.321s\n",
      "[76/250] 1 tree, 31 leaves, max depth = 8, train loss: 20095763.94790, val loss: 24534534.01219, in 1.610s\n",
      "[77/250] 1 tree, 31 leaves, max depth = 8, train loss: 19985365.43864, val loss: 24469972.53139, in 1.421s\n",
      "[78/250] 1 tree, 31 leaves, max depth = 8, train loss: 19908058.83110, val loss: 24452098.78702, in 1.394s\n",
      "[79/250] 1 tree, 31 leaves, max depth = 8, train loss: 19842191.53578, val loss: 24424798.80144, in 1.299s\n",
      "[80/250] 1 tree, 31 leaves, max depth = 8, train loss: 19782388.71217, val loss: 24438035.02239, in 1.274s\n",
      "[81/250] 1 tree, 31 leaves, max depth = 8, train loss: 19686273.30471, val loss: 24445523.42271, in 1.426s\n",
      "[82/250] 1 tree, 31 leaves, max depth = 8, train loss: 19601911.45518, val loss: 24431619.78688, in 1.524s\n",
      "[83/250] 1 tree, 30 leaves, max depth = 8, train loss: 19545534.22968, val loss: 24430303.34464, in 1.261s\n",
      "[84/250] 1 tree, 31 leaves, max depth = 8, train loss: 19488610.99392, val loss: 24417827.88723, in 1.416s\n",
      "[85/250] 1 tree, 31 leaves, max depth = 8, train loss: 19415810.80609, val loss: 24388875.03206, in 1.390s\n",
      "[86/250] 1 tree, 31 leaves, max depth = 8, train loss: 19360042.17032, val loss: 24367797.65412, in 1.479s\n",
      "[87/250] 1 tree, 31 leaves, max depth = 8, train loss: 19285600.77628, val loss: 24349317.22405, in 1.630s\n",
      "[88/250] 1 tree, 31 leaves, max depth = 8, train loss: 19246347.29154, val loss: 24339431.00987, in 1.319s\n",
      "[89/250] 1 tree, 31 leaves, max depth = 8, train loss: 19180480.35547, val loss: 24356228.80613, in 1.386s\n",
      "[90/250] 1 tree, 31 leaves, max depth = 8, train loss: 19096481.89395, val loss: 24305053.52213, in 1.373s\n",
      "[91/250] 1 tree, 23 leaves, max depth = 8, train loss: 19061287.77614, val loss: 24280801.28782, in 1.164s\n",
      "[92/250] 1 tree, 31 leaves, max depth = 8, train loss: 18994803.40394, val loss: 24277229.74862, in 1.211s\n",
      "[93/250] 1 tree, 31 leaves, max depth = 8, train loss: 18943935.02531, val loss: 24258018.65090, in 1.235s\n",
      "[94/250] 1 tree, 31 leaves, max depth = 8, train loss: 18877248.87975, val loss: 24235980.42021, in 1.422s\n",
      "[95/250] 1 tree, 31 leaves, max depth = 8, train loss: 18803013.59067, val loss: 24188538.13701, in 1.296s\n",
      "[96/250] 1 tree, 31 leaves, max depth = 8, train loss: 18742040.82671, val loss: 24183185.03709, in 1.470s\n",
      "[97/250] 1 tree, 23 leaves, max depth = 8, train loss: 18699712.74154, val loss: 24179112.45342, in 1.005s\n",
      "[98/250] 1 tree, 31 leaves, max depth = 8, train loss: 18611386.00916, val loss: 24139785.48977, in 1.717s\n",
      "[99/250] 1 tree, 29 leaves, max depth = 8, train loss: 18572071.27116, val loss: 24152566.70491, in 1.323s\n",
      "[100/250] 1 tree, 31 leaves, max depth = 8, train loss: 18503429.28351, val loss: 24131949.93296, in 1.552s\n",
      "[101/250] 1 tree, 15 leaves, max depth = 8, train loss: 18488273.96889, val loss: 24135724.31814, in 0.972s\n",
      "[102/250] 1 tree, 31 leaves, max depth = 8, train loss: 18417567.51929, val loss: 24107774.44961, in 1.443s\n",
      "[103/250] 1 tree, 19 leaves, max depth = 8, train loss: 18382489.90210, val loss: 24099464.66515, in 1.121s\n",
      "[104/250] 1 tree, 28 leaves, max depth = 8, train loss: 18346047.96235, val loss: 24065044.58443, in 1.147s\n",
      "[105/250] 1 tree, 31 leaves, max depth = 8, train loss: 18277619.14092, val loss: 24051339.91229, in 1.390s\n",
      "[106/250] 1 tree, 31 leaves, max depth = 8, train loss: 18199272.79907, val loss: 24062791.20298, in 1.462s\n",
      "[107/250] 1 tree, 29 leaves, max depth = 8, train loss: 18150946.39181, val loss: 24031596.60635, in 1.314s\n",
      "[108/250] 1 tree, 31 leaves, max depth = 8, train loss: 18114529.23813, val loss: 24032218.97298, in 1.422s\n",
      "[109/250] 1 tree, 31 leaves, max depth = 8, train loss: 18076324.86189, val loss: 24012462.42021, in 1.317s\n",
      "[110/250] 1 tree, 31 leaves, max depth = 8, train loss: 18023524.62258, val loss: 23983675.38292, in 1.381s\n",
      "[111/250] 1 tree, 31 leaves, max depth = 8, train loss: 17959555.37712, val loss: 23961581.70224, in 1.578s\n",
      "[112/250] 1 tree, 31 leaves, max depth = 8, train loss: 17902148.00486, val loss: 23968081.61489, in 1.420s\n",
      "[113/250] 1 tree, 26 leaves, max depth = 8, train loss: 17870196.96689, val loss: 23959768.14822, in 1.154s\n",
      "[114/250] 1 tree, 31 leaves, max depth = 8, train loss: 17819905.10775, val loss: 23945125.50315, in 1.335s\n",
      "[115/250] 1 tree, 31 leaves, max depth = 8, train loss: 17771122.18485, val loss: 23941304.41970, in 1.324s\n",
      "[116/250] 1 tree, 31 leaves, max depth = 8, train loss: 17707258.36910, val loss: 23923379.39230, in 1.338s\n",
      "[117/250] 1 tree, 31 leaves, max depth = 8, train loss: 17640812.24679, val loss: 23839336.90858, in 1.508s\n",
      "[118/250] 1 tree, 31 leaves, max depth = 8, train loss: 17597038.42388, val loss: 23828242.27553, in 1.424s\n",
      "[119/250] 1 tree, 31 leaves, max depth = 8, train loss: 17557750.05036, val loss: 23840275.42664, in 1.336s\n",
      "[120/250] 1 tree, 31 leaves, max depth = 8, train loss: 17512690.89400, val loss: 23831851.28942, in 1.462s\n",
      "[121/250] 1 tree, 31 leaves, max depth = 8, train loss: 17459915.98970, val loss: 23832240.95216, in 1.524s\n",
      "[122/250] 1 tree, 16 leaves, max depth = 8, train loss: 17439029.99438, val loss: 23825560.88971, in 1.001s\n",
      "[123/250] 1 tree, 31 leaves, max depth = 8, train loss: 17388972.33470, val loss: 23813755.38313, in 1.481s\n",
      "[124/250] 1 tree, 28 leaves, max depth = 8, train loss: 17357108.51857, val loss: 23807002.64331, in 1.252s\n",
      "[125/250] 1 tree, 31 leaves, max depth = 8, train loss: 17304193.60901, val loss: 23793691.61981, in 1.484s\n",
      "[126/250] 1 tree, 22 leaves, max depth = 8, train loss: 17279251.62448, val loss: 23773190.36244, in 0.968s\n",
      "[127/250] 1 tree, 31 leaves, max depth = 8, train loss: 17244549.47300, val loss: 23767348.00345, in 1.296s\n",
      "[128/250] 1 tree, 31 leaves, max depth = 8, train loss: 17182257.88391, val loss: 23744267.45032, in 1.640s\n",
      "[129/250] 1 tree, 31 leaves, max depth = 8, train loss: 17135196.71594, val loss: 23723425.79749, in 1.469s\n",
      "[130/250] 1 tree, 31 leaves, max depth = 8, train loss: 17096196.54572, val loss: 23717927.53343, in 1.522s\n",
      "[131/250] 1 tree, 31 leaves, max depth = 8, train loss: 17045444.39656, val loss: 23686653.88000, in 1.587s\n",
      "[132/250] 1 tree, 31 leaves, max depth = 8, train loss: 17015931.50484, val loss: 23689257.22917, in 1.797s\n",
      "[133/250] 1 tree, 31 leaves, max depth = 8, train loss: 16970062.94715, val loss: 23670217.08736, in 1.778s\n",
      "[134/250] 1 tree, 31 leaves, max depth = 8, train loss: 16923916.02405, val loss: 23647712.21245, in 1.802s\n",
      "[135/250] 1 tree, 31 leaves, max depth = 8, train loss: 16885964.45408, val loss: 23640939.67868, in 1.309s\n",
      "[136/250] 1 tree, 31 leaves, max depth = 8, train loss: 16846739.93705, val loss: 23641699.00550, in 1.382s\n",
      "[137/250] 1 tree, 31 leaves, max depth = 8, train loss: 16822413.35321, val loss: 23644759.08749, in 1.530s\n",
      "[138/250] 1 tree, 31 leaves, max depth = 8, train loss: 16779382.61283, val loss: 23667228.88001, in 1.665s\n",
      "[139/250] 1 tree, 31 leaves, max depth = 8, train loss: 16741174.23519, val loss: 23670448.49392, in 1.431s\n",
      "[140/250] 1 tree, 29 leaves, max depth = 8, train loss: 16710174.30647, val loss: 23665483.14099, in 1.581s\n",
      "[141/250] 1 tree, 23 leaves, max depth = 8, train loss: 16693429.47091, val loss: 23655969.06102, in 1.045s\n",
      "[142/250] 1 tree, 31 leaves, max depth = 8, train loss: 16650431.97655, val loss: 23629999.10534, in 1.424s\n",
      "[143/250] 1 tree, 24 leaves, max depth = 8, train loss: 16634371.62298, val loss: 23630720.35334, in 1.354s\n",
      "[144/250] 1 tree, 25 leaves, max depth = 8, train loss: 16606947.31107, val loss: 23621609.64156, in 1.158s\n",
      "[145/250] 1 tree, 31 leaves, max depth = 8, train loss: 16564209.46945, val loss: 23610808.84312, in 1.640s\n",
      "[146/250] 1 tree, 31 leaves, max depth = 8, train loss: 16511605.01659, val loss: 23626604.26509, in 1.598s\n",
      "[147/250] 1 tree, 18 leaves, max depth = 8, train loss: 16501673.75643, val loss: 23631567.88296, in 0.962s\n",
      "[148/250] 1 tree, 31 leaves, max depth = 8, train loss: 16469253.07776, val loss: 23608466.66723, in 1.344s\n",
      "[149/250] 1 tree, 21 leaves, max depth = 8, train loss: 16455758.09455, val loss: 23607328.51837, in 1.076s\n",
      "[150/250] 1 tree, 31 leaves, max depth = 8, train loss: 16407671.49446, val loss: 23604480.02801, in 1.547s\n",
      "[151/250] 1 tree, 31 leaves, max depth = 8, train loss: 16354440.34653, val loss: 23632005.93596, in 1.564s\n",
      "[152/250] 1 tree, 31 leaves, max depth = 8, train loss: 16309193.32291, val loss: 23586415.72776, in 1.450s\n",
      "[153/250] 1 tree, 22 leaves, max depth = 8, train loss: 16291350.23888, val loss: 23589794.82014, in 0.971s\n",
      "[154/250] 1 tree, 27 leaves, max depth = 8, train loss: 16261831.22429, val loss: 23599983.62503, in 1.241s\n",
      "[155/250] 1 tree, 31 leaves, max depth = 8, train loss: 16235549.44196, val loss: 23590844.76529, in 1.284s\n",
      "[156/250] 1 tree, 31 leaves, max depth = 8, train loss: 16189031.59153, val loss: 23601344.98162, in 1.447s\n",
      "[157/250] 1 tree, 24 leaves, max depth = 8, train loss: 16174833.43815, val loss: 23620918.37798, in 1.037s\n",
      "[158/250] 1 tree, 31 leaves, max depth = 8, train loss: 16143057.36919, val loss: 23618696.07659, in 1.345s\n",
      "[159/250] 1 tree, 31 leaves, max depth = 8, train loss: 16100524.24834, val loss: 23600762.63535, in 1.531s\n",
      "[160/250] 1 tree, 31 leaves, max depth = 8, train loss: 16063735.87403, val loss: 23599978.14095, in 1.725s\n",
      "[161/250] 1 tree, 24 leaves, max depth = 8, train loss: 16041397.74844, val loss: 23605303.76700, in 1.421s\n",
      "[162/250] 1 tree, 31 leaves, max depth = 8, train loss: 15993056.14272, val loss: 23594095.71980, in 1.750s\n",
      "Fit 162 trees in 276.281 s, (4865 total leaves)\n",
      "Time spent computing histograms: 218.532s\n",
      "Time spent finding best splits:  25.062s\n",
      "Time spent applying splits:      0.308s\n",
      "Time spent predicting:           0.002s\n",
      "📊 MAE (Dev): 4346.727870017742\n",
      "📈 R² Score (Dev): 0.6065089856538494\n",
      "\n",
      "📊 MAE (Test): 4177.560273237102\n",
      "📈 R² Score (Test): 0.6666483940356578\n"
     ]
    }
   ],
   "execution_count": 1100
  },
  {
   "metadata": {},
   "cell_type": "markdown",
   "source": "THIS MODEL PERFORMED ADMIRABLY, BUT THE RUNTIME FOR THESE NEXT TWO BLOCKS WAS LONGER THAN MODELING"
  },
  {
   "metadata": {},
   "cell_type": "code",
   "source": [
    "# from sklearn.inspection import permutation_importance\n",
    "# result = permutation_importance(hgb, X_dev_poly, y_dev, n_repeats=10, random_state=42, n_jobs=-1)"
   ],
   "outputs": [],
   "execution_count": null
  },
  {
   "cell_type": "code",
   "metadata": {
    "ExecuteTime": {
     "end_time": "2025-09-16T21:13:13.976800600Z",
     "start_time": "2025-09-16T20:21:12.373353Z"
    }
   },
   "source": [
    "# pd.DataFrame({\n",
    "#     'feature': feature_names,\n",
    "#     'importance': result.importances_mean\n",
    "# }).sort_values(by='importance', ascending=False)"
   ],
   "outputs": [],
   "execution_count": null
  },
  {
   "metadata": {},
   "cell_type": "markdown",
   "source": "RUNTIME TOO LONG WITH #RD DEGREE POLYNOMIALS"
  },
  {
   "cell_type": "code",
   "metadata": {},
   "source": [
    "# from sklearn.ensemble import GradientBoostingRegressor\n",
    "#\n",
    "# gbr = GradientBoostingRegressor(\n",
    "#     n_estimators=250,\n",
    "#     learning_rate=0.05,\n",
    "#     max_depth=6,\n",
    "#     random_state=42\n",
    "# )\n",
    "#\n",
    "# gbr.fit(X_train_poly, y_train)\n",
    "# y_dev_pred = gbr.predict(X_dev_poly)\n",
    "# y_test_pred = gbr.predict(X_test_poly)\n",
    "#\n",
    "# print(\"MAE (Dev):\", mean_absolute_error(y_dev, y_dev_pred))\n",
    "# print(\"R (Dev):\", r2_score(y_dev, y_dev_pred))"
   ],
   "outputs": [],
   "execution_count": null
  },
  {
   "cell_type": "code",
   "metadata": {
    "ExecuteTime": {
     "end_time": "2025-09-16T21:13:13.977800800Z",
     "start_time": "2025-09-16T20:21:12.659549Z"
    }
   },
   "source": [
    "# feat_imp_df = pd.DataFrame({\n",
    "#     'feature': feature_names,\n",
    "#     'importance': gbr.feature_importances_\n",
    "# }).sort_values(by='importance', ascending=False)\n",
    "#\n",
    "# feat_imp_df.head(10)"
   ],
   "outputs": [],
   "execution_count": null
  },
  {
   "metadata": {},
   "cell_type": "markdown",
   "source": [
    "### Evaluation\n",
    "\n",
    "With some modeling accomplished, we aim to reflect on what we identify as a high-quality model and what we are able to learn from this.  We should review our business objective and explore how well we can provide meaningful insight into drivers of used car prices.  Your goal now is to distill your findings and determine whether the earlier phases need revisitation and adjustment or if you have information of value to bring back to your client."
   ]
  },
  {
   "metadata": {},
   "cell_type": "markdown",
   "source": [
    "I experimented with several modeling approaches, including:\n",
    "LinearRegression, RidgeRegression, RandomForestRegressor, XGBRegressor, HistGradientBoostingRegressor, and GradientBoostingRegressor.\n",
    "\n",
    "Throughout the modeling process, I identified key data thresholds (e.g., price filters, missing data handling, feature encoding) and tested them rigorously for their impact on performance.\n",
    "\n",
    "I selected Mean Absolute Error (MAE) as my primary evaluation metric because of the presence of extreme values in both price and odometer. I also tracked R (coefficient of determination) as a proxy for overall model fit and confidence.\n",
    "\n",
    "After tuning, I was able to reduce MAE from ~$12,000s down to the $4,000s, and improve R from the 20th percentile to the 60s, depending on the model and data variant. My confidence in the findings was reinforced by my professional experience in the automotive industry, which aligned with many of the patterns uncovered by the models.\n",
    "\n",
    "Among all tested algorithms, XGBRegressor delivered the best combination of accuracy and runtime efficiency. Even though XGBoost is a standalone library, it integrates seamlessly with scikit-learn, making it easy to use in a familiar pipeline.\n",
    "\n",
    "While HistGradientBoostingRegressor showed competitive performance, it was difficult to extract feature importances in a straightforward way. I also tested the vanilla GradientBoostingRegressor, but its runtime was too long for marginal gains —\n",
    "\n",
    "Key TakeAways:\n",
    "1. We cannot directly observe buyer behavior, but we can infer patterns from listed features and prices.\n",
    "\n",
    "2. Utilitarian vehicle features, such as truck or van body styles, four-wheel drive, and diesel engines, consistently emerged as top price predictors.\n",
    "\n",
    "3. Cylinder count, especially V8 configurations, became impactful when interacting with drivetrain, body type, and fuel type, particularly for pickups and diesel models.\n",
    "\n",
    "4. Older diesel vehicles, especially trucks, get higher pricing regardless of mileage or condition; probably because of their durability, commercial appeal, and resale culture.\n",
    "\n",
    "5. European diesel vans/wagons also showed strong value retention, suggesting broad market trust in their longevity and efficiency."
   ]
  },
  {
   "cell_type": "markdown",
   "metadata": {},
   "source": [
    "### Deployment\n",
    "\n",
    "Now that we've settled on our models and findings, it is time to deliver the information to the client.  You should organize your work as a basic report that details your primary findings.  Keep in mind that your audience is a group of used car dealers interested in fine-tuning their inventory."
   ]
  },
  {
   "metadata": {},
   "cell_type": "markdown",
   "source": [
    "Preface to stakeholders: \"Ladies and/or Gentlemen what I am about to share with you will either be validating or enlightening.\"\n",
    "\n",
    "I experimented with many models and despite the limitations of the data, the models were all able to capture important trends related to pricing.\n",
    "\n",
    "My analysis allowed me to make the following conclusions about the dataset:\n",
    "\n",
    "We cant capture anything customer related with current dataset. That will require someone to provide me with historic sales data.\n",
    "\n",
    "In the absence of sales data, I am still able to point out some key observations about your current used car inventory:\n",
    "\n",
    "It seems utilitarian traits such as diesel engines, four-wheel drive systems, and pickup truck body styles emerged as top predictive features across all leading models. This suggests that vehicles built for durability, towing, or work-related utility command higher prices and retain value more effectively.\n",
    "\n",
    "I also observed that V8 engine configurations, especially when paired with diesel fuel or truck frames, consistently ranked high in interaction terms. Ultimately, our results affirm that your pricing reflects more than brand or age — it rewards vehicles designed for capability, reliability, and long-term use.\n",
    "\n",
    "Noteably, diesel-powered European vehicles, especially vans and wagons, also scored high on value retention, likely due to their reputation for efficiency, longevity, and practicality in both fleet and family use cases.\n",
    "\n",
    "Even without perfect predictive power, the model highlights pricing patterns that reflect universal value: utility, capability, and longevity.\n",
    "\n",
    "These findings may indicate vehicles that have more profit potential than others."
   ]
  },
  {
   "cell_type": "code",
   "metadata": {
    "ExecuteTime": {
     "end_time": "2025-09-16T20:21:12.761678Z",
     "start_time": "2025-09-16T20:21:12.750173Z"
    }
   },
   "source": [],
   "outputs": [],
   "execution_count": null
  },
  {
   "cell_type": "code",
   "metadata": {
    "ExecuteTime": {
     "end_time": "2025-09-16T20:21:12.777450Z",
     "start_time": "2025-09-16T20:21:12.767941Z"
    }
   },
   "source": [],
   "outputs": [],
   "execution_count": null
  },
  {
   "cell_type": "code",
   "metadata": {
    "ExecuteTime": {
     "end_time": "2025-09-16T20:21:12.793268Z",
     "start_time": "2025-09-16T20:21:12.781661Z"
    }
   },
   "source": [],
   "outputs": [],
   "execution_count": null
  },
  {
   "cell_type": "code",
   "metadata": {
    "ExecuteTime": {
     "end_time": "2025-09-16T20:21:12.809355Z",
     "start_time": "2025-09-16T20:21:12.804814Z"
    }
   },
   "source": [],
   "outputs": [],
   "execution_count": null
  },
  {
   "cell_type": "code",
   "metadata": {
    "ExecuteTime": {
     "end_time": "2025-09-16T20:21:12.824946Z",
     "start_time": "2025-09-16T20:21:12.813355Z"
    }
   },
   "source": [],
   "outputs": [],
   "execution_count": null
  },
  {
   "cell_type": "code",
   "metadata": {
    "ExecuteTime": {
     "end_time": "2025-09-16T20:21:12.841067Z",
     "start_time": "2025-09-16T20:21:12.831455Z"
    }
   },
   "source": [],
   "outputs": [],
   "execution_count": null
  }
 ],
 "metadata": {
  "kernelspec": {
   "display_name": "Python 3",
   "language": "python",
   "name": "python3"
  },
  "language_info": {
   "codemirror_mode": {
    "name": "ipython",
    "version": 3
   },
   "file_extension": ".py",
   "mimetype": "text/x-python",
   "name": "python",
   "nbconvert_exporter": "python",
   "pygments_lexer": "ipython3",
   "version": "3.8.8"
  },
  "widgets": {
   "application/vnd.jupyter.widget-state+json": {
    "state": {},
    "version_major": 2,
    "version_minor": 0
   }
  }
 },
 "nbformat": 4,
 "nbformat_minor": 4
}
