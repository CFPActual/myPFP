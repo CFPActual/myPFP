{
 "cells": [
  {
   "cell_type": "markdown",
   "metadata": {},
   "source": [
    "# What drives the price of a car?\n",
    "\n",
    "![](images/kurt.jpeg)"
   ]
  },
  {
   "cell_type": "markdown",
   "metadata": {},
   "source": [
    "**OVERVIEW**\n",
    "\n",
    "In this application, you will explore a dataset from Kaggle. The original dataset contained information on 3 million used cars. The provided dataset contains information on 426K cars to ensure speed of processing.  Your goal is to understand what factors make a car more or less expensive.  As a result of your analysis, you should provide clear recommendations to your client -- a used car dealership -- as to what consumers value in a used car."
   ]
  },
  {
   "cell_type": "markdown",
   "metadata": {},
   "source": [
    "### CRISP-DM Framework\n",
    "\n",
    "<center>\n",
    "    <img src = images/crisp.png width = 50%/>\n",
    "</center>\n",
    "\n",
    "\n",
    "To frame the task, throughout our practical applications, we will refer back to a standard process in industry for data projects called CRISP-DM.  This process provides a framework for working through a data problem.  Your first step in this application will be to read through a brief overview of CRISP-DM [here](https://mo-pcco.s3.us-east-1.amazonaws.com/BH-PCMLAI/module_11/readings_starter.zip).  After reading the overview, answer the questions below."
   ]
  },
  {
   "cell_type": "markdown",
   "metadata": {},
   "source": [
    "### Business Understanding\n",
    "\n",
    "From a business perspective, we are tasked with identifying key drivers for used car prices.  In the CRISP-DM overview, we are asked to convert this business framing to a data problem definition.  Using a few sentences, reframe the task as a data task with the appropriate technical vocabulary."
   ]
  },
  {
   "metadata": {},
   "cell_type": "markdown",
   "source": [
    "#### From the CRISP-DM: \"Towards a Standard Process Model for Data Mining\" paper by Rüdiger Wirth and the associated CRISP-DM manual I see that the purpose of Phase 1: Business Understanding is to:\n",
    "1. focus on understanding the project objectives and requirements from a business perspective\n",
    "2. convert this knowledge into a data mining problem definition, and a preliminary project plan designed to achieve the objectives.\"\n",
    "\n",
    "Following this convention this would be my phase 1 response\n",
    "\n",
    "Having worked in this industry for a few years in my early twenties, I can confidently say that the primary objective of this project is to determine what customers value most in a used \"vehicle\".\n",
    "My goal is to determine which characteristics of a used car inventory will provide the best probability of a(controlled and lucrative) sale for any given car.\n",
    "Additional Insight: There is a cost associated with maintaining a used car inventory.  These costs include, repair, refurbishment, licensing, maintenance, time, etc. Decisons have to be made (by the sales management staff) about which combination and number of these operating costs to apply to the base ingestion price of a given used car.  This is a per vehicle process that typically follows a specific algorithm. In my experience the process was the same whether the used car was obtained as a trade-in, an outright purchase, or an auction purchase.  The driving force behind this effort is every dealship's continuous desire to: 1. have strict control over used car \"time-in-inventory\" and 2. maximize \"net profit\".\n",
    "Finding the \"feature\" or \"features\" of a used car that will support their ultimate goal would place me in the Used Car Salesman Hall of Fame.\n",
    "\n",
    "One important thing I would like to point about this problem that would beg a conversation with used car domain experts/stakeholders (for clarity) is the use of the word \"value\" in the problem overview.\n",
    "I'm afraid the customer value signal cannot be obtained from the current 18 features.\n",
    "\n",
    "When I was that slimy used car guy years ago, we would say \"A good deal is a state of mind\".  Of course, it was our job to strictly control that state of mind.\n",
    "That phrase is a universal truth as well as a coping mechanism.  That is what salespeople say to make themselves feel better when they make a killing on a sale; meaning they sold it for a lot more than what the dealership purchased it for.\n",
    "I say all that to say, value != price. I believe the dataset can't capture \"value\" in its current state without historic sales data.  Knowing WHICH used cars sold for HOW MUCH and WHEN compared to INGESTION DATA is essential information.\n",
    "Dealerships definitely have that information so, with a firm understanding of the problem, I would have to circle back and ask the dealership stakeholders for additional features like Vehicle Purchased/Traded Date/Time, Vehicle Sold Data/Time, and \"Actual\" Sale Price.   That is absolutely necessary to be able to provide clear recommendations for what consumers \"value\" in a used car.\n",
    "\n",
    "For the sake of this assigment I can only explore the effects of the features on the \"**asking price**\" to expose used car pricing trends that the sales team may not be aware of."
   ]
  },
  {
   "cell_type": "markdown",
   "metadata": {},
   "source": [
    "### Data Understanding\n",
    "\n",
    "After considering the business understanding, we want to get familiar with our data.  Write down some steps that you would take to get to know the dataset and identify any quality issues within.  Take time to get to know the dataset and explore what information it contains and how this could be used to inform your business understanding."
   ]
  },
  {
   "cell_type": "code",
   "metadata": {
    "ExecuteTime": {
     "end_time": "2025-09-17T17:39:07.297119Z",
     "start_time": "2025-09-17T17:39:05.737965Z"
    }
   },
   "source": [
    "from sklearn.compose import ColumnTransformer\n",
    "from sklearn.decomposition import PCA\n",
    "from sklearn.ensemble import HistGradientBoostingRegressor\n",
    "from sklearn.ensemble import RandomForestRegressor\n",
    "from sklearn.linear_model import LinearRegression\n",
    "from sklearn.linear_model import Ridge\n",
    "from sklearn.linear_model import RidgeCV\n",
    "from sklearn.metrics import mean_absolute_error, r2_score\n",
    "from sklearn.metrics import mean_squared_error, r2_score, mean_absolute_error, mean_absolute_percentage_error\n",
    "from sklearn.model_selection import GridSearchCV\n",
    "from sklearn.model_selection import train_test_split\n",
    "from sklearn.pipeline import Pipeline\n",
    "from sklearn.preprocessing import OneHotEncoder, OrdinalEncoder\n",
    "from sklearn.preprocessing import PolynomialFeatures\n",
    "from sklearn.preprocessing import StandardScaler\n",
    "from xgboost import XGBRegressor\n",
    "import matplotlib.pyplot as plt\n",
    "import numpy as np\n",
    "import pandas as pd\n",
    "import seaborn as sns\n"
   ],
   "outputs": [],
   "execution_count": 2
  },
  {
   "cell_type": "code",
   "metadata": {
    "ExecuteTime": {
     "end_time": "2025-09-17T17:39:17.776569Z",
     "start_time": "2025-09-17T17:39:16.872665Z"
    }
   },
   "source": [
    "df = pd.read_csv(\"data/vehicles.csv\")\n",
    "df.head()"
   ],
   "outputs": [
    {
     "data": {
      "text/plain": [
       "           id                  region  price  year manufacturer model  \\\n",
       "0  7222695916                prescott   6000   NaN          NaN   NaN   \n",
       "1  7218891961            fayetteville  11900   NaN          NaN   NaN   \n",
       "2  7221797935            florida keys  21000   NaN          NaN   NaN   \n",
       "3  7222270760  worcester / central MA   1500   NaN          NaN   NaN   \n",
       "4  7210384030              greensboro   4900   NaN          NaN   NaN   \n",
       "\n",
       "  condition cylinders fuel  odometer title_status transmission  VIN drive  \\\n",
       "0       NaN       NaN  NaN       NaN          NaN          NaN  NaN   NaN   \n",
       "1       NaN       NaN  NaN       NaN          NaN          NaN  NaN   NaN   \n",
       "2       NaN       NaN  NaN       NaN          NaN          NaN  NaN   NaN   \n",
       "3       NaN       NaN  NaN       NaN          NaN          NaN  NaN   NaN   \n",
       "4       NaN       NaN  NaN       NaN          NaN          NaN  NaN   NaN   \n",
       "\n",
       "  size type paint_color state  \n",
       "0  NaN  NaN         NaN    az  \n",
       "1  NaN  NaN         NaN    ar  \n",
       "2  NaN  NaN         NaN    fl  \n",
       "3  NaN  NaN         NaN    ma  \n",
       "4  NaN  NaN         NaN    nc  "
      ],
      "text/html": [
       "<div>\n",
       "<style scoped>\n",
       "    .dataframe tbody tr th:only-of-type {\n",
       "        vertical-align: middle;\n",
       "    }\n",
       "\n",
       "    .dataframe tbody tr th {\n",
       "        vertical-align: top;\n",
       "    }\n",
       "\n",
       "    .dataframe thead th {\n",
       "        text-align: right;\n",
       "    }\n",
       "</style>\n",
       "<table border=\"1\" class=\"dataframe\">\n",
       "  <thead>\n",
       "    <tr style=\"text-align: right;\">\n",
       "      <th></th>\n",
       "      <th>id</th>\n",
       "      <th>region</th>\n",
       "      <th>price</th>\n",
       "      <th>year</th>\n",
       "      <th>manufacturer</th>\n",
       "      <th>model</th>\n",
       "      <th>condition</th>\n",
       "      <th>cylinders</th>\n",
       "      <th>fuel</th>\n",
       "      <th>odometer</th>\n",
       "      <th>title_status</th>\n",
       "      <th>transmission</th>\n",
       "      <th>VIN</th>\n",
       "      <th>drive</th>\n",
       "      <th>size</th>\n",
       "      <th>type</th>\n",
       "      <th>paint_color</th>\n",
       "      <th>state</th>\n",
       "    </tr>\n",
       "  </thead>\n",
       "  <tbody>\n",
       "    <tr>\n",
       "      <th>0</th>\n",
       "      <td>7222695916</td>\n",
       "      <td>prescott</td>\n",
       "      <td>6000</td>\n",
       "      <td>NaN</td>\n",
       "      <td>NaN</td>\n",
       "      <td>NaN</td>\n",
       "      <td>NaN</td>\n",
       "      <td>NaN</td>\n",
       "      <td>NaN</td>\n",
       "      <td>NaN</td>\n",
       "      <td>NaN</td>\n",
       "      <td>NaN</td>\n",
       "      <td>NaN</td>\n",
       "      <td>NaN</td>\n",
       "      <td>NaN</td>\n",
       "      <td>NaN</td>\n",
       "      <td>NaN</td>\n",
       "      <td>az</td>\n",
       "    </tr>\n",
       "    <tr>\n",
       "      <th>1</th>\n",
       "      <td>7218891961</td>\n",
       "      <td>fayetteville</td>\n",
       "      <td>11900</td>\n",
       "      <td>NaN</td>\n",
       "      <td>NaN</td>\n",
       "      <td>NaN</td>\n",
       "      <td>NaN</td>\n",
       "      <td>NaN</td>\n",
       "      <td>NaN</td>\n",
       "      <td>NaN</td>\n",
       "      <td>NaN</td>\n",
       "      <td>NaN</td>\n",
       "      <td>NaN</td>\n",
       "      <td>NaN</td>\n",
       "      <td>NaN</td>\n",
       "      <td>NaN</td>\n",
       "      <td>NaN</td>\n",
       "      <td>ar</td>\n",
       "    </tr>\n",
       "    <tr>\n",
       "      <th>2</th>\n",
       "      <td>7221797935</td>\n",
       "      <td>florida keys</td>\n",
       "      <td>21000</td>\n",
       "      <td>NaN</td>\n",
       "      <td>NaN</td>\n",
       "      <td>NaN</td>\n",
       "      <td>NaN</td>\n",
       "      <td>NaN</td>\n",
       "      <td>NaN</td>\n",
       "      <td>NaN</td>\n",
       "      <td>NaN</td>\n",
       "      <td>NaN</td>\n",
       "      <td>NaN</td>\n",
       "      <td>NaN</td>\n",
       "      <td>NaN</td>\n",
       "      <td>NaN</td>\n",
       "      <td>NaN</td>\n",
       "      <td>fl</td>\n",
       "    </tr>\n",
       "    <tr>\n",
       "      <th>3</th>\n",
       "      <td>7222270760</td>\n",
       "      <td>worcester / central MA</td>\n",
       "      <td>1500</td>\n",
       "      <td>NaN</td>\n",
       "      <td>NaN</td>\n",
       "      <td>NaN</td>\n",
       "      <td>NaN</td>\n",
       "      <td>NaN</td>\n",
       "      <td>NaN</td>\n",
       "      <td>NaN</td>\n",
       "      <td>NaN</td>\n",
       "      <td>NaN</td>\n",
       "      <td>NaN</td>\n",
       "      <td>NaN</td>\n",
       "      <td>NaN</td>\n",
       "      <td>NaN</td>\n",
       "      <td>NaN</td>\n",
       "      <td>ma</td>\n",
       "    </tr>\n",
       "    <tr>\n",
       "      <th>4</th>\n",
       "      <td>7210384030</td>\n",
       "      <td>greensboro</td>\n",
       "      <td>4900</td>\n",
       "      <td>NaN</td>\n",
       "      <td>NaN</td>\n",
       "      <td>NaN</td>\n",
       "      <td>NaN</td>\n",
       "      <td>NaN</td>\n",
       "      <td>NaN</td>\n",
       "      <td>NaN</td>\n",
       "      <td>NaN</td>\n",
       "      <td>NaN</td>\n",
       "      <td>NaN</td>\n",
       "      <td>NaN</td>\n",
       "      <td>NaN</td>\n",
       "      <td>NaN</td>\n",
       "      <td>NaN</td>\n",
       "      <td>nc</td>\n",
       "    </tr>\n",
       "  </tbody>\n",
       "</table>\n",
       "</div>"
      ]
     },
     "execution_count": 3,
     "metadata": {},
     "output_type": "execute_result"
    }
   ],
   "execution_count": 3
  },
  {
   "metadata": {},
   "cell_type": "markdown",
   "source": "EXPLORING MISSING VALUES"
  },
  {
   "metadata": {
    "ExecuteTime": {
     "end_time": "2025-09-17T17:39:17.839057Z",
     "start_time": "2025-09-17T17:39:17.828006Z"
    }
   },
   "cell_type": "code",
   "source": [
    "# Since we might be checking for missing data repeatedly\n",
    "def summarize_missing_values(dframe):\n",
    "    counts_of_missing_per_feature = dframe.isnull().sum()\n",
    "    percentages_missing_per_feature = (counts_of_missing_per_feature / len(dframe)) * 100\n",
    "\n",
    "    missing_summary = pd.DataFrame({\n",
    "                                    'missing_count': counts_of_missing_per_feature ,\n",
    "                                    'missing_percent': percentages_missing_per_feature.round(2)\n",
    "                                })\n",
    "\n",
    "    missing_summary.sort_values(by='missing_percent', ascending=False, inplace=True)\n",
    "    print(missing_summary)"
   ],
   "outputs": [],
   "execution_count": 4
  },
  {
   "metadata": {
    "ExecuteTime": {
     "end_time": "2025-09-17T17:39:18.416360Z",
     "start_time": "2025-09-17T17:39:18.117248Z"
    }
   },
   "cell_type": "code",
   "source": [
    "# Is the raw data like swiss cheese\n",
    "summarize_missing_values(df)\n"
   ],
   "outputs": [
    {
     "name": "stdout",
     "output_type": "stream",
     "text": [
      "              missing_count  missing_percent\n",
      "size                 306361            71.77\n",
      "cylinders            177678            41.62\n",
      "condition            174104            40.79\n",
      "VIN                  161042            37.73\n",
      "drive                130567            30.59\n",
      "paint_color          130203            30.50\n",
      "type                  92858            21.75\n",
      "manufacturer          17646             4.13\n",
      "title_status           8242             1.93\n",
      "model                  5277             1.24\n",
      "odometer               4400             1.03\n",
      "fuel                   3013             0.71\n",
      "transmission           2556             0.60\n",
      "year                   1205             0.28\n",
      "id                        0             0.00\n",
      "region                    0             0.00\n",
      "price                     0             0.00\n",
      "state                     0             0.00\n"
     ]
    }
   ],
   "execution_count": 5
  },
  {
   "metadata": {},
   "cell_type": "markdown",
   "source": [
    "### Data Preparation\n",
    "\n",
    "After our initial exploration and fine-tuning of the business understanding, it is time to construct our final dataset prior to modeling.  Here, we want to make sure to handle any integrity issues and cleaning, the engineering of new features, any transformations that we believe should happen (scaling, logarithms, normalization, etc.), and general preparation for modeling with `sklearn`."
   ]
  },
  {
   "metadata": {},
   "cell_type": "markdown",
   "source": [
    "#### Giving these outputs, and based on my revised focus (dealership pricing perspective) I have decided to drop the following columns early based on data condition and or domain knowledge:\n",
    "1 id - id is just an inventory number for a particular used vehicle; an internal administrative tag for the dealership for accounting purposes and others; no pricing. <br>\n",
    "2 VIN is just a purely administrative property of the car. Either a vehicle  has one or it doesn't. Presence or absence doesn't affect price since dealerships can't sell cars without VIN plates.<br>\n",
    "3 size - too many values missing and some of that signal is captured by the model feature.<br>\n",
    "4.paint_color - unless it is some sort of unicorn-like special paint job that dealers are confident they can make money on, the paint color is not important.  Only to the customer.<br>"
   ]
  },
  {
   "metadata": {
    "ExecuteTime": {
     "end_time": "2025-09-17T17:39:18.965713Z",
     "start_time": "2025-09-17T17:39:18.658874Z"
    }
   },
   "cell_type": "code",
   "source": [
    "df_lite = df.drop(columns=[\"id\", \"size\", \"paint_color\"])  # retaining VIN until after the VIN duplicate check\n",
    "nan_thresh = 4\n",
    "df_lite = df_lite[df_lite.notnull().sum(axis=1) >= nan_thresh] #  dropping rows with fewer than n non-NaN values\n",
    "df_lite.shape"
   ],
   "outputs": [
    {
     "data": {
      "text/plain": [
       "(426812, 15)"
      ]
     },
     "execution_count": 6,
     "metadata": {},
     "output_type": "execute_result"
    }
   ],
   "execution_count": 6
  },
  {
   "metadata": {},
   "cell_type": "markdown",
   "source": "DUPLICATE HANDLING"
  },
  {
   "metadata": {
    "ExecuteTime": {
     "end_time": "2025-09-17T17:39:19.221019Z",
     "start_time": "2025-09-17T17:39:19.027336Z"
    }
   },
   "cell_type": "code",
   "source": [
    "# Count duplicate VINs\n",
    "duplicate_VIN = df_lite[df_lite.duplicated(subset='VIN', keep=False)]\n",
    "\n",
    "# A snapshot of how many VINs appear more than once\n",
    "print(duplicate_VIN ['VIN'].value_counts().head())\n",
    "print(duplicate_VIN.shape)\n",
    "\n",
    "# Drop VIN duplicates then drop the VIN column since it has served its purpose\n",
    "df_lite = df_lite.drop_duplicates(subset='VIN', keep='first')\n",
    "df_lite = df_lite.drop(columns=[\"VIN\"])\n",
    "df_lite.shape\n"
   ],
   "outputs": [
    {
     "name": "stdout",
     "output_type": "stream",
     "text": [
      "VIN\n",
      "1FMJU1JT1HEA52352    261\n",
      "3C6JR6DT3KG560649    235\n",
      "1FTER1EH1LLA36301    231\n",
      "5TFTX4CN3EX042751    227\n",
      "1GCHTCE37G1186784    214\n",
      "Name: count, dtype: int64\n",
      "(348846, 15)\n"
     ]
    },
    {
     "data": {
      "text/plain": [
       "(118247, 14)"
      ]
     },
     "execution_count": 7,
     "metadata": {},
     "output_type": "execute_result"
    }
   ],
   "execution_count": 7
  },
  {
   "cell_type": "code",
   "metadata": {
    "ExecuteTime": {
     "end_time": "2025-09-17T17:39:19.665086Z",
     "start_time": "2025-09-17T17:39:19.271087Z"
    }
   },
   "source": [
    "# Now we check for/handle row duplicates yes?\n",
    "num_dupes = df_lite.duplicated().sum()\n",
    "print(f\"Exact duplicate rows: {num_dupes}\")\n",
    "\n",
    "# Drop exact duplicate rows (keep first occurrence)\n",
    "df_lite = df_lite.drop_duplicates()\n",
    "\n",
    "num_dupes = df_lite.duplicated().sum()\n",
    "print(f\"Exact duplicate rows: {num_dupes}\")\n",
    "df_lite.shape"
   ],
   "outputs": [
    {
     "name": "stdout",
     "output_type": "stream",
     "text": [
      "Exact duplicate rows: 163\n",
      "Exact duplicate rows: 0\n"
     ]
    },
    {
     "data": {
      "text/plain": [
       "(118084, 14)"
      ]
     },
     "execution_count": 8,
     "metadata": {},
     "output_type": "execute_result"
    }
   ],
   "execution_count": 8
  },
  {
   "metadata": {},
   "cell_type": "markdown",
   "source": "DATA IMPUTATION"
  },
  {
   "metadata": {
    "ExecuteTime": {
     "end_time": "2025-09-17T17:39:19.728085Z",
     "start_time": "2025-09-17T17:39:19.713085Z"
    }
   },
   "cell_type": "code",
   "source": [
    "# df_clean_imp = df_lite.copy()\n",
    "# df_clean_imp.info()"
   ],
   "outputs": [],
   "execution_count": 9
  },
  {
   "metadata": {
    "ExecuteTime": {
     "end_time": "2025-09-17T17:39:19.743087Z",
     "start_time": "2025-09-17T17:39:19.738092Z"
    }
   },
   "cell_type": "code",
   "source": "# working_df = df_clean_imp.copy()",
   "outputs": [],
   "execution_count": 10
  },
  {
   "metadata": {
    "ExecuteTime": {
     "end_time": "2025-09-17T17:39:19.759085Z",
     "start_time": "2025-09-17T17:39:19.753125Z"
    }
   },
   "cell_type": "code",
   "source": [
    "# # Mean/Mode Fill the working df if that is what is needed\n",
    "# for col in working_df.columns:\n",
    "#     if working_df[col].dtype in ['float64', 'int64']:\n",
    "#         working_df[col] = working_df[col].fillna(working_df[col].mean())\n",
    "#     elif working_df[col].dtype == 'object':\n",
    "#         working_df[col] = working_df[col].fillna(working_df[col].mode()[0])"
   ],
   "outputs": [],
   "execution_count": 11
  },
  {
   "metadata": {
    "ExecuteTime": {
     "end_time": "2025-09-17T17:39:19.775087Z",
     "start_time": "2025-09-17T17:39:19.768085Z"
    }
   },
   "cell_type": "code",
   "source": [
    "# summarize_missing_values(working_df)\n",
    "# print(working_df.shape)"
   ],
   "outputs": [],
   "execution_count": 12
  },
  {
   "metadata": {
    "ExecuteTime": {
     "end_time": "2025-09-17T17:39:19.806099Z",
     "start_time": "2025-09-17T17:39:19.786089Z"
    }
   },
   "cell_type": "code",
   "source": "# print(working_df.describe())",
   "outputs": [],
   "execution_count": 13
  },
  {
   "metadata": {},
   "cell_type": "markdown",
   "source": "CREATING A DROPNA'd VERSION OF THE DATA FOR COMPARISON  <-- TESTS WERE RUN FOLLOWING IMPUTED DATA TESTING AND THE DROPNA RESULTS WERE FAR SUPERIOR"
  },
  {
   "metadata": {
    "ExecuteTime": {
     "end_time": "2025-09-17T17:39:19.901084Z",
     "start_time": "2025-09-17T17:39:19.818089Z"
    }
   },
   "cell_type": "code",
   "source": [
    "df_clean_dna = df_lite.copy().dropna() # this is the fully NaN sanitized version without imputation\n",
    "print(df_clean_dna.shape)\n",
    "print(df_clean_dna.info())\n",
    "working_df = df_clean_dna.copy()"
   ],
   "outputs": [
    {
     "name": "stdout",
     "output_type": "stream",
     "text": [
      "(34697, 14)\n",
      "<class 'pandas.core.frame.DataFrame'>\n",
      "Index: 34697 entries, 31 to 426833\n",
      "Data columns (total 14 columns):\n",
      " #   Column        Non-Null Count  Dtype  \n",
      "---  ------        --------------  -----  \n",
      " 0   region        34697 non-null  object \n",
      " 1   price         34697 non-null  int64  \n",
      " 2   year          34697 non-null  float64\n",
      " 3   manufacturer  34697 non-null  object \n",
      " 4   model         34697 non-null  object \n",
      " 5   condition     34697 non-null  object \n",
      " 6   cylinders     34697 non-null  object \n",
      " 7   fuel          34697 non-null  object \n",
      " 8   odometer      34697 non-null  float64\n",
      " 9   title_status  34697 non-null  object \n",
      " 10  transmission  34697 non-null  object \n",
      " 11  drive         34697 non-null  object \n",
      " 12  type          34697 non-null  object \n",
      " 13  state         34697 non-null  object \n",
      "dtypes: float64(2), int64(1), object(11)\n",
      "memory usage: 4.0+ MB\n",
      "None\n"
     ]
    }
   ],
   "execution_count": 14
  },
  {
   "metadata": {
    "ExecuteTime": {
     "end_time": "2025-09-17T17:39:19.933088Z",
     "start_time": "2025-09-17T17:39:19.927106Z"
    }
   },
   "cell_type": "code",
   "source": "",
   "outputs": [],
   "execution_count": null
  },
  {
   "metadata": {
    "ExecuteTime": {
     "end_time": "2025-09-17T17:39:19.964116Z",
     "start_time": "2025-09-17T17:39:19.949084Z"
    }
   },
   "cell_type": "code",
   "source": [
    "# Prices and Odometer values approaching 1M should be examined\n",
    "working_df[working_df['price'] > 1e6]"
   ],
   "outputs": [
    {
     "data": {
      "text/plain": [
       "Empty DataFrame\n",
       "Columns: [region, price, year, manufacturer, model, condition, cylinders, fuel, odometer, title_status, transmission, drive, type, state]\n",
       "Index: []"
      ],
      "text/html": [
       "<div>\n",
       "<style scoped>\n",
       "    .dataframe tbody tr th:only-of-type {\n",
       "        vertical-align: middle;\n",
       "    }\n",
       "\n",
       "    .dataframe tbody tr th {\n",
       "        vertical-align: top;\n",
       "    }\n",
       "\n",
       "    .dataframe thead th {\n",
       "        text-align: right;\n",
       "    }\n",
       "</style>\n",
       "<table border=\"1\" class=\"dataframe\">\n",
       "  <thead>\n",
       "    <tr style=\"text-align: right;\">\n",
       "      <th></th>\n",
       "      <th>region</th>\n",
       "      <th>price</th>\n",
       "      <th>year</th>\n",
       "      <th>manufacturer</th>\n",
       "      <th>model</th>\n",
       "      <th>condition</th>\n",
       "      <th>cylinders</th>\n",
       "      <th>fuel</th>\n",
       "      <th>odometer</th>\n",
       "      <th>title_status</th>\n",
       "      <th>transmission</th>\n",
       "      <th>drive</th>\n",
       "      <th>type</th>\n",
       "      <th>state</th>\n",
       "    </tr>\n",
       "  </thead>\n",
       "  <tbody>\n",
       "  </tbody>\n",
       "</table>\n",
       "</div>"
      ]
     },
     "execution_count": 15,
     "metadata": {},
     "output_type": "execute_result"
    }
   ],
   "execution_count": 15
  },
  {
   "metadata": {
    "ExecuteTime": {
     "end_time": "2025-09-17T17:39:20.105085Z",
     "start_time": "2025-09-17T17:39:20.071090Z"
    }
   },
   "cell_type": "code",
   "source": "working_df[working_df['odometer'] > 1e6]",
   "outputs": [
    {
     "data": {
      "text/plain": [
       "                         region  price    year   manufacturer  \\\n",
       "76874                    denver   2995  1999.0           audi   \n",
       "119725           treasure coast   1000  1992.0           ford   \n",
       "137441  spokane / coeur d'alene   3850  2002.0  mercedes-benz   \n",
       "144401       quad cities, IA/IL   7999  2012.0           ford   \n",
       "151648             indianapolis   6495  2010.0       chrysler   \n",
       "156057             cedar rapids   5999  2008.0           ford   \n",
       "176057              new orleans  15999  2013.0           ford   \n",
       "242659    raleigh / durham / CH  10900  2011.0            bmw   \n",
       "328533                     erie    600  1981.0           ford   \n",
       "334534             philadelphia   2946  1964.0          buick   \n",
       "353492               cookeville   5000  1970.0      chevrolet   \n",
       "355243                knoxville   2650  1999.0          buick   \n",
       "369958      dallas / fort worth  18000  1961.0           ford   \n",
       "385754         ogden-clearfield   5000  2004.0        lincoln   \n",
       "391670             harrisonburg   2250  2003.0           ford   \n",
       "396317                 richmond  11495  2000.0           ford   \n",
       "417643                green bay  39500  1958.0      chevrolet   \n",
       "\n",
       "                         model  condition    cylinders    fuel   odometer  \\\n",
       "76874                       a4       good  6 cylinders     gas  2319010.0   \n",
       "119725            f150 longbed    salvage  6 cylinders     gas  3000000.0   \n",
       "137441                  ml-500  excellent  8 cylinders     gas  1111111.0   \n",
       "144401                  escape       good  6 cylinders     gas  1096000.0   \n",
       "151648    town country touring       good  6 cylinders     gas  1200290.0   \n",
       "156057          escape limited  excellent  6 cylinders     gas  1130401.0   \n",
       "176057                   f-150  excellent  8 cylinders     gas  1701289.0   \n",
       "242659                      x5  excellent  6 cylinders  diesel  1320000.0   \n",
       "328533                   f-150       fair  8 cylinders     gas  9999999.0   \n",
       "334534                   wagon       fair  8 cylinders     gas  9999999.0   \n",
       "353492                 c10 cst       fair  8 cylinders     gas  9999999.0   \n",
       "355243               regal gse       good  6 cylinders     gas  9999999.0   \n",
       "369958                 galaxie       good  8 cylinders     gas  1111111.0   \n",
       "385754                town car  excellent  8 cylinders     gas  1422929.0   \n",
       "391670        explorer xlt 4wd       good  4 cylinders     gas  1795320.0   \n",
       "396317  mustang gt convertible       good  8 cylinders     gas  1000011.0   \n",
       "417643                  impala       good  8 cylinders     gas  1710000.0   \n",
       "\n",
       "       title_status transmission drive         type state  \n",
       "76874         clean    automatic   4wd        sedan    co  \n",
       "119725        clean       manual   rwd        truck    fl  \n",
       "137441        clean    automatic   4wd          SUV    id  \n",
       "144401        clean    automatic   4wd          SUV    il  \n",
       "151648        clean    automatic   fwd     mini-van    in  \n",
       "156057        clean    automatic   4wd          SUV    ia  \n",
       "176057         lien    automatic   rwd        truck    la  \n",
       "242659        clean    automatic   4wd          SUV    nc  \n",
       "328533        clean       manual   rwd        truck    pa  \n",
       "334534        clean       manual   rwd        wagon    pa  \n",
       "353492        clean    automatic   rwd       pickup    tn  \n",
       "355243        clean    automatic   fwd        sedan    tn  \n",
       "369958        clean       manual   rwd        coupe    tx  \n",
       "385754        clean    automatic   rwd        sedan    ut  \n",
       "391670        clean    automatic   4wd          SUV    va  \n",
       "396317        clean    automatic   rwd  convertible    va  \n",
       "417643        clean    automatic   rwd        coupe    wi  "
      ],
      "text/html": [
       "<div>\n",
       "<style scoped>\n",
       "    .dataframe tbody tr th:only-of-type {\n",
       "        vertical-align: middle;\n",
       "    }\n",
       "\n",
       "    .dataframe tbody tr th {\n",
       "        vertical-align: top;\n",
       "    }\n",
       "\n",
       "    .dataframe thead th {\n",
       "        text-align: right;\n",
       "    }\n",
       "</style>\n",
       "<table border=\"1\" class=\"dataframe\">\n",
       "  <thead>\n",
       "    <tr style=\"text-align: right;\">\n",
       "      <th></th>\n",
       "      <th>region</th>\n",
       "      <th>price</th>\n",
       "      <th>year</th>\n",
       "      <th>manufacturer</th>\n",
       "      <th>model</th>\n",
       "      <th>condition</th>\n",
       "      <th>cylinders</th>\n",
       "      <th>fuel</th>\n",
       "      <th>odometer</th>\n",
       "      <th>title_status</th>\n",
       "      <th>transmission</th>\n",
       "      <th>drive</th>\n",
       "      <th>type</th>\n",
       "      <th>state</th>\n",
       "    </tr>\n",
       "  </thead>\n",
       "  <tbody>\n",
       "    <tr>\n",
       "      <th>76874</th>\n",
       "      <td>denver</td>\n",
       "      <td>2995</td>\n",
       "      <td>1999.0</td>\n",
       "      <td>audi</td>\n",
       "      <td>a4</td>\n",
       "      <td>good</td>\n",
       "      <td>6 cylinders</td>\n",
       "      <td>gas</td>\n",
       "      <td>2319010.0</td>\n",
       "      <td>clean</td>\n",
       "      <td>automatic</td>\n",
       "      <td>4wd</td>\n",
       "      <td>sedan</td>\n",
       "      <td>co</td>\n",
       "    </tr>\n",
       "    <tr>\n",
       "      <th>119725</th>\n",
       "      <td>treasure coast</td>\n",
       "      <td>1000</td>\n",
       "      <td>1992.0</td>\n",
       "      <td>ford</td>\n",
       "      <td>f150 longbed</td>\n",
       "      <td>salvage</td>\n",
       "      <td>6 cylinders</td>\n",
       "      <td>gas</td>\n",
       "      <td>3000000.0</td>\n",
       "      <td>clean</td>\n",
       "      <td>manual</td>\n",
       "      <td>rwd</td>\n",
       "      <td>truck</td>\n",
       "      <td>fl</td>\n",
       "    </tr>\n",
       "    <tr>\n",
       "      <th>137441</th>\n",
       "      <td>spokane / coeur d'alene</td>\n",
       "      <td>3850</td>\n",
       "      <td>2002.0</td>\n",
       "      <td>mercedes-benz</td>\n",
       "      <td>ml-500</td>\n",
       "      <td>excellent</td>\n",
       "      <td>8 cylinders</td>\n",
       "      <td>gas</td>\n",
       "      <td>1111111.0</td>\n",
       "      <td>clean</td>\n",
       "      <td>automatic</td>\n",
       "      <td>4wd</td>\n",
       "      <td>SUV</td>\n",
       "      <td>id</td>\n",
       "    </tr>\n",
       "    <tr>\n",
       "      <th>144401</th>\n",
       "      <td>quad cities, IA/IL</td>\n",
       "      <td>7999</td>\n",
       "      <td>2012.0</td>\n",
       "      <td>ford</td>\n",
       "      <td>escape</td>\n",
       "      <td>good</td>\n",
       "      <td>6 cylinders</td>\n",
       "      <td>gas</td>\n",
       "      <td>1096000.0</td>\n",
       "      <td>clean</td>\n",
       "      <td>automatic</td>\n",
       "      <td>4wd</td>\n",
       "      <td>SUV</td>\n",
       "      <td>il</td>\n",
       "    </tr>\n",
       "    <tr>\n",
       "      <th>151648</th>\n",
       "      <td>indianapolis</td>\n",
       "      <td>6495</td>\n",
       "      <td>2010.0</td>\n",
       "      <td>chrysler</td>\n",
       "      <td>town country touring</td>\n",
       "      <td>good</td>\n",
       "      <td>6 cylinders</td>\n",
       "      <td>gas</td>\n",
       "      <td>1200290.0</td>\n",
       "      <td>clean</td>\n",
       "      <td>automatic</td>\n",
       "      <td>fwd</td>\n",
       "      <td>mini-van</td>\n",
       "      <td>in</td>\n",
       "    </tr>\n",
       "    <tr>\n",
       "      <th>156057</th>\n",
       "      <td>cedar rapids</td>\n",
       "      <td>5999</td>\n",
       "      <td>2008.0</td>\n",
       "      <td>ford</td>\n",
       "      <td>escape limited</td>\n",
       "      <td>excellent</td>\n",
       "      <td>6 cylinders</td>\n",
       "      <td>gas</td>\n",
       "      <td>1130401.0</td>\n",
       "      <td>clean</td>\n",
       "      <td>automatic</td>\n",
       "      <td>4wd</td>\n",
       "      <td>SUV</td>\n",
       "      <td>ia</td>\n",
       "    </tr>\n",
       "    <tr>\n",
       "      <th>176057</th>\n",
       "      <td>new orleans</td>\n",
       "      <td>15999</td>\n",
       "      <td>2013.0</td>\n",
       "      <td>ford</td>\n",
       "      <td>f-150</td>\n",
       "      <td>excellent</td>\n",
       "      <td>8 cylinders</td>\n",
       "      <td>gas</td>\n",
       "      <td>1701289.0</td>\n",
       "      <td>lien</td>\n",
       "      <td>automatic</td>\n",
       "      <td>rwd</td>\n",
       "      <td>truck</td>\n",
       "      <td>la</td>\n",
       "    </tr>\n",
       "    <tr>\n",
       "      <th>242659</th>\n",
       "      <td>raleigh / durham / CH</td>\n",
       "      <td>10900</td>\n",
       "      <td>2011.0</td>\n",
       "      <td>bmw</td>\n",
       "      <td>x5</td>\n",
       "      <td>excellent</td>\n",
       "      <td>6 cylinders</td>\n",
       "      <td>diesel</td>\n",
       "      <td>1320000.0</td>\n",
       "      <td>clean</td>\n",
       "      <td>automatic</td>\n",
       "      <td>4wd</td>\n",
       "      <td>SUV</td>\n",
       "      <td>nc</td>\n",
       "    </tr>\n",
       "    <tr>\n",
       "      <th>328533</th>\n",
       "      <td>erie</td>\n",
       "      <td>600</td>\n",
       "      <td>1981.0</td>\n",
       "      <td>ford</td>\n",
       "      <td>f-150</td>\n",
       "      <td>fair</td>\n",
       "      <td>8 cylinders</td>\n",
       "      <td>gas</td>\n",
       "      <td>9999999.0</td>\n",
       "      <td>clean</td>\n",
       "      <td>manual</td>\n",
       "      <td>rwd</td>\n",
       "      <td>truck</td>\n",
       "      <td>pa</td>\n",
       "    </tr>\n",
       "    <tr>\n",
       "      <th>334534</th>\n",
       "      <td>philadelphia</td>\n",
       "      <td>2946</td>\n",
       "      <td>1964.0</td>\n",
       "      <td>buick</td>\n",
       "      <td>wagon</td>\n",
       "      <td>fair</td>\n",
       "      <td>8 cylinders</td>\n",
       "      <td>gas</td>\n",
       "      <td>9999999.0</td>\n",
       "      <td>clean</td>\n",
       "      <td>manual</td>\n",
       "      <td>rwd</td>\n",
       "      <td>wagon</td>\n",
       "      <td>pa</td>\n",
       "    </tr>\n",
       "    <tr>\n",
       "      <th>353492</th>\n",
       "      <td>cookeville</td>\n",
       "      <td>5000</td>\n",
       "      <td>1970.0</td>\n",
       "      <td>chevrolet</td>\n",
       "      <td>c10 cst</td>\n",
       "      <td>fair</td>\n",
       "      <td>8 cylinders</td>\n",
       "      <td>gas</td>\n",
       "      <td>9999999.0</td>\n",
       "      <td>clean</td>\n",
       "      <td>automatic</td>\n",
       "      <td>rwd</td>\n",
       "      <td>pickup</td>\n",
       "      <td>tn</td>\n",
       "    </tr>\n",
       "    <tr>\n",
       "      <th>355243</th>\n",
       "      <td>knoxville</td>\n",
       "      <td>2650</td>\n",
       "      <td>1999.0</td>\n",
       "      <td>buick</td>\n",
       "      <td>regal gse</td>\n",
       "      <td>good</td>\n",
       "      <td>6 cylinders</td>\n",
       "      <td>gas</td>\n",
       "      <td>9999999.0</td>\n",
       "      <td>clean</td>\n",
       "      <td>automatic</td>\n",
       "      <td>fwd</td>\n",
       "      <td>sedan</td>\n",
       "      <td>tn</td>\n",
       "    </tr>\n",
       "    <tr>\n",
       "      <th>369958</th>\n",
       "      <td>dallas / fort worth</td>\n",
       "      <td>18000</td>\n",
       "      <td>1961.0</td>\n",
       "      <td>ford</td>\n",
       "      <td>galaxie</td>\n",
       "      <td>good</td>\n",
       "      <td>8 cylinders</td>\n",
       "      <td>gas</td>\n",
       "      <td>1111111.0</td>\n",
       "      <td>clean</td>\n",
       "      <td>manual</td>\n",
       "      <td>rwd</td>\n",
       "      <td>coupe</td>\n",
       "      <td>tx</td>\n",
       "    </tr>\n",
       "    <tr>\n",
       "      <th>385754</th>\n",
       "      <td>ogden-clearfield</td>\n",
       "      <td>5000</td>\n",
       "      <td>2004.0</td>\n",
       "      <td>lincoln</td>\n",
       "      <td>town car</td>\n",
       "      <td>excellent</td>\n",
       "      <td>8 cylinders</td>\n",
       "      <td>gas</td>\n",
       "      <td>1422929.0</td>\n",
       "      <td>clean</td>\n",
       "      <td>automatic</td>\n",
       "      <td>rwd</td>\n",
       "      <td>sedan</td>\n",
       "      <td>ut</td>\n",
       "    </tr>\n",
       "    <tr>\n",
       "      <th>391670</th>\n",
       "      <td>harrisonburg</td>\n",
       "      <td>2250</td>\n",
       "      <td>2003.0</td>\n",
       "      <td>ford</td>\n",
       "      <td>explorer xlt 4wd</td>\n",
       "      <td>good</td>\n",
       "      <td>4 cylinders</td>\n",
       "      <td>gas</td>\n",
       "      <td>1795320.0</td>\n",
       "      <td>clean</td>\n",
       "      <td>automatic</td>\n",
       "      <td>4wd</td>\n",
       "      <td>SUV</td>\n",
       "      <td>va</td>\n",
       "    </tr>\n",
       "    <tr>\n",
       "      <th>396317</th>\n",
       "      <td>richmond</td>\n",
       "      <td>11495</td>\n",
       "      <td>2000.0</td>\n",
       "      <td>ford</td>\n",
       "      <td>mustang gt convertible</td>\n",
       "      <td>good</td>\n",
       "      <td>8 cylinders</td>\n",
       "      <td>gas</td>\n",
       "      <td>1000011.0</td>\n",
       "      <td>clean</td>\n",
       "      <td>automatic</td>\n",
       "      <td>rwd</td>\n",
       "      <td>convertible</td>\n",
       "      <td>va</td>\n",
       "    </tr>\n",
       "    <tr>\n",
       "      <th>417643</th>\n",
       "      <td>green bay</td>\n",
       "      <td>39500</td>\n",
       "      <td>1958.0</td>\n",
       "      <td>chevrolet</td>\n",
       "      <td>impala</td>\n",
       "      <td>good</td>\n",
       "      <td>8 cylinders</td>\n",
       "      <td>gas</td>\n",
       "      <td>1710000.0</td>\n",
       "      <td>clean</td>\n",
       "      <td>automatic</td>\n",
       "      <td>rwd</td>\n",
       "      <td>coupe</td>\n",
       "      <td>wi</td>\n",
       "    </tr>\n",
       "  </tbody>\n",
       "</table>\n",
       "</div>"
      ]
     },
     "execution_count": 16,
     "metadata": {},
     "output_type": "execute_result"
    }
   ],
   "execution_count": 16
  },
  {
   "metadata": {},
   "cell_type": "markdown",
   "source": "SETTING LIMITS ON PRICE AND ODOMETER VALUES"
  },
  {
   "metadata": {
    "ExecuteTime": {
     "end_time": "2025-09-17T17:39:20.468293Z",
     "start_time": "2025-09-17T17:39:20.458292Z"
    }
   },
   "cell_type": "code",
   "source": [
    "# Dropping the insaaaaane prices\n",
    "working_df = working_df[working_df['price'] <= 1e6]"
   ],
   "outputs": [],
   "execution_count": 17
  },
  {
   "metadata": {
    "ExecuteTime": {
     "end_time": "2025-09-17T17:39:20.674293Z",
     "start_time": "2025-09-17T17:39:20.657294Z"
    }
   },
   "cell_type": "code",
   "source": [
    "# and the 10M mile van has to go too.  The remaining high-mileages are all plausible\n",
    "working_df = working_df[working_df['odometer'] <= 1e6]"
   ],
   "outputs": [],
   "execution_count": 18
  },
  {
   "metadata": {
    "ExecuteTime": {
     "end_time": "2025-09-17T17:39:20.785323Z",
     "start_time": "2025-09-17T17:39:20.762293Z"
    }
   },
   "cell_type": "code",
   "source": [
    "working_df.reset_index(drop=True, inplace=True)\n",
    "working_df.head()"
   ],
   "outputs": [
    {
     "data": {
      "text/plain": [
       "   region  price    year manufacturer                        model  condition  \\\n",
       "0  auburn  15000  2013.0         ford                    f-150 xlt  excellent   \n",
       "1  auburn  27990  2012.0          gmc  sierra 2500 hd extended cab       good   \n",
       "2  auburn  34590  2016.0    chevrolet        silverado 1500 double       good   \n",
       "3  auburn  29990  2016.0    chevrolet        colorado extended cab       good   \n",
       "4  auburn  38590  2011.0    chevrolet         corvette grand sport       good   \n",
       "\n",
       "     cylinders fuel  odometer title_status transmission drive    type state  \n",
       "0  6 cylinders  gas  128000.0        clean    automatic   rwd   truck    al  \n",
       "1  8 cylinders  gas   68696.0        clean        other   4wd  pickup    al  \n",
       "2  6 cylinders  gas   29499.0        clean        other   4wd  pickup    al  \n",
       "3  6 cylinders  gas   17302.0        clean        other   4wd  pickup    al  \n",
       "4  8 cylinders  gas   30237.0        clean        other   rwd   other    al  "
      ],
      "text/html": [
       "<div>\n",
       "<style scoped>\n",
       "    .dataframe tbody tr th:only-of-type {\n",
       "        vertical-align: middle;\n",
       "    }\n",
       "\n",
       "    .dataframe tbody tr th {\n",
       "        vertical-align: top;\n",
       "    }\n",
       "\n",
       "    .dataframe thead th {\n",
       "        text-align: right;\n",
       "    }\n",
       "</style>\n",
       "<table border=\"1\" class=\"dataframe\">\n",
       "  <thead>\n",
       "    <tr style=\"text-align: right;\">\n",
       "      <th></th>\n",
       "      <th>region</th>\n",
       "      <th>price</th>\n",
       "      <th>year</th>\n",
       "      <th>manufacturer</th>\n",
       "      <th>model</th>\n",
       "      <th>condition</th>\n",
       "      <th>cylinders</th>\n",
       "      <th>fuel</th>\n",
       "      <th>odometer</th>\n",
       "      <th>title_status</th>\n",
       "      <th>transmission</th>\n",
       "      <th>drive</th>\n",
       "      <th>type</th>\n",
       "      <th>state</th>\n",
       "    </tr>\n",
       "  </thead>\n",
       "  <tbody>\n",
       "    <tr>\n",
       "      <th>0</th>\n",
       "      <td>auburn</td>\n",
       "      <td>15000</td>\n",
       "      <td>2013.0</td>\n",
       "      <td>ford</td>\n",
       "      <td>f-150 xlt</td>\n",
       "      <td>excellent</td>\n",
       "      <td>6 cylinders</td>\n",
       "      <td>gas</td>\n",
       "      <td>128000.0</td>\n",
       "      <td>clean</td>\n",
       "      <td>automatic</td>\n",
       "      <td>rwd</td>\n",
       "      <td>truck</td>\n",
       "      <td>al</td>\n",
       "    </tr>\n",
       "    <tr>\n",
       "      <th>1</th>\n",
       "      <td>auburn</td>\n",
       "      <td>27990</td>\n",
       "      <td>2012.0</td>\n",
       "      <td>gmc</td>\n",
       "      <td>sierra 2500 hd extended cab</td>\n",
       "      <td>good</td>\n",
       "      <td>8 cylinders</td>\n",
       "      <td>gas</td>\n",
       "      <td>68696.0</td>\n",
       "      <td>clean</td>\n",
       "      <td>other</td>\n",
       "      <td>4wd</td>\n",
       "      <td>pickup</td>\n",
       "      <td>al</td>\n",
       "    </tr>\n",
       "    <tr>\n",
       "      <th>2</th>\n",
       "      <td>auburn</td>\n",
       "      <td>34590</td>\n",
       "      <td>2016.0</td>\n",
       "      <td>chevrolet</td>\n",
       "      <td>silverado 1500 double</td>\n",
       "      <td>good</td>\n",
       "      <td>6 cylinders</td>\n",
       "      <td>gas</td>\n",
       "      <td>29499.0</td>\n",
       "      <td>clean</td>\n",
       "      <td>other</td>\n",
       "      <td>4wd</td>\n",
       "      <td>pickup</td>\n",
       "      <td>al</td>\n",
       "    </tr>\n",
       "    <tr>\n",
       "      <th>3</th>\n",
       "      <td>auburn</td>\n",
       "      <td>29990</td>\n",
       "      <td>2016.0</td>\n",
       "      <td>chevrolet</td>\n",
       "      <td>colorado extended cab</td>\n",
       "      <td>good</td>\n",
       "      <td>6 cylinders</td>\n",
       "      <td>gas</td>\n",
       "      <td>17302.0</td>\n",
       "      <td>clean</td>\n",
       "      <td>other</td>\n",
       "      <td>4wd</td>\n",
       "      <td>pickup</td>\n",
       "      <td>al</td>\n",
       "    </tr>\n",
       "    <tr>\n",
       "      <th>4</th>\n",
       "      <td>auburn</td>\n",
       "      <td>38590</td>\n",
       "      <td>2011.0</td>\n",
       "      <td>chevrolet</td>\n",
       "      <td>corvette grand sport</td>\n",
       "      <td>good</td>\n",
       "      <td>8 cylinders</td>\n",
       "      <td>gas</td>\n",
       "      <td>30237.0</td>\n",
       "      <td>clean</td>\n",
       "      <td>other</td>\n",
       "      <td>rwd</td>\n",
       "      <td>other</td>\n",
       "      <td>al</td>\n",
       "    </tr>\n",
       "  </tbody>\n",
       "</table>\n",
       "</div>"
      ]
     },
     "execution_count": 19,
     "metadata": {},
     "output_type": "execute_result"
    }
   ],
   "execution_count": 19
  },
  {
   "metadata": {
    "ExecuteTime": {
     "end_time": "2025-09-17T17:39:21.007294Z",
     "start_time": "2025-09-17T17:39:20.951294Z"
    }
   },
   "cell_type": "code",
   "source": [
    "# A little pre-visualization feature engineering is necessary to expose useful numeric values hidden in strings and to look for high cardinality features to handle\n",
    "def get_unique_values_by_column(dframe):\n",
    "    for col in dframe.select_dtypes(include='object').columns:\n",
    "        unique_vals = dframe[col].dropna().unique()\n",
    "        print(f\"{col} ({len(unique_vals)} unique):\")\n",
    "        print(unique_vals[:41])\n",
    "        print(\"-\" * 40)\n",
    "get_unique_values_by_column(working_df)"
   ],
   "outputs": [
    {
     "name": "stdout",
     "output_type": "stream",
     "text": [
      "region (392 unique):\n",
      "['auburn' 'birmingham' 'dothan' 'florence / muscle shoals'\n",
      " 'gadsden-anniston' 'huntsville / decatur' 'mobile' 'montgomery'\n",
      " 'tuscaloosa' 'anchorage / mat-su' 'fairbanks' 'kenai peninsula'\n",
      " 'southeast alaska' 'flagstaff / sedona' 'mohave county' 'phoenix'\n",
      " 'prescott' 'show low' 'sierra vista' 'tucson' 'yuma' 'fayetteville'\n",
      " 'fort smith' 'jonesboro' 'little rock' 'texarkana' 'bakersfield' 'chico'\n",
      " 'fresno / madera' 'gold country' 'hanford-corcoran' 'humboldt county'\n",
      " 'imperial county' 'inland empire' 'los angeles' 'mendocino county'\n",
      " 'merced' 'modesto' 'monterey bay' 'orange county' 'palm springs']\n",
      "----------------------------------------\n",
      "manufacturer (41 unique):\n",
      "['ford' 'gmc' 'chevrolet' 'jeep' 'nissan' 'toyota' 'ram' 'infiniti'\n",
      " 'chrysler' 'bmw' 'mazda' 'mercedes-benz' 'ferrari' 'lexus' 'audi'\n",
      " 'mitsubishi' 'dodge' 'volkswagen' 'honda' 'hyundai' 'fiat' 'kia'\n",
      " 'cadillac' 'rover' 'jaguar' 'lincoln' 'mini' 'volvo' 'buick' 'acura'\n",
      " 'subaru' 'porsche' 'alfa-romeo' 'saturn' 'tesla' 'harley-davidson'\n",
      " 'pontiac' 'mercury' 'datsun' 'aston-martin' 'land rover']\n",
      "----------------------------------------\n",
      "model (6783 unique):\n",
      "['f-150 xlt' 'sierra 2500 hd extended cab' 'silverado 1500 double'\n",
      " 'colorado extended cab' 'corvette grand sport' 'wrangler unlimited sport'\n",
      " 'camaro ss coupe 2d' 'frontier crew cab pro-4x' 'mustang gt premium'\n",
      " 'tundra double cab pickup' 'wrangler unlimited sahara'\n",
      " 'expedition xlt sport' 'wrangler sport suv 2d' 'tacoma double cab pickup'\n",
      " '1500 crew cab tradesman' 'sierra 1500 limited double'\n",
      " 'f250 super duty regular cab' 'wrangler unlimited willys'\n",
      " 'wrangler unlimited rubicon' 'wrangler unlimited all new'\n",
      " 'acadia sle-2 sport utility' 'acadia slt-1 sport utility'\n",
      " 'express cargo van' 'qx60 luxe sport utility' '300 limited sedan 4d'\n",
      " 'titan single cab sv' 'sentra' 'echo' '525i' 'silverado 1500'\n",
      " 'corvette convertible' 'miata mx-5' 'wrangler sport s utility 2d'\n",
      " 'mustang gt premium coupe 2d' 'f-150' 'benz' '360 modena' 'benz c350'\n",
      " 'rx350' 'tahoe' 'q7']\n",
      "----------------------------------------\n",
      "condition (6 unique):\n",
      "['excellent' 'good' 'like new' 'fair' 'new' 'salvage']\n",
      "----------------------------------------\n",
      "cylinders (8 unique):\n",
      "['6 cylinders' '8 cylinders' '4 cylinders' '5 cylinders' '10 cylinders'\n",
      " '3 cylinders' 'other' '12 cylinders']\n",
      "----------------------------------------\n",
      "fuel (5 unique):\n",
      "['gas' 'other' 'hybrid' 'diesel' 'electric']\n",
      "----------------------------------------\n",
      "title_status (6 unique):\n",
      "['clean' 'rebuilt' 'salvage' 'lien' 'missing' 'parts only']\n",
      "----------------------------------------\n",
      "transmission (3 unique):\n",
      "['automatic' 'other' 'manual']\n",
      "----------------------------------------\n",
      "drive (3 unique):\n",
      "['rwd' '4wd' 'fwd']\n",
      "----------------------------------------\n",
      "type (13 unique):\n",
      "['truck' 'pickup' 'other' 'coupe' 'SUV' 'van' 'sedan' 'convertible'\n",
      " 'hatchback' 'wagon' 'mini-van' 'offroad' 'bus']\n",
      "----------------------------------------\n",
      "state (51 unique):\n",
      "['al' 'ak' 'az' 'ar' 'ca' 'co' 'ct' 'dc' 'de' 'fl' 'ga' 'hi' 'id' 'il'\n",
      " 'in' 'ia' 'ks' 'ky' 'la' 'me' 'md' 'ma' 'mi' 'mn' 'ms' 'mo' 'mt' 'nc'\n",
      " 'ne' 'nv' 'nj' 'nm' 'ny' 'nh' 'nd' 'oh' 'ok' 'or' 'pa' 'ri' 'sc']\n",
      "----------------------------------------\n"
     ]
    }
   ],
   "execution_count": 20
  },
  {
   "metadata": {},
   "cell_type": "markdown",
   "source": [
    "## The DATA CLEANING way ahead with rationale:\n",
    "region drop, too specific, too much to encode + too many questions <br>\n",
    "manufacturer keep, Group by global region European, American, Japanese, Asian, etc then encode as nominal <br>\n",
    "model drop, too much to encode <br>\n",
    "condition  keep and encode as ordinal <br>\n",
    "cylinders   check counts of \"other\", convert to int feature <br>\n",
    "fuel   keep and encode as nominal <br>\n",
    "title_status  keep and encode as nominal <br>\n",
    "transmission  keep and encode as nominal <br>\n",
    "drive  keep and encode as nominal <br>\n",
    "type  keep, histogram value counts for shrinking this feature,  encode as norminal (be prepared to circle back an redo this step with a lesser top # collapse applied) <br>\n",
    "state (51 unique) keep, convert states to region map grouping, encode as nominal <br>"
   ]
  },
  {
   "metadata": {},
   "cell_type": "markdown",
   "source": "DROP TWO"
  },
  {
   "metadata": {
    "ExecuteTime": {
     "end_time": "2025-09-17T17:39:21.150292Z",
     "start_time": "2025-09-17T17:39:21.139294Z"
    }
   },
   "cell_type": "code",
   "source": [
    "working_df.drop(columns=[\"region\", \"model\"], inplace=True)\n",
    "# working_df.info()"
   ],
   "outputs": [],
   "execution_count": 21
  },
  {
   "metadata": {},
   "cell_type": "markdown",
   "source": "GROUP MANUFACTURERS"
  },
  {
   "metadata": {
    "ExecuteTime": {
     "end_time": "2025-09-17T17:39:21.227096Z",
     "start_time": "2025-09-17T17:39:21.216898Z"
    }
   },
   "cell_type": "code",
   "source": [
    "american = [\n",
    "    \"gmc\", \"chevrolet\", \"ford\", \"jeep\", \"ram\", \"cadillac\", \"buick\",\n",
    "    \"lincoln\", \"chrysler\", \"dodge\", \"pontiac\", \"mercury\", \"saturn\",\n",
    "    \"tesla\", \"harley-davidson\"]\n",
    "\n",
    "japanese = [\n",
    "    \"toyota\", \"nissan\", \"mazda\", \"honda\", \"lexus\", \"acura\", \"subaru\",\n",
    "    \"mitsubishi\", \"infiniti\", \"datsun\"]\n",
    "\n",
    "asian = [\n",
    "    \"hyundai\", \"kia\"]\n",
    "\n",
    "european = [\n",
    "    \"volvo\", \"audi\", \"bmw\", \"mercedes-benz\", \"porsche\", \"fiat\",\n",
    "    \"jaguar\", \"mini\", \"rover\", \"land rover\", \"alfa-romeo\",\n",
    "    \"aston-martin\", \"ferrari\", \"volkswagen\"]\n"
   ],
   "outputs": [],
   "execution_count": 22
  },
  {
   "metadata": {
    "ExecuteTime": {
     "end_time": "2025-09-17T17:39:21.349986Z",
     "start_time": "2025-09-17T17:39:21.303984Z"
    }
   },
   "cell_type": "code",
   "source": [
    "manufacturer_region = {}\n",
    "\n",
    "for brand in american:\n",
    "    manufacturer_region[brand] = \"american\"\n",
    "for brand in japanese:\n",
    "    manufacturer_region[brand] = \"japanese\"\n",
    "for brand in asian:\n",
    "    manufacturer_region[brand] = \"asian\"\n",
    "for brand in european:\n",
    "    manufacturer_region[brand] = \"european\"\n",
    "\n",
    "working_df['manufacturer_region'] = working_df['manufacturer'].map(manufacturer_region)\n",
    "working_df.drop(columns=['manufacturer'], inplace=True)\n",
    "working_df.info()"
   ],
   "outputs": [
    {
     "name": "stdout",
     "output_type": "stream",
     "text": [
      "<class 'pandas.core.frame.DataFrame'>\n",
      "RangeIndex: 34680 entries, 0 to 34679\n",
      "Data columns (total 12 columns):\n",
      " #   Column               Non-Null Count  Dtype  \n",
      "---  ------               --------------  -----  \n",
      " 0   price                34680 non-null  int64  \n",
      " 1   year                 34680 non-null  float64\n",
      " 2   condition            34680 non-null  object \n",
      " 3   cylinders            34680 non-null  object \n",
      " 4   fuel                 34680 non-null  object \n",
      " 5   odometer             34680 non-null  float64\n",
      " 6   title_status         34680 non-null  object \n",
      " 7   transmission         34680 non-null  object \n",
      " 8   drive                34680 non-null  object \n",
      " 9   type                 34680 non-null  object \n",
      " 10  state                34680 non-null  object \n",
      " 11  manufacturer_region  34680 non-null  object \n",
      "dtypes: float64(2), int64(1), object(9)\n",
      "memory usage: 3.2+ MB\n"
     ]
    }
   ],
   "execution_count": 23
  },
  {
   "metadata": {},
   "cell_type": "markdown",
   "source": "CONVERT CYLINDERS TO NUMERIC"
  },
  {
   "metadata": {
    "ExecuteTime": {
     "end_time": "2025-09-17T17:39:21.478149Z",
     "start_time": "2025-09-17T17:39:21.455150Z"
    }
   },
   "cell_type": "code",
   "source": [
    "cond = (working_df.fuel == \"other\")\n",
    "len(pd.DataFrame(working_df[cond]))"
   ],
   "outputs": [
    {
     "data": {
      "text/plain": [
       "550"
      ]
     },
     "execution_count": 24,
     "metadata": {},
     "output_type": "execute_result"
    }
   ],
   "execution_count": 24
  },
  {
   "metadata": {
    "ExecuteTime": {
     "end_time": "2025-09-17T17:39:21.601150Z",
     "start_time": "2025-09-17T17:39:21.587152Z"
    }
   },
   "cell_type": "code",
   "source": [
    "cond = (working_df.cylinders == \"other\")\n",
    "len(pd.DataFrame(working_df[cond]))"
   ],
   "outputs": [
    {
     "data": {
      "text/plain": [
       "88"
      ]
     },
     "execution_count": 25,
     "metadata": {},
     "output_type": "execute_result"
    }
   ],
   "execution_count": 25
  },
  {
   "metadata": {
    "ExecuteTime": {
     "end_time": "2025-09-17T17:39:21.743150Z",
     "start_time": "2025-09-17T17:39:21.696170Z"
    }
   },
   "cell_type": "code",
   "source": [
    "# Droping these 469 records wont hurt\n",
    "working_df = working_df[working_df['cylinders'] != 'other']\n",
    "working_df.info()"
   ],
   "outputs": [
    {
     "name": "stdout",
     "output_type": "stream",
     "text": [
      "<class 'pandas.core.frame.DataFrame'>\n",
      "Index: 34592 entries, 0 to 34679\n",
      "Data columns (total 12 columns):\n",
      " #   Column               Non-Null Count  Dtype  \n",
      "---  ------               --------------  -----  \n",
      " 0   price                34592 non-null  int64  \n",
      " 1   year                 34592 non-null  float64\n",
      " 2   condition            34592 non-null  object \n",
      " 3   cylinders            34592 non-null  object \n",
      " 4   fuel                 34592 non-null  object \n",
      " 5   odometer             34592 non-null  float64\n",
      " 6   title_status         34592 non-null  object \n",
      " 7   transmission         34592 non-null  object \n",
      " 8   drive                34592 non-null  object \n",
      " 9   type                 34592 non-null  object \n",
      " 10  state                34592 non-null  object \n",
      " 11  manufacturer_region  34592 non-null  object \n",
      "dtypes: float64(2), int64(1), object(9)\n",
      "memory usage: 3.4+ MB\n"
     ]
    }
   ],
   "execution_count": 26
  },
  {
   "metadata": {
    "ExecuteTime": {
     "end_time": "2025-09-17T17:39:22.074152Z",
     "start_time": "2025-09-17T17:39:21.843151Z"
    }
   },
   "cell_type": "code",
   "source": [
    "working_df['cylinders'] = working_df['cylinders'].str.extract('(\\d+)').astype('int64')\n",
    "working_df.info()"
   ],
   "outputs": [
    {
     "name": "stdout",
     "output_type": "stream",
     "text": [
      "<class 'pandas.core.frame.DataFrame'>\n",
      "Index: 34592 entries, 0 to 34679\n",
      "Data columns (total 12 columns):\n",
      " #   Column               Non-Null Count  Dtype  \n",
      "---  ------               --------------  -----  \n",
      " 0   price                34592 non-null  int64  \n",
      " 1   year                 34592 non-null  float64\n",
      " 2   condition            34592 non-null  object \n",
      " 3   cylinders            34592 non-null  int64  \n",
      " 4   fuel                 34592 non-null  object \n",
      " 5   odometer             34592 non-null  float64\n",
      " 6   title_status         34592 non-null  object \n",
      " 7   transmission         34592 non-null  object \n",
      " 8   drive                34592 non-null  object \n",
      " 9   type                 34592 non-null  object \n",
      " 10  state                34592 non-null  object \n",
      " 11  manufacturer_region  34592 non-null  object \n",
      "dtypes: float64(2), int64(2), object(8)\n",
      "memory usage: 3.4+ MB\n"
     ]
    }
   ],
   "execution_count": 27
  },
  {
   "metadata": {},
   "cell_type": "markdown",
   "source": "COLLAPSE THE TYPE FEATURE TO THE TOP N MOST COMMON VALUES"
  },
  {
   "metadata": {
    "ExecuteTime": {
     "end_time": "2025-09-17T17:39:22.152354Z",
     "start_time": "2025-09-17T17:39:22.103273Z"
    }
   },
   "cell_type": "code",
   "source": [
    "commonality_thresh = 10\n",
    "top_n = working_df['type'].value_counts().nlargest(commonality_thresh).index\n",
    "working_df['type'] = working_df['type'].apply(lambda x: x if x in top_n else 'other')\n",
    "working_df['type'] = working_df['type'].str.lower()"
   ],
   "outputs": [],
   "execution_count": 28
  },
  {
   "metadata": {},
   "cell_type": "markdown",
   "source": "GROUP STATES BY NATIONAL REGION"
  },
  {
   "metadata": {
    "ExecuteTime": {
     "end_time": "2025-09-17T17:39:22.214357Z",
     "start_time": "2025-09-17T17:39:22.163356Z"
    }
   },
   "cell_type": "code",
   "source": [
    "region = {\n",
    "    \"South\": [\"wv\", \"dc\", \"md\", \"va\",\n",
    "              \"ky\", \"tn\", \"nc\", \"ms\",\n",
    "              \"ar\", \"la\", \"al\", \"ga\", \"sc\",\n",
    "              \"fl\", \"de\", \"pr\"],\n",
    "    \"Southwest\": [\"az\", \"nm\", \"ok\", \"tx\"],\n",
    "    \"West\": [\"wa\", \"or\", \"ca\", \"nv\", \"id\", \"mt\",\n",
    "             \"wy\", \"ut\", \"co\", \"ak\", \"hi\"],\n",
    "    \"Midwest\": [\"nd\", \"sd\", \"ne\", \"ks\", \"mn\",\n",
    "                \"ia\", \"mo\", \"wi\", \"il\", \"mi\", \"in\",\n",
    "                \"oh\"],\n",
    "    \"Northeast\": [\"me\", \"vt\", \"ny\", \"nh\", \"ma\",\n",
    "                  \"ri\", \"ct\", \"nj\", \"pa\"]\n",
    "}\n",
    "\n",
    "def get_region(state):\n",
    "    if state in region[\"South\"]:\n",
    "        return \"south\"\n",
    "    elif state in region[\"Southwest\"]:\n",
    "        return \"southwest\"\n",
    "    elif state in region[\"West\"]:\n",
    "        return \"west\"\n",
    "    elif state in region[\"Midwest\"]:\n",
    "        return \"midwest\"\n",
    "    elif state in region[\"Northeast\"]:\n",
    "        return \"northeast\"\n",
    "    else:\n",
    "        return \"unknown\"\n",
    "\n",
    "state_col = working_df[\"state\"].tolist()\n",
    "region_col = []\n",
    "for st in state_col:\n",
    "    region_col.append(get_region(st))\n",
    "working_df[\"title_region\"] = region_col\n",
    "working_df.drop(columns=[\"state\"], inplace=True)"
   ],
   "outputs": [],
   "execution_count": 29
  },
  {
   "metadata": {
    "ExecuteTime": {
     "end_time": "2025-09-17T17:39:22.277629Z",
     "start_time": "2025-09-17T17:39:22.224385Z"
    }
   },
   "cell_type": "code",
   "source": [
    "working_df.info()\n",
    "get_unique_values_by_column(working_df)"
   ],
   "outputs": [
    {
     "name": "stdout",
     "output_type": "stream",
     "text": [
      "<class 'pandas.core.frame.DataFrame'>\n",
      "Index: 34592 entries, 0 to 34679\n",
      "Data columns (total 12 columns):\n",
      " #   Column               Non-Null Count  Dtype  \n",
      "---  ------               --------------  -----  \n",
      " 0   price                34592 non-null  int64  \n",
      " 1   year                 34592 non-null  float64\n",
      " 2   condition            34592 non-null  object \n",
      " 3   cylinders            34592 non-null  int64  \n",
      " 4   fuel                 34592 non-null  object \n",
      " 5   odometer             34592 non-null  float64\n",
      " 6   title_status         34592 non-null  object \n",
      " 7   transmission         34592 non-null  object \n",
      " 8   drive                34592 non-null  object \n",
      " 9   type                 34592 non-null  object \n",
      " 10  manufacturer_region  34592 non-null  object \n",
      " 11  title_region         34592 non-null  object \n",
      "dtypes: float64(2), int64(2), object(8)\n",
      "memory usage: 3.4+ MB\n",
      "condition (6 unique):\n",
      "['excellent' 'good' 'like new' 'fair' 'new' 'salvage']\n",
      "----------------------------------------\n",
      "fuel (5 unique):\n",
      "['gas' 'other' 'hybrid' 'diesel' 'electric']\n",
      "----------------------------------------\n",
      "title_status (6 unique):\n",
      "['clean' 'rebuilt' 'salvage' 'lien' 'missing' 'parts only']\n",
      "----------------------------------------\n",
      "transmission (3 unique):\n",
      "['automatic' 'other' 'manual']\n",
      "----------------------------------------\n",
      "drive (3 unique):\n",
      "['rwd' '4wd' 'fwd']\n",
      "----------------------------------------\n",
      "type (11 unique):\n",
      "['truck' 'pickup' 'other' 'coupe' 'suv' 'van' 'sedan' 'convertible'\n",
      " 'hatchback' 'wagon' 'mini-van']\n",
      "----------------------------------------\n",
      "manufacturer_region (4 unique):\n",
      "['american' 'japanese' 'european' 'asian']\n",
      "----------------------------------------\n",
      "title_region (5 unique):\n",
      "['south' 'west' 'southwest' 'northeast' 'midwest']\n",
      "----------------------------------------\n"
     ]
    }
   ],
   "execution_count": 30
  },
  {
   "metadata": {},
   "cell_type": "markdown",
   "source": "VALIDATING PRICE AND ODO VALUES AGAINST THE PLOT"
  },
  {
   "metadata": {
    "ExecuteTime": {
     "end_time": "2025-09-17T17:39:22.325189Z",
     "start_time": "2025-09-17T17:39:22.303186Z"
    }
   },
   "cell_type": "code",
   "source": [
    "thresh_pool = [1e6, 7.5e5, 5e5, 4e5, 3e5, 2e5, 1e5]\n",
    "for thresh in thresh_pool:\n",
    "    print(len(working_df[working_df['price'] > thresh]))"
   ],
   "outputs": [
    {
     "name": "stdout",
     "output_type": "stream",
     "text": [
      "0\n",
      "0\n",
      "0\n",
      "0\n",
      "0\n",
      "0\n",
      "26\n"
     ]
    }
   ],
   "execution_count": 31
  },
  {
   "metadata": {
    "ExecuteTime": {
     "end_time": "2025-09-17T17:39:22.386190Z",
     "start_time": "2025-09-17T17:39:22.372187Z"
    }
   },
   "cell_type": "code",
   "source": [
    "thresh_pool = [1e6, 7.5e5, 5e5, 4e5, 3e5, 2e5, 1e5]\n",
    "for thresh in thresh_pool:\n",
    "    print(len(working_df[working_df['odometer'] > thresh]))"
   ],
   "outputs": [
    {
     "name": "stdout",
     "output_type": "stream",
     "text": [
      "0\n",
      "7\n",
      "16\n",
      "23\n",
      "111\n",
      "1973\n",
      "18070\n"
     ]
    }
   ],
   "execution_count": 32
  },
  {
   "metadata": {},
   "cell_type": "markdown",
   "source": "FEATURE VIZ"
  },
  {
   "metadata": {
    "ExecuteTime": {
     "end_time": "2025-09-17T17:39:27.402044Z",
     "start_time": "2025-09-17T17:39:22.468187Z"
    }
   },
   "cell_type": "code",
   "source": [
    "plt.figure(figsize=(18, 20))\n",
    "\n",
    "numeric_cols = ['price', 'year', 'odometer']\n",
    "categorical_cols = ['condition', 'cylinders', 'fuel', 'title_status', 'transmission',\n",
    "                    'drive', 'type', 'manufacturer_region', 'title_region']\n",
    "\n",
    "total_plots = len(numeric_cols) + len(categorical_cols)\n",
    "\n",
    "for idx, col in enumerate(numeric_cols + categorical_cols):\n",
    "    plt.subplot((total_plots + 2) // 3, 3, idx + 1)\n",
    "\n",
    "    if col in numeric_cols:\n",
    "        data = working_df[col]\n",
    "\n",
    "        # Apply log scale only to skewed numeric variables\n",
    "        if col in ['price', 'odometer']:\n",
    "            # Avoid log(0) issues\n",
    "            data = data[data > 0]\n",
    "            sns.histplot(data, kde=False, bins=\"sqrt\", color='black')\n",
    "            plt.xscale('log')\n",
    "            plt.xlabel(f\"{col} (log scale)\")\n",
    "        else:\n",
    "            sns.histplot(data, kde=False, bins=\"sqrt\", color='black')\n",
    "            plt.xlabel(col)\n",
    "\n",
    "        plt.ylabel('Frequency')\n",
    "        plt.title(f'Distribution of {col}')\n",
    "\n",
    "    else:\n",
    "        order = working_df[col].value_counts().index\n",
    "        sns.countplot(data=working_df, x=col, order=order, hue=col, palette='tab10', legend=False)\n",
    "        plt.xticks(rotation=45)\n",
    "        plt.ylabel('Count')\n",
    "        plt.title(f'Count of {col}')\n",
    "\n",
    "plt.tight_layout()\n",
    "plt.show()"
   ],
   "outputs": [
    {
     "data": {
      "text/plain": [
       "<Figure size 1800x2000 with 12 Axes>"
      ],
      "image/png": "[encoded data removed]"
     },
     "metadata": {},
     "output_type": "display_data",
     "jetTransient": {
      "display_id": null
     }
    }
   ],
   "execution_count": 33
  },
  {
   "metadata": {
    "ExecuteTime": {
     "end_time": "2025-09-17T17:39:27.543956Z",
     "start_time": "2025-09-17T17:39:27.507954Z"
    }
   },
   "cell_type": "code",
   "source": "working_df.info()",
   "outputs": [
    {
     "name": "stdout",
     "output_type": "stream",
     "text": [
      "<class 'pandas.core.frame.DataFrame'>\n",
      "Index: 34592 entries, 0 to 34679\n",
      "Data columns (total 12 columns):\n",
      " #   Column               Non-Null Count  Dtype  \n",
      "---  ------               --------------  -----  \n",
      " 0   price                34592 non-null  int64  \n",
      " 1   year                 34592 non-null  float64\n",
      " 2   condition            34592 non-null  object \n",
      " 3   cylinders            34592 non-null  int64  \n",
      " 4   fuel                 34592 non-null  object \n",
      " 5   odometer             34592 non-null  float64\n",
      " 6   title_status         34592 non-null  object \n",
      " 7   transmission         34592 non-null  object \n",
      " 8   drive                34592 non-null  object \n",
      " 9   type                 34592 non-null  object \n",
      " 10  manufacturer_region  34592 non-null  object \n",
      " 11  title_region         34592 non-null  object \n",
      "dtypes: float64(2), int64(2), object(8)\n",
      "memory usage: 3.4+ MB\n"
     ]
    }
   ],
   "execution_count": 34
  },
  {
   "metadata": {},
   "cell_type": "markdown",
   "source": "FEATURE ENCODING"
  },
  {
   "metadata": {
    "ExecuteTime": {
     "end_time": "2025-09-17T17:39:27.687950Z",
     "start_time": "2025-09-17T17:39:27.602955Z"
    }
   },
   "cell_type": "code",
   "source": [
    "# ----- Columns -----\n",
    "ordinal_col = ['condition']\n",
    "ordinal_order = [['salvage', 'fair', 'good', 'excellent', 'like new', 'new']]\n",
    "\n",
    "nominal_cols = [\n",
    "    'fuel', 'title_status', 'transmission', 'drive',\n",
    "    'type', 'manufacturer_region', 'title_region'\n",
    "]\n",
    "\n",
    "numeric_cols = ['price', 'year', 'odometer', 'cylinders']\n",
    "\n",
    "# ----- Transformers -----\n",
    "ordinal_enc = OrdinalEncoder(categories=ordinal_order)\n",
    "nominal_enc = OneHotEncoder(handle_unknown='ignore', sparse_output=False)\n",
    "\n",
    "preprocessor = ColumnTransformer([\n",
    "    ('ordinal', ordinal_enc, ordinal_col),\n",
    "    ('nominal', nominal_enc, nominal_cols)\n",
    "], remainder='passthrough')  # keep numeric features\n",
    "\n",
    "# ----- Final pipeline -----\n",
    "full_pipeline = Pipeline([\n",
    "    ('encode', preprocessor)\n",
    "])\n",
    "\n",
    "# ----- Transform the dataset -----\n",
    "working_df_transformed = full_pipeline.fit_transform(working_df)\n",
    "\n",
    "# Get feature names\n",
    "encoded_cols = list(full_pipeline.named_steps['encode'].transformers_[1][1].get_feature_names_out(nominal_cols))\n",
    "final_columns = ordinal_col + encoded_cols + numeric_cols\n",
    "\n",
    "working_df_encoded = pd.DataFrame(working_df_transformed, columns=final_columns)"
   ],
   "outputs": [],
   "execution_count": 35
  },
  {
   "metadata": {
    "ExecuteTime": {
     "end_time": "2025-09-17T17:39:27.719961Z",
     "start_time": "2025-09-17T17:39:27.700956Z"
    }
   },
   "cell_type": "code",
   "source": "working_df_encoded.info()",
   "outputs": [
    {
     "name": "stdout",
     "output_type": "stream",
     "text": [
      "<class 'pandas.core.frame.DataFrame'>\n",
      "RangeIndex: 34592 entries, 0 to 34591\n",
      "Data columns (total 42 columns):\n",
      " #   Column                        Non-Null Count  Dtype  \n",
      "---  ------                        --------------  -----  \n",
      " 0   condition                     34592 non-null  float64\n",
      " 1   fuel_diesel                   34592 non-null  float64\n",
      " 2   fuel_electric                 34592 non-null  float64\n",
      " 3   fuel_gas                      34592 non-null  float64\n",
      " 4   fuel_hybrid                   34592 non-null  float64\n",
      " 5   fuel_other                    34592 non-null  float64\n",
      " 6   title_status_clean            34592 non-null  float64\n",
      " 7   title_status_lien             34592 non-null  float64\n",
      " 8   title_status_missing          34592 non-null  float64\n",
      " 9   title_status_parts only       34592 non-null  float64\n",
      " 10  title_status_rebuilt          34592 non-null  float64\n",
      " 11  title_status_salvage          34592 non-null  float64\n",
      " 12  transmission_automatic        34592 non-null  float64\n",
      " 13  transmission_manual           34592 non-null  float64\n",
      " 14  transmission_other            34592 non-null  float64\n",
      " 15  drive_4wd                     34592 non-null  float64\n",
      " 16  drive_fwd                     34592 non-null  float64\n",
      " 17  drive_rwd                     34592 non-null  float64\n",
      " 18  type_convertible              34592 non-null  float64\n",
      " 19  type_coupe                    34592 non-null  float64\n",
      " 20  type_hatchback                34592 non-null  float64\n",
      " 21  type_mini-van                 34592 non-null  float64\n",
      " 22  type_other                    34592 non-null  float64\n",
      " 23  type_pickup                   34592 non-null  float64\n",
      " 24  type_sedan                    34592 non-null  float64\n",
      " 25  type_suv                      34592 non-null  float64\n",
      " 26  type_truck                    34592 non-null  float64\n",
      " 27  type_van                      34592 non-null  float64\n",
      " 28  type_wagon                    34592 non-null  float64\n",
      " 29  manufacturer_region_american  34592 non-null  float64\n",
      " 30  manufacturer_region_asian     34592 non-null  float64\n",
      " 31  manufacturer_region_european  34592 non-null  float64\n",
      " 32  manufacturer_region_japanese  34592 non-null  float64\n",
      " 33  title_region_midwest          34592 non-null  float64\n",
      " 34  title_region_northeast        34592 non-null  float64\n",
      " 35  title_region_south            34592 non-null  float64\n",
      " 36  title_region_southwest        34592 non-null  float64\n",
      " 37  title_region_west             34592 non-null  float64\n",
      " 38  price                         34592 non-null  float64\n",
      " 39  year                          34592 non-null  float64\n",
      " 40  odometer                      34592 non-null  float64\n",
      " 41  cylinders                     34592 non-null  float64\n",
      "dtypes: float64(42)\n",
      "memory usage: 11.1 MB\n"
     ]
    }
   ],
   "execution_count": 36
  },
  {
   "metadata": {},
   "cell_type": "markdown",
   "source": "DATA SPLITTING"
  },
  {
   "metadata": {
    "ExecuteTime": {
     "end_time": "2025-09-17T17:39:27.812954Z",
     "start_time": "2025-09-17T17:39:27.770955Z"
    }
   },
   "cell_type": "code",
   "source": [
    "# Step 1: isolate features and target\n",
    "X = working_df_encoded.drop(\"price\", axis=1)\n",
    "y = working_df_encoded[\"price\"]\n",
    "\n",
    "# Step 2: split into train_temp (80%) and test (20%)\n",
    "X_train_temp, X_test, y_train_temp, y_test = train_test_split(\n",
    "    X, y, test_size=0.2, random_state=42\n",
    ")\n",
    "\n",
    "# Step 3: split train_temp into train (75% of 80%) and dev (25% of 80%)\n",
    "X_train, X_dev, y_train, y_dev = train_test_split(\n",
    "    X_train_temp, y_train_temp, test_size=0.25, random_state=42\n",
    ")\n",
    "working_df_encoded.info()"
   ],
   "outputs": [
    {
     "name": "stdout",
     "output_type": "stream",
     "text": [
      "<class 'pandas.core.frame.DataFrame'>\n",
      "RangeIndex: 34592 entries, 0 to 34591\n",
      "Data columns (total 42 columns):\n",
      " #   Column                        Non-Null Count  Dtype  \n",
      "---  ------                        --------------  -----  \n",
      " 0   condition                     34592 non-null  float64\n",
      " 1   fuel_diesel                   34592 non-null  float64\n",
      " 2   fuel_electric                 34592 non-null  float64\n",
      " 3   fuel_gas                      34592 non-null  float64\n",
      " 4   fuel_hybrid                   34592 non-null  float64\n",
      " 5   fuel_other                    34592 non-null  float64\n",
      " 6   title_status_clean            34592 non-null  float64\n",
      " 7   title_status_lien             34592 non-null  float64\n",
      " 8   title_status_missing          34592 non-null  float64\n",
      " 9   title_status_parts only       34592 non-null  float64\n",
      " 10  title_status_rebuilt          34592 non-null  float64\n",
      " 11  title_status_salvage          34592 non-null  float64\n",
      " 12  transmission_automatic        34592 non-null  float64\n",
      " 13  transmission_manual           34592 non-null  float64\n",
      " 14  transmission_other            34592 non-null  float64\n",
      " 15  drive_4wd                     34592 non-null  float64\n",
      " 16  drive_fwd                     34592 non-null  float64\n",
      " 17  drive_rwd                     34592 non-null  float64\n",
      " 18  type_convertible              34592 non-null  float64\n",
      " 19  type_coupe                    34592 non-null  float64\n",
      " 20  type_hatchback                34592 non-null  float64\n",
      " 21  type_mini-van                 34592 non-null  float64\n",
      " 22  type_other                    34592 non-null  float64\n",
      " 23  type_pickup                   34592 non-null  float64\n",
      " 24  type_sedan                    34592 non-null  float64\n",
      " 25  type_suv                      34592 non-null  float64\n",
      " 26  type_truck                    34592 non-null  float64\n",
      " 27  type_van                      34592 non-null  float64\n",
      " 28  type_wagon                    34592 non-null  float64\n",
      " 29  manufacturer_region_american  34592 non-null  float64\n",
      " 30  manufacturer_region_asian     34592 non-null  float64\n",
      " 31  manufacturer_region_european  34592 non-null  float64\n",
      " 32  manufacturer_region_japanese  34592 non-null  float64\n",
      " 33  title_region_midwest          34592 non-null  float64\n",
      " 34  title_region_northeast        34592 non-null  float64\n",
      " 35  title_region_south            34592 non-null  float64\n",
      " 36  title_region_southwest        34592 non-null  float64\n",
      " 37  title_region_west             34592 non-null  float64\n",
      " 38  price                         34592 non-null  float64\n",
      " 39  year                          34592 non-null  float64\n",
      " 40  odometer                      34592 non-null  float64\n",
      " 41  cylinders                     34592 non-null  float64\n",
      "dtypes: float64(42)\n",
      "memory usage: 11.1 MB\n"
     ]
    }
   ],
   "execution_count": 37
  },
  {
   "metadata": {
    "ExecuteTime": {
     "end_time": "2025-09-17T17:39:27.860952Z",
     "start_time": "2025-09-17T17:39:27.847952Z"
    }
   },
   "cell_type": "code",
   "source": [
    "print(X_train.shape, y_train.shape)\n",
    "print(X_test.shape, y_test.shape)\n",
    "print(X_test.shape, y_dev.shape)"
   ],
   "outputs": [
    {
     "name": "stdout",
     "output_type": "stream",
     "text": [
      "(20754, 41) (20754,)\n",
      "(6919, 41) (6919,)\n",
      "(6919, 41) (6919,)\n"
     ]
    }
   ],
   "execution_count": 38
  },
  {
   "metadata": {},
   "cell_type": "markdown",
   "source": "SCALING"
  },
  {
   "metadata": {
    "ExecuteTime": {
     "end_time": "2025-09-17T17:39:27.954950Z",
     "start_time": "2025-09-17T17:39:27.915953Z"
    }
   },
   "cell_type": "code",
   "source": [
    "scaler = StandardScaler()\n",
    "X_train_scaled = scaler.fit_transform(X_train)\n",
    "X_dev_scaled = scaler.transform(X_dev)\n",
    "X_test_scaled = scaler.transform(X_test)"
   ],
   "outputs": [],
   "execution_count": 39
  },
  {
   "metadata": {
    "ExecuteTime": {
     "end_time": "2025-09-17T17:39:27.970955Z",
     "start_time": "2025-09-17T17:39:27.963954Z"
    }
   },
   "cell_type": "code",
   "source": "X_train_scaled_df = pd.DataFrame(X_train_scaled, columns=X_train.columns, index=X_train.index)",
   "outputs": [],
   "execution_count": 40
  },
  {
   "metadata": {
    "ExecuteTime": {
     "end_time": "2025-09-17T17:39:28.017952Z",
     "start_time": "2025-09-17T17:39:27.986954Z"
    }
   },
   "cell_type": "code",
   "source": "X_train_scaled_df.head()",
   "outputs": [
    {
     "data": {
      "text/plain": [
       "       condition  fuel_diesel  fuel_electric  fuel_gas  fuel_hybrid  \\\n",
       "1506   -1.090424    -0.212663      -0.034728  0.283008    -0.117998   \n",
       "26882  -1.090424    -0.212663      -0.034728  0.283008    -0.117998   \n",
       "9697    0.415576    -0.212663      -0.034728  0.283008    -0.117998   \n",
       "7448   -1.090424    -0.212663      -0.034728  0.283008    -0.117998   \n",
       "822     0.415576    -0.212663      -0.034728  0.283008    -0.117998   \n",
       "\n",
       "       fuel_other  title_status_clean  title_status_lien  \\\n",
       "1506    -0.127308            0.196822          -0.069931   \n",
       "26882   -0.127308            0.196822          -0.069931   \n",
       "9697    -0.127308            0.196822          -0.069931   \n",
       "7448    -0.127308            0.196822          -0.069931   \n",
       "822     -0.127308            0.196822          -0.069931   \n",
       "\n",
       "       title_status_missing  title_status_parts only  ...  \\\n",
       "1506              -0.019637                -0.009817  ...   \n",
       "26882             -0.019637                -0.009817  ...   \n",
       "9697              -0.019637                -0.009817  ...   \n",
       "7448              -0.019637                -0.009817  ...   \n",
       "822               -0.019637                -0.009817  ...   \n",
       "\n",
       "       manufacturer_region_european  manufacturer_region_japanese  \\\n",
       "1506                      -0.370497                     -0.663589   \n",
       "26882                      2.699079                     -0.663589   \n",
       "9697                       2.699079                     -0.663589   \n",
       "7448                      -0.370497                     -0.663589   \n",
       "822                       -0.370497                     -0.663589   \n",
       "\n",
       "       title_region_midwest  title_region_northeast  title_region_south  \\\n",
       "1506              -0.591113               -0.447989           -0.525573   \n",
       "26882             -0.591113               -0.447989           -0.525573   \n",
       "9697              -0.591113               -0.447989            1.902686   \n",
       "7448              -0.591113                2.232197           -0.525573   \n",
       "822               -0.591113               -0.447989           -0.525573   \n",
       "\n",
       "       title_region_southwest  title_region_west      year  odometer  \\\n",
       "1506                 2.930968          -0.582284  0.685023  0.141265   \n",
       "26882               -0.341184           1.717376 -0.954798  1.406887   \n",
       "9697                -0.341184          -0.582284 -0.544842  0.141265   \n",
       "7448                -0.341184          -0.582284 -0.681494  1.406887   \n",
       "822                 -0.341184           1.717376  1.094979  0.141265   \n",
       "\n",
       "       cylinders  \n",
       "1506   -0.951389  \n",
       "26882   0.580712  \n",
       "9697    0.340051  \n",
       "7448    0.503880  \n",
       "822    -1.605121  \n",
       "\n",
       "[5 rows x 41 columns]"
      ],
      "text/html": [
       "<div>\n",
       "<style scoped>\n",
       "    .dataframe tbody tr th:only-of-type {\n",
       "        vertical-align: middle;\n",
       "    }\n",
       "\n",
       "    .dataframe tbody tr th {\n",
       "        vertical-align: top;\n",
       "    }\n",
       "\n",
       "    .dataframe thead th {\n",
       "        text-align: right;\n",
       "    }\n",
       "</style>\n",
       "<table border=\"1\" class=\"dataframe\">\n",
       "  <thead>\n",
       "    <tr style=\"text-align: right;\">\n",
       "      <th></th>\n",
       "      <th>condition</th>\n",
       "      <th>fuel_diesel</th>\n",
       "      <th>fuel_electric</th>\n",
       "      <th>fuel_gas</th>\n",
       "      <th>fuel_hybrid</th>\n",
       "      <th>fuel_other</th>\n",
       "      <th>title_status_clean</th>\n",
       "      <th>title_status_lien</th>\n",
       "      <th>title_status_missing</th>\n",
       "      <th>title_status_parts only</th>\n",
       "      <th>...</th>\n",
       "      <th>manufacturer_region_european</th>\n",
       "      <th>manufacturer_region_japanese</th>\n",
       "      <th>title_region_midwest</th>\n",
       "      <th>title_region_northeast</th>\n",
       "      <th>title_region_south</th>\n",
       "      <th>title_region_southwest</th>\n",
       "      <th>title_region_west</th>\n",
       "      <th>year</th>\n",
       "      <th>odometer</th>\n",
       "      <th>cylinders</th>\n",
       "    </tr>\n",
       "  </thead>\n",
       "  <tbody>\n",
       "    <tr>\n",
       "      <th>1506</th>\n",
       "      <td>-1.090424</td>\n",
       "      <td>-0.212663</td>\n",
       "      <td>-0.034728</td>\n",
       "      <td>0.283008</td>\n",
       "      <td>-0.117998</td>\n",
       "      <td>-0.127308</td>\n",
       "      <td>0.196822</td>\n",
       "      <td>-0.069931</td>\n",
       "      <td>-0.019637</td>\n",
       "      <td>-0.009817</td>\n",
       "      <td>...</td>\n",
       "      <td>-0.370497</td>\n",
       "      <td>-0.663589</td>\n",
       "      <td>-0.591113</td>\n",
       "      <td>-0.447989</td>\n",
       "      <td>-0.525573</td>\n",
       "      <td>2.930968</td>\n",
       "      <td>-0.582284</td>\n",
       "      <td>0.685023</td>\n",
       "      <td>0.141265</td>\n",
       "      <td>-0.951389</td>\n",
       "    </tr>\n",
       "    <tr>\n",
       "      <th>26882</th>\n",
       "      <td>-1.090424</td>\n",
       "      <td>-0.212663</td>\n",
       "      <td>-0.034728</td>\n",
       "      <td>0.283008</td>\n",
       "      <td>-0.117998</td>\n",
       "      <td>-0.127308</td>\n",
       "      <td>0.196822</td>\n",
       "      <td>-0.069931</td>\n",
       "      <td>-0.019637</td>\n",
       "      <td>-0.009817</td>\n",
       "      <td>...</td>\n",
       "      <td>2.699079</td>\n",
       "      <td>-0.663589</td>\n",
       "      <td>-0.591113</td>\n",
       "      <td>-0.447989</td>\n",
       "      <td>-0.525573</td>\n",
       "      <td>-0.341184</td>\n",
       "      <td>1.717376</td>\n",
       "      <td>-0.954798</td>\n",
       "      <td>1.406887</td>\n",
       "      <td>0.580712</td>\n",
       "    </tr>\n",
       "    <tr>\n",
       "      <th>9697</th>\n",
       "      <td>0.415576</td>\n",
       "      <td>-0.212663</td>\n",
       "      <td>-0.034728</td>\n",
       "      <td>0.283008</td>\n",
       "      <td>-0.117998</td>\n",
       "      <td>-0.127308</td>\n",
       "      <td>0.196822</td>\n",
       "      <td>-0.069931</td>\n",
       "      <td>-0.019637</td>\n",
       "      <td>-0.009817</td>\n",
       "      <td>...</td>\n",
       "      <td>2.699079</td>\n",
       "      <td>-0.663589</td>\n",
       "      <td>-0.591113</td>\n",
       "      <td>-0.447989</td>\n",
       "      <td>1.902686</td>\n",
       "      <td>-0.341184</td>\n",
       "      <td>-0.582284</td>\n",
       "      <td>-0.544842</td>\n",
       "      <td>0.141265</td>\n",
       "      <td>0.340051</td>\n",
       "    </tr>\n",
       "    <tr>\n",
       "      <th>7448</th>\n",
       "      <td>-1.090424</td>\n",
       "      <td>-0.212663</td>\n",
       "      <td>-0.034728</td>\n",
       "      <td>0.283008</td>\n",
       "      <td>-0.117998</td>\n",
       "      <td>-0.127308</td>\n",
       "      <td>0.196822</td>\n",
       "      <td>-0.069931</td>\n",
       "      <td>-0.019637</td>\n",
       "      <td>-0.009817</td>\n",
       "      <td>...</td>\n",
       "      <td>-0.370497</td>\n",
       "      <td>-0.663589</td>\n",
       "      <td>-0.591113</td>\n",
       "      <td>2.232197</td>\n",
       "      <td>-0.525573</td>\n",
       "      <td>-0.341184</td>\n",
       "      <td>-0.582284</td>\n",
       "      <td>-0.681494</td>\n",
       "      <td>1.406887</td>\n",
       "      <td>0.503880</td>\n",
       "    </tr>\n",
       "    <tr>\n",
       "      <th>822</th>\n",
       "      <td>0.415576</td>\n",
       "      <td>-0.212663</td>\n",
       "      <td>-0.034728</td>\n",
       "      <td>0.283008</td>\n",
       "      <td>-0.117998</td>\n",
       "      <td>-0.127308</td>\n",
       "      <td>0.196822</td>\n",
       "      <td>-0.069931</td>\n",
       "      <td>-0.019637</td>\n",
       "      <td>-0.009817</td>\n",
       "      <td>...</td>\n",
       "      <td>-0.370497</td>\n",
       "      <td>-0.663589</td>\n",
       "      <td>-0.591113</td>\n",
       "      <td>-0.447989</td>\n",
       "      <td>-0.525573</td>\n",
       "      <td>-0.341184</td>\n",
       "      <td>1.717376</td>\n",
       "      <td>1.094979</td>\n",
       "      <td>0.141265</td>\n",
       "      <td>-1.605121</td>\n",
       "    </tr>\n",
       "  </tbody>\n",
       "</table>\n",
       "<p>5 rows × 41 columns</p>\n",
       "</div>"
      ]
     },
     "execution_count": 41,
     "metadata": {},
     "output_type": "execute_result"
    }
   ],
   "execution_count": 41
  },
  {
   "metadata": {},
   "cell_type": "markdown",
   "source": "CREATING POLY FEATURES"
  },
  {
   "metadata": {
    "ExecuteTime": {
     "end_time": "2025-09-17T17:39:30.563704Z",
     "start_time": "2025-09-17T17:39:28.116953Z"
    }
   },
   "cell_type": "code",
   "source": [
    "input_features = X.columns\n",
    "\n",
    "deg = 3\n",
    "poly = PolynomialFeatures(degree=deg, include_bias=False)\n",
    "\n",
    "# Fit + transform train only\n",
    "X_train_poly = poly.fit_transform(X_train_scaled)\n",
    "X_dev_poly = poly.transform(X_dev_scaled)\n",
    "X_test_poly = poly.transform(X_test_scaled)\n",
    "\n",
    "feature_names = poly.get_feature_names_out(input_features=input_features)"
   ],
   "outputs": [],
   "execution_count": 42
  },
  {
   "metadata": {
    "ExecuteTime": {
     "end_time": "2025-09-17T17:39:46.766516Z",
     "start_time": "2025-09-17T17:39:30.714001Z"
    }
   },
   "cell_type": "code",
   "source": [
    "pca = PCA(n_components=41, random_state=42)\n",
    "X_train_pca = pca.fit_transform(X_train_poly)\n",
    "X_dev_pca = pca.transform(X_dev_poly)\n",
    "X_test_pca = pca.transform(X_test_poly)\n",
    "\n",
    "print(f\"Original feature count: {X_train.shape[1]}\")\n",
    "print(f\"Reduced to: {X_train_pca.shape[1]} components\")\n"
   ],
   "outputs": [
    {
     "name": "stdout",
     "output_type": "stream",
     "text": [
      "Original feature count: 41\n",
      "Reduced to: 41 components\n"
     ]
    }
   ],
   "execution_count": 43
  },
  {
   "metadata": {
    "ExecuteTime": {
     "end_time": "2025-09-17T17:39:46.953488Z",
     "start_time": "2025-09-17T17:39:46.942803Z"
    }
   },
   "cell_type": "code",
   "source": "type(X_train_pca)",
   "outputs": [
    {
     "data": {
      "text/plain": [
       "numpy.ndarray"
      ]
     },
     "execution_count": 44,
     "metadata": {},
     "output_type": "execute_result"
    }
   ],
   "execution_count": 44
  },
  {
   "metadata": {
    "ExecuteTime": {
     "end_time": "2025-09-17T17:39:47.388611Z",
     "start_time": "2025-09-17T17:39:47.047534Z"
    }
   },
   "cell_type": "code",
   "source": [
    "plt.figure(figsize=(8, 5))\n",
    "plt.plot(np.cumsum(pca.explained_variance_ratio_), marker='o')\n",
    "plt.xlabel('Number of Components')\n",
    "plt.ylabel('Cumulative Explained Variance')\n",
    "plt.title('PCA Explained Variance')\n",
    "plt.grid(True)\n",
    "plt.tight_layout()\n",
    "plt.show()\n"
   ],
   "outputs": [
    {
     "data": {
      "text/plain": [
       "<Figure size 800x500 with 1 Axes>"
      ],
      "image/png": "[encoded data removed]"
     },
     "metadata": {},
     "output_type": "display_data",
     "jetTransient": {
      "display_id": null
     }
    }
   ],
   "execution_count": 45
  },
  {
   "metadata": {
    "ExecuteTime": {
     "end_time": "2025-09-17T17:39:47.434246Z",
     "start_time": "2025-09-17T17:39:47.424037Z"
    }
   },
   "cell_type": "code",
   "source": "type(X)",
   "outputs": [
    {
     "data": {
      "text/plain": [
       "pandas.core.frame.DataFrame"
      ]
     },
     "execution_count": 46,
     "metadata": {},
     "output_type": "execute_result"
    }
   ],
   "execution_count": 46
  },
  {
   "metadata": {
    "ExecuteTime": {
     "end_time": "2025-09-17T17:39:47.542804Z",
     "start_time": "2025-09-17T17:39:47.532816Z"
    }
   },
   "cell_type": "code",
   "source": "type(X_train_scaled)",
   "outputs": [
    {
     "data": {
      "text/plain": [
       "numpy.ndarray"
      ]
     },
     "execution_count": 47,
     "metadata": {},
     "output_type": "execute_result"
    }
   ],
   "execution_count": 47
  },
  {
   "metadata": {
    "ExecuteTime": {
     "end_time": "2025-09-17T17:39:47.621804Z",
     "start_time": "2025-09-17T17:39:47.604805Z"
    }
   },
   "cell_type": "code",
   "source": "type(X_train_poly)",
   "outputs": [
    {
     "data": {
      "text/plain": [
       "numpy.ndarray"
      ]
     },
     "execution_count": 48,
     "metadata": {},
     "output_type": "execute_result"
    }
   ],
   "execution_count": 48
  },
  {
   "metadata": {
    "ExecuteTime": {
     "end_time": "2025-09-17T17:39:47.700143Z",
     "start_time": "2025-09-17T17:39:47.682146Z"
    }
   },
   "cell_type": "code",
   "source": "type(X_train_pca)",
   "outputs": [
    {
     "data": {
      "text/plain": [
       "numpy.ndarray"
      ]
     },
     "execution_count": 49,
     "metadata": {},
     "output_type": "execute_result"
    }
   ],
   "execution_count": 49
  },
  {
   "metadata": {},
   "cell_type": "markdown",
   "source": [
    "### Modeling\n",
    "\n",
    "With your (almost?) final dataset in hand, it is now time to build some models.  Here, you should build a number of different regression models with the price as the target.  In building your models, you should explore different parameters and be sure to cross-validate your findings."
   ]
  },
  {
   "metadata": {},
   "cell_type": "markdown",
   "source": "TESTING A FEW DIFFERENT MODEL TYPES"
  },
  {
   "metadata": {},
   "cell_type": "markdown",
   "source": "LINEAR REGRESSION"
  },
  {
   "metadata": {},
   "cell_type": "markdown",
   "source": "WITHOUT REGULARIZATION THIS MODEL IS NOT USABLE WITH POLY FEATURES"
  },
  {
   "metadata": {
    "ExecuteTime": {
     "end_time": "2025-09-17T17:39:47.779142Z",
     "start_time": "2025-09-17T17:39:47.774141Z"
    }
   },
   "cell_type": "code",
   "source": [
    "# # Fit model\n",
    "# lr = LinearRegression()\n",
    "# lr.fit(X_train_poly, y_train)\n",
    "#\n",
    "# # Predict\n",
    "# y_pred = lr.predict(X_dev_poly)"
   ],
   "outputs": [],
   "execution_count": 50
  },
  {
   "metadata": {
    "ExecuteTime": {
     "end_time": "2025-09-17T17:39:47.811143Z",
     "start_time": "2025-09-17T17:39:47.797143Z"
    }
   },
   "cell_type": "code",
   "source": [
    "# # Evaluate\n",
    "# print(\"MAE\", mean_absolute_error(y_dev, y_pred))\n",
    "# print(\"R Score:\", r2_score(y_dev, y_pred))"
   ],
   "outputs": [],
   "execution_count": 51
  },
  {
   "metadata": {},
   "cell_type": "markdown",
   "source": "THIS MODEL WITH DEGREE 2 HAS BEEN GREAT AS A FAST PERFORMING TEST PROXY"
  },
  {
   "metadata": {
    "ExecuteTime": {
     "end_time": "2025-09-17T17:41:15.820410Z",
     "start_time": "2025-09-17T17:39:47.821142Z"
    }
   },
   "cell_type": "code",
   "source": [
    "model = Ridge(alpha=100)\n",
    "model.fit(X_train_poly, y_train)\n",
    "y_pred = model.predict(X_dev_poly)"
   ],
   "outputs": [],
   "execution_count": 52
  },
  {
   "metadata": {
    "ExecuteTime": {
     "end_time": "2025-09-17T17:41:15.972650Z",
     "start_time": "2025-09-17T17:41:15.956660Z"
    }
   },
   "cell_type": "code",
   "source": [
    "print(\"MSE\", mean_squared_error(y_dev, y_pred))\n",
    "print(\"R Score:\", r2_score(y_dev, y_pred))"
   ],
   "outputs": [
    {
     "name": "stdout",
     "output_type": "stream",
     "text": [
      "MSE 107866198.7531412\n",
      "R Score: 0.32026095207260386\n"
     ]
    }
   ],
   "execution_count": 53
  },
  {
   "metadata": {},
   "cell_type": "markdown",
   "source": "SENSITIVITY TO HIGH VALUES IS EVIDENT HERE, SWITCHING TO MAE"
  },
  {
   "metadata": {
    "ExecuteTime": {
     "end_time": "2025-09-17T17:41:16.006442Z",
     "start_time": "2025-09-17T17:41:15.990747Z"
    }
   },
   "cell_type": "code",
   "source": [
    "print(\"MAE\", mean_absolute_error(y_dev, y_pred))\n",
    "print(\"R Score:\", r2_score(y_dev, y_pred))"
   ],
   "outputs": [
    {
     "name": "stdout",
     "output_type": "stream",
     "text": [
      "MAE 5294.789465123291\n",
      "R Score: 0.32026095207260386\n"
     ]
    }
   ],
   "execution_count": 54
  },
  {
   "metadata": {},
   "cell_type": "markdown",
   "source": "PCA TEST BLOCK"
  },
  {
   "metadata": {
    "ExecuteTime": {
     "end_time": "2025-09-17T16:08:59.741662Z",
     "start_time": "2025-09-17T16:08:27.253951Z"
    }
   },
   "cell_type": "code",
   "source": [
    "# test_results = {\"MAE\": [], \"R\":[], \"num_C\":[]}\n",
    "# # components_values = [5,10, 15, 20, 25, 30, 35, 40]\n",
    "# components_values = [x for x in range(1,41)]\n",
    "#\n",
    "# # Step 1: Create polynomial features once from scaled data\n",
    "# poly = PolynomialFeatures(degree=2, include_bias=False)\n",
    "# X_train_poly = poly.fit_transform(X_train_scaled)\n",
    "# X_dev_poly = poly.transform(X_dev_scaled)\n",
    "# X_test_poly = poly.transform(X_test_scaled)\n",
    "#\n",
    "# for value in components_values:\n",
    "#     # Step 2: Apply PCA on poly features\n",
    "#     pca = PCA(n_components=value, random_state=42)\n",
    "#     X_train_pca = pca.fit_transform(X_train_poly)\n",
    "#     X_dev_pca = pca.transform(X_dev_poly)\n",
    "#     X_test_pca = pca.transform(X_test_poly)\n",
    "#\n",
    "#     # Step 3: Fit Ridge on PCA-reduced features\n",
    "#     model = Ridge(alpha=1.0)\n",
    "#     model.fit(X_train_pca, y_train)\n",
    "#     y_pred = model.predict(X_dev_pca)\n",
    "#\n",
    "#     # Step 4: Store results\n",
    "#     test_results[\"MAE\"].append(mean_absolute_error(y_dev, y_pred))\n",
    "#     test_results[\"R\"].append(r2_score(y_dev, y_pred))\n",
    "#     test_results[\"num_C\"].append(value)\n",
    "#\n",
    "# pd.DataFrame(test_results)"
   ],
   "outputs": [
    {
     "data": {
      "text/plain": [
       "            MAE         R  num_C\n",
       "0   9290.039770 -0.000117      1\n",
       "1   9285.977420  0.000350      2\n",
       "2   9285.951618  0.000651      3\n",
       "3   9282.194868  0.001067      4\n",
       "4   9279.073460  0.001804      5\n",
       "5   9256.990499  0.004328      6\n",
       "6   9135.966448  0.019323      7\n",
       "7   9133.836291  0.019238      8\n",
       "8   9126.935636  0.023646      9\n",
       "9   9108.704920  0.028387     10\n",
       "10  8646.130351  0.103814     11\n",
       "11  8647.196522  0.103977     12\n",
       "12  8650.952208  0.103399     13\n",
       "13  8540.081124  0.118953     14\n",
       "14  8540.460277  0.118961     15\n",
       "15  8301.433398  0.149952     16\n",
       "16  8256.557689  0.155405     17\n",
       "17  8237.974403  0.158868     18\n",
       "18  8237.575981  0.159910     19\n",
       "19  8217.425556  0.162631     20\n",
       "20  8216.702118  0.163034     21\n",
       "21  8202.176818  0.165338     22\n",
       "22  8202.238687  0.165314     23\n",
       "23  8196.836122  0.167259     24\n",
       "24  8196.948733  0.167236     25\n",
       "25  8043.116285  0.183183     26\n",
       "26  8046.686201  0.182691     27\n",
       "27  7982.499383  0.188687     28\n",
       "28  7909.452770  0.197554     29\n",
       "29  7904.008001  0.198715     30\n",
       "30  7899.480861  0.200857     31\n",
       "31  7888.143811  0.200933     32\n",
       "32  7873.134391  0.205521     33\n",
       "33  7883.400448  0.205703     34\n",
       "34  7847.720214  0.210848     35\n",
       "35  7841.880282  0.211096     36\n",
       "36  7844.599165  0.210088     37\n",
       "37  7835.235705  0.212580     38\n",
       "38  7832.188049  0.215057     39\n",
       "39  7831.045542  0.214333     40"
      ],
      "text/html": [
       "<div>\n",
       "<style scoped>\n",
       "    .dataframe tbody tr th:only-of-type {\n",
       "        vertical-align: middle;\n",
       "    }\n",
       "\n",
       "    .dataframe tbody tr th {\n",
       "        vertical-align: top;\n",
       "    }\n",
       "\n",
       "    .dataframe thead th {\n",
       "        text-align: right;\n",
       "    }\n",
       "</style>\n",
       "<table border=\"1\" class=\"dataframe\">\n",
       "  <thead>\n",
       "    <tr style=\"text-align: right;\">\n",
       "      <th></th>\n",
       "      <th>MAE</th>\n",
       "      <th>R</th>\n",
       "      <th>num_C</th>\n",
       "    </tr>\n",
       "  </thead>\n",
       "  <tbody>\n",
       "    <tr>\n",
       "      <th>0</th>\n",
       "      <td>9290.039770</td>\n",
       "      <td>-0.000117</td>\n",
       "      <td>1</td>\n",
       "    </tr>\n",
       "    <tr>\n",
       "      <th>1</th>\n",
       "      <td>9285.977420</td>\n",
       "      <td>0.000350</td>\n",
       "      <td>2</td>\n",
       "    </tr>\n",
       "    <tr>\n",
       "      <th>2</th>\n",
       "      <td>9285.951618</td>\n",
       "      <td>0.000651</td>\n",
       "      <td>3</td>\n",
       "    </tr>\n",
       "    <tr>\n",
       "      <th>3</th>\n",
       "      <td>9282.194868</td>\n",
       "      <td>0.001067</td>\n",
       "      <td>4</td>\n",
       "    </tr>\n",
       "    <tr>\n",
       "      <th>4</th>\n",
       "      <td>9279.073460</td>\n",
       "      <td>0.001804</td>\n",
       "      <td>5</td>\n",
       "    </tr>\n",
       "    <tr>\n",
       "      <th>5</th>\n",
       "      <td>9256.990499</td>\n",
       "      <td>0.004328</td>\n",
       "      <td>6</td>\n",
       "    </tr>\n",
       "    <tr>\n",
       "      <th>6</th>\n",
       "      <td>9135.966448</td>\n",
       "      <td>0.019323</td>\n",
       "      <td>7</td>\n",
       "    </tr>\n",
       "    <tr>\n",
       "      <th>7</th>\n",
       "      <td>9133.836291</td>\n",
       "      <td>0.019238</td>\n",
       "      <td>8</td>\n",
       "    </tr>\n",
       "    <tr>\n",
       "      <th>8</th>\n",
       "      <td>9126.935636</td>\n",
       "      <td>0.023646</td>\n",
       "      <td>9</td>\n",
       "    </tr>\n",
       "    <tr>\n",
       "      <th>9</th>\n",
       "      <td>9108.704920</td>\n",
       "      <td>0.028387</td>\n",
       "      <td>10</td>\n",
       "    </tr>\n",
       "    <tr>\n",
       "      <th>10</th>\n",
       "      <td>8646.130351</td>\n",
       "      <td>0.103814</td>\n",
       "      <td>11</td>\n",
       "    </tr>\n",
       "    <tr>\n",
       "      <th>11</th>\n",
       "      <td>8647.196522</td>\n",
       "      <td>0.103977</td>\n",
       "      <td>12</td>\n",
       "    </tr>\n",
       "    <tr>\n",
       "      <th>12</th>\n",
       "      <td>8650.952208</td>\n",
       "      <td>0.103399</td>\n",
       "      <td>13</td>\n",
       "    </tr>\n",
       "    <tr>\n",
       "      <th>13</th>\n",
       "      <td>8540.081124</td>\n",
       "      <td>0.118953</td>\n",
       "      <td>14</td>\n",
       "    </tr>\n",
       "    <tr>\n",
       "      <th>14</th>\n",
       "      <td>8540.460277</td>\n",
       "      <td>0.118961</td>\n",
       "      <td>15</td>\n",
       "    </tr>\n",
       "    <tr>\n",
       "      <th>15</th>\n",
       "      <td>8301.433398</td>\n",
       "      <td>0.149952</td>\n",
       "      <td>16</td>\n",
       "    </tr>\n",
       "    <tr>\n",
       "      <th>16</th>\n",
       "      <td>8256.557689</td>\n",
       "      <td>0.155405</td>\n",
       "      <td>17</td>\n",
       "    </tr>\n",
       "    <tr>\n",
       "      <th>17</th>\n",
       "      <td>8237.974403</td>\n",
       "      <td>0.158868</td>\n",
       "      <td>18</td>\n",
       "    </tr>\n",
       "    <tr>\n",
       "      <th>18</th>\n",
       "      <td>8237.575981</td>\n",
       "      <td>0.159910</td>\n",
       "      <td>19</td>\n",
       "    </tr>\n",
       "    <tr>\n",
       "      <th>19</th>\n",
       "      <td>8217.425556</td>\n",
       "      <td>0.162631</td>\n",
       "      <td>20</td>\n",
       "    </tr>\n",
       "    <tr>\n",
       "      <th>20</th>\n",
       "      <td>8216.702118</td>\n",
       "      <td>0.163034</td>\n",
       "      <td>21</td>\n",
       "    </tr>\n",
       "    <tr>\n",
       "      <th>21</th>\n",
       "      <td>8202.176818</td>\n",
       "      <td>0.165338</td>\n",
       "      <td>22</td>\n",
       "    </tr>\n",
       "    <tr>\n",
       "      <th>22</th>\n",
       "      <td>8202.238687</td>\n",
       "      <td>0.165314</td>\n",
       "      <td>23</td>\n",
       "    </tr>\n",
       "    <tr>\n",
       "      <th>23</th>\n",
       "      <td>8196.836122</td>\n",
       "      <td>0.167259</td>\n",
       "      <td>24</td>\n",
       "    </tr>\n",
       "    <tr>\n",
       "      <th>24</th>\n",
       "      <td>8196.948733</td>\n",
       "      <td>0.167236</td>\n",
       "      <td>25</td>\n",
       "    </tr>\n",
       "    <tr>\n",
       "      <th>25</th>\n",
       "      <td>8043.116285</td>\n",
       "      <td>0.183183</td>\n",
       "      <td>26</td>\n",
       "    </tr>\n",
       "    <tr>\n",
       "      <th>26</th>\n",
       "      <td>8046.686201</td>\n",
       "      <td>0.182691</td>\n",
       "      <td>27</td>\n",
       "    </tr>\n",
       "    <tr>\n",
       "      <th>27</th>\n",
       "      <td>7982.499383</td>\n",
       "      <td>0.188687</td>\n",
       "      <td>28</td>\n",
       "    </tr>\n",
       "    <tr>\n",
       "      <th>28</th>\n",
       "      <td>7909.452770</td>\n",
       "      <td>0.197554</td>\n",
       "      <td>29</td>\n",
       "    </tr>\n",
       "    <tr>\n",
       "      <th>29</th>\n",
       "      <td>7904.008001</td>\n",
       "      <td>0.198715</td>\n",
       "      <td>30</td>\n",
       "    </tr>\n",
       "    <tr>\n",
       "      <th>30</th>\n",
       "      <td>7899.480861</td>\n",
       "      <td>0.200857</td>\n",
       "      <td>31</td>\n",
       "    </tr>\n",
       "    <tr>\n",
       "      <th>31</th>\n",
       "      <td>7888.143811</td>\n",
       "      <td>0.200933</td>\n",
       "      <td>32</td>\n",
       "    </tr>\n",
       "    <tr>\n",
       "      <th>32</th>\n",
       "      <td>7873.134391</td>\n",
       "      <td>0.205521</td>\n",
       "      <td>33</td>\n",
       "    </tr>\n",
       "    <tr>\n",
       "      <th>33</th>\n",
       "      <td>7883.400448</td>\n",
       "      <td>0.205703</td>\n",
       "      <td>34</td>\n",
       "    </tr>\n",
       "    <tr>\n",
       "      <th>34</th>\n",
       "      <td>7847.720214</td>\n",
       "      <td>0.210848</td>\n",
       "      <td>35</td>\n",
       "    </tr>\n",
       "    <tr>\n",
       "      <th>35</th>\n",
       "      <td>7841.880282</td>\n",
       "      <td>0.211096</td>\n",
       "      <td>36</td>\n",
       "    </tr>\n",
       "    <tr>\n",
       "      <th>36</th>\n",
       "      <td>7844.599165</td>\n",
       "      <td>0.210088</td>\n",
       "      <td>37</td>\n",
       "    </tr>\n",
       "    <tr>\n",
       "      <th>37</th>\n",
       "      <td>7835.235705</td>\n",
       "      <td>0.212580</td>\n",
       "      <td>38</td>\n",
       "    </tr>\n",
       "    <tr>\n",
       "      <th>38</th>\n",
       "      <td>7832.188049</td>\n",
       "      <td>0.215057</td>\n",
       "      <td>39</td>\n",
       "    </tr>\n",
       "    <tr>\n",
       "      <th>39</th>\n",
       "      <td>7831.045542</td>\n",
       "      <td>0.214333</td>\n",
       "      <td>40</td>\n",
       "    </tr>\n",
       "  </tbody>\n",
       "</table>\n",
       "</div>"
      ]
     },
     "execution_count": 128,
     "metadata": {},
     "output_type": "execute_result"
    }
   ],
   "execution_count": 128
  },
  {
   "metadata": {},
   "cell_type": "markdown",
   "source": "MAX COMPONENTS SEEMS TO PROVIDE THE BEST PERFORMANCE-BASED RESULTS"
  },
  {
   "metadata": {},
   "cell_type": "markdown",
   "source": "ALPHA TEST BLOCK"
  },
  {
   "metadata": {
    "ExecuteTime": {
     "end_time": "2025-09-17T16:09:00.279901Z",
     "start_time": "2025-09-17T16:08:59.993953Z"
    }
   },
   "cell_type": "code",
   "source": [
    "# Testing various values of alpha\n",
    "# alphas = [0.01, 0.1, 1.0, 10.0, 100.0]\n",
    "# model = RidgeCV(alphas=alphas, scoring='neg_mean_absolute_error', cv=5)\n",
    "# model.fit(X_train_pca, y_train)\n",
    "# print(\"Best alpha:\", model.alpha_)"
   ],
   "outputs": [
    {
     "name": "stdout",
     "output_type": "stream",
     "text": [
      "Best alpha: 100.0\n"
     ]
    }
   ],
   "execution_count": 129
  },
  {
   "metadata": {},
   "cell_type": "markdown",
   "source": "EXPLORING RANDOM FOREST REGRESSION"
  },
  {
   "metadata": {
    "ExecuteTime": {
     "end_time": "2025-09-17T16:15:26.239906Z",
     "start_time": "2025-09-17T16:15:26.224261Z"
    }
   },
   "cell_type": "code",
   "source": [
    "# rf_model = RandomForestRegressor(\n",
    "#     n_estimators=100,\n",
    "#     max_depth=None,\n",
    "#     random_state=42,\n",
    "#     n_jobs=-1\n",
    "# )\n",
    "#\n",
    "# # Train\n",
    "# rf_model.fit(X_train_pca, y_train)\n",
    "#\n",
    "# # Predict on dev set\n",
    "# y_pred_rf = rf_model.predict(X_dev_pca)\n",
    "#\n",
    "# # Evaluate\n",
    "# print(\"MAE (RF):\", mean_absolute_error(y_dev, y_pred_rf))\n",
    "# print(\"R Score (RF):\", r2_score(y_dev, y_pred_rf))\n"
   ],
   "outputs": [],
   "execution_count": 191
  },
  {
   "metadata": {},
   "cell_type": "markdown",
   "source": "GRID SEARCH"
  },
  {
   "metadata": {
    "ExecuteTime": {
     "end_time": "2025-09-17T21:29:55.948058Z",
     "start_time": "2025-09-17T21:16:18.739045Z"
    }
   },
   "cell_type": "code",
   "source": [
    "# param_grid = {\n",
    "#     'n_estimators': [100, 200],\n",
    "#     'max_depth': [10, 20, None],\n",
    "#     'min_samples_split': [2, 5],\n",
    "#     'min_samples_leaf': [1, 2],\n",
    "# }\n",
    "#\n",
    "# grid = GridSearchCV(RandomForestRegressor(random_state=42, n_jobs=-1), param_grid, cv=3, scoring='neg_mean_absolute_error')\n",
    "# grid.fit(X_train_pca, y_train)\n",
    "#\n",
    "# print(\"Best Params:\", grid.best_params_)"
   ],
   "outputs": [
    {
     "name": "stdout",
     "output_type": "stream",
     "text": [
      "Best Params: {'max_depth': 20, 'min_samples_leaf': 2, 'min_samples_split': 5, 'n_estimators': 200}\n"
     ]
    }
   ],
   "execution_count": 70
  },
  {
   "metadata": {
    "ExecuteTime": {
     "end_time": "2025-09-17T17:45:37.407357Z",
     "start_time": "2025-09-17T17:45:37.391323Z"
    }
   },
   "cell_type": "code",
   "outputs": [],
   "execution_count": 56,
   "source": [
    "# best_rf = grid.best_estimator_\n",
    "# y_pred_rf = best_rf.predict(X_dev_pca)\n",
    "#\n",
    "# print(\"MAE (Tuned RF):\", mean_absolute_error(y_dev, y_pred_rf))\n",
    "# print(\"R Score (Tuned RF):\", r2_score(y_dev, y_pred_rf))\n",
    "# importances = rf_model.feature_importances_"
   ]
  },
  {
   "metadata": {},
   "cell_type": "markdown",
   "source": "BEST FOREST RESULTS WERE WITH DEGREE 3"
  },
  {
   "metadata": {
    "ExecuteTime": {
     "end_time": "2025-09-17T18:20:37.457494Z",
     "start_time": "2025-09-17T17:45:37.414646Z"
    }
   },
   "cell_type": "code",
   "source": [
    "best_rf = RandomForestRegressor(\n",
    "    n_estimators=200,\n",
    "    max_depth=20,\n",
    "    min_samples_split=5,\n",
    "    min_samples_leaf=2,\n",
    "    random_state=42,\n",
    "    n_jobs=-1\n",
    ")\n",
    "\n",
    "best_rf.fit(X_train_poly, y_train)\n",
    "\n",
    "y_dev_pred = best_rf.predict(X_dev_poly)\n",
    "y_test_pred = best_rf.predict(X_test_poly)\n",
    "\n",
    "print(\"MAE (Dev):\", mean_absolute_error(y_dev, y_dev_pred))\n",
    "print(\"R Score (Dev):\", r2_score(y_dev, y_dev_pred))\n",
    "\n",
    "print(\"MAE (Test):\", mean_absolute_error(y_test, y_test_pred))\n",
    "print(\"R Score (Test):\", r2_score(y_test, y_test_pred))"
   ],
   "outputs": [
    {
     "name": "stdout",
     "output_type": "stream",
     "text": [
      "MAE (Dev): 4520.737590155215\n",
      "R Score (Dev): 0.5862845346943539\n",
      "MAE (Test): 4332.62137737704\n",
      "R Score (Test): 0.6409273749732574\n"
     ]
    }
   ],
   "execution_count": 57
  },
  {
   "metadata": {},
   "cell_type": "markdown",
   "source": "EXPLORING FEATURE IMPORTANCE"
  },
  {
   "metadata": {
    "ExecuteTime": {
     "end_time": "2025-09-17T18:20:37.903158Z",
     "start_time": "2025-09-17T18:20:37.685046Z"
    }
   },
   "cell_type": "code",
   "source": [
    "#Get feature names from the poly transformer\n",
    "poly_feature_names = poly.get_feature_names_out(input_features=X.columns)\n",
    "\n",
    "# Wrap the importances in a DataFrame\n",
    "feat_imp_df = pd.DataFrame({\n",
    "    'feature': feature_names,\n",
    "    'importance': best_rf.feature_importances_\n",
    "}).sort_values(by='importance', ascending=False)\n",
    "\n",
    "feat_imp_df.head(10)\n"
   ],
   "outputs": [
    {
     "data": {
      "text/plain": [
       "                                           feature  importance\n",
       "9990                              drive_4wd^2 year    0.264186\n",
       "13241                         odometer cylinders^2    0.055667\n",
       "8775             transmission_automatic^2 odometer    0.037137\n",
       "1802                       fuel_diesel^2 cylinders    0.025208\n",
       "11908                  type_mini-van year odometer    0.012110\n",
       "9992                         drive_4wd^2 cylinders    0.010032\n",
       "1879                fuel_diesel fuel_gas cylinders    0.007322\n",
       "2306               fuel_diesel drive_rwd cylinders    0.007284\n",
       "2175   fuel_diesel transmission_automatic odometer    0.007274\n",
       "1800                            fuel_diesel^2 year    0.007008"
      ],
      "text/html": [
       "<div>\n",
       "<style scoped>\n",
       "    .dataframe tbody tr th:only-of-type {\n",
       "        vertical-align: middle;\n",
       "    }\n",
       "\n",
       "    .dataframe tbody tr th {\n",
       "        vertical-align: top;\n",
       "    }\n",
       "\n",
       "    .dataframe thead th {\n",
       "        text-align: right;\n",
       "    }\n",
       "</style>\n",
       "<table border=\"1\" class=\"dataframe\">\n",
       "  <thead>\n",
       "    <tr style=\"text-align: right;\">\n",
       "      <th></th>\n",
       "      <th>feature</th>\n",
       "      <th>importance</th>\n",
       "    </tr>\n",
       "  </thead>\n",
       "  <tbody>\n",
       "    <tr>\n",
       "      <th>9990</th>\n",
       "      <td>drive_4wd^2 year</td>\n",
       "      <td>0.264186</td>\n",
       "    </tr>\n",
       "    <tr>\n",
       "      <th>13241</th>\n",
       "      <td>odometer cylinders^2</td>\n",
       "      <td>0.055667</td>\n",
       "    </tr>\n",
       "    <tr>\n",
       "      <th>8775</th>\n",
       "      <td>transmission_automatic^2 odometer</td>\n",
       "      <td>0.037137</td>\n",
       "    </tr>\n",
       "    <tr>\n",
       "      <th>1802</th>\n",
       "      <td>fuel_diesel^2 cylinders</td>\n",
       "      <td>0.025208</td>\n",
       "    </tr>\n",
       "    <tr>\n",
       "      <th>11908</th>\n",
       "      <td>type_mini-van year odometer</td>\n",
       "      <td>0.012110</td>\n",
       "    </tr>\n",
       "    <tr>\n",
       "      <th>9992</th>\n",
       "      <td>drive_4wd^2 cylinders</td>\n",
       "      <td>0.010032</td>\n",
       "    </tr>\n",
       "    <tr>\n",
       "      <th>1879</th>\n",
       "      <td>fuel_diesel fuel_gas cylinders</td>\n",
       "      <td>0.007322</td>\n",
       "    </tr>\n",
       "    <tr>\n",
       "      <th>2306</th>\n",
       "      <td>fuel_diesel drive_rwd cylinders</td>\n",
       "      <td>0.007284</td>\n",
       "    </tr>\n",
       "    <tr>\n",
       "      <th>2175</th>\n",
       "      <td>fuel_diesel transmission_automatic odometer</td>\n",
       "      <td>0.007274</td>\n",
       "    </tr>\n",
       "    <tr>\n",
       "      <th>1800</th>\n",
       "      <td>fuel_diesel^2 year</td>\n",
       "      <td>0.007008</td>\n",
       "    </tr>\n",
       "  </tbody>\n",
       "</table>\n",
       "</div>"
      ]
     },
     "execution_count": 58,
     "metadata": {},
     "output_type": "execute_result"
    }
   ],
   "execution_count": 58
  },
  {
   "metadata": {},
   "cell_type": "markdown",
   "source": "EXPLORING XGBOOST REGRESSION"
  },
  {
   "metadata": {
    "ExecuteTime": {
     "end_time": "2025-09-17T18:20:37.980564Z",
     "start_time": "2025-09-17T18:20:37.965067Z"
    }
   },
   "cell_type": "code",
   "source": [
    "xgb = XGBRegressor(\n",
    "    n_estimators=250,\n",
    "    max_depth=6,\n",
    "    learning_rate=0.05,\n",
    "    subsample=0.8,\n",
    "    colsample_bytree=0.8,\n",
    "    random_state=42,\n",
    "    n_jobs=-1,\n",
    "    verbosity=1\n",
    ")"
   ],
   "outputs": [],
   "execution_count": 59
  },
  {
   "metadata": {
    "ExecuteTime": {
     "end_time": "2025-09-17T18:26:36.552131Z",
     "start_time": "2025-09-17T18:20:38.093925Z"
    }
   },
   "cell_type": "code",
   "source": [
    "xgb.fit(X_train_poly, y_train)\n",
    "y_dev_pred = xgb.predict(X_dev_poly)\n",
    "y_test_pred = xgb.predict(X_test_poly)\n",
    "\n",
    "print(\"MAE (Dev):\", mean_absolute_error(y_dev, y_dev_pred))\n",
    "print(\"R Score (Dev):\", r2_score(y_dev, y_dev_pred))\n",
    "\n",
    "print(\"\\nMAE (Test):\", mean_absolute_error(y_test, y_test_pred))\n",
    "print(\"R Score (Test):\", r2_score(y_test, y_test_pred))"
   ],
   "outputs": [
    {
     "name": "stdout",
     "output_type": "stream",
     "text": [
      "MAE (Dev): 4321.176100624902\n",
      "R Score (Dev): 0.6092498128500561\n",
      "\n",
      "MAE (Test): 4164.005342837754\n",
      "R Score (Test): 0.6619721572163263\n"
     ]
    }
   ],
   "execution_count": 60
  },
  {
   "metadata": {},
   "cell_type": "markdown",
   "source": "EXPLORING FEATURE IMPORTANCE"
  },
  {
   "metadata": {
    "ExecuteTime": {
     "end_time": "2025-09-17T18:26:36.733002Z",
     "start_time": "2025-09-17T18:26:36.706005Z"
    }
   },
   "cell_type": "code",
   "source": [
    "# Wrap the importances in a DataFrame\n",
    "feat_imp_df = pd.DataFrame({\n",
    "    'feature': feature_names,\n",
    "    'importance': xgb.feature_importances_\n",
    "}).sort_values(by='importance', ascending=False)\n",
    "\n",
    "feat_imp_df.head(10)"
   ],
   "outputs": [
    {
     "data": {
      "text/plain": [
       "                                                 feature  importance\n",
       "3358                         fuel_electric year odometer    0.025978\n",
       "7254                  title_status_missing year odometer    0.018151\n",
       "9990                                    drive_4wd^2 year    0.015826\n",
       "9992                               drive_4wd^2 cylinders    0.011941\n",
       "8775                   transmission_automatic^2 odometer    0.010829\n",
       "12166                        type_pickup type_truck year    0.009039\n",
       "11908                        type_mini-van year odometer    0.008713\n",
       "9799           transmission_other type_pickup type_truck    0.007908\n",
       "12575                                  type_truck^2 year    0.007011\n",
       "2437   fuel_diesel type_sedan manufacturer_region_eur...    0.006324"
      ],
      "text/html": [
       "<div>\n",
       "<style scoped>\n",
       "    .dataframe tbody tr th:only-of-type {\n",
       "        vertical-align: middle;\n",
       "    }\n",
       "\n",
       "    .dataframe tbody tr th {\n",
       "        vertical-align: top;\n",
       "    }\n",
       "\n",
       "    .dataframe thead th {\n",
       "        text-align: right;\n",
       "    }\n",
       "</style>\n",
       "<table border=\"1\" class=\"dataframe\">\n",
       "  <thead>\n",
       "    <tr style=\"text-align: right;\">\n",
       "      <th></th>\n",
       "      <th>feature</th>\n",
       "      <th>importance</th>\n",
       "    </tr>\n",
       "  </thead>\n",
       "  <tbody>\n",
       "    <tr>\n",
       "      <th>3358</th>\n",
       "      <td>fuel_electric year odometer</td>\n",
       "      <td>0.025978</td>\n",
       "    </tr>\n",
       "    <tr>\n",
       "      <th>7254</th>\n",
       "      <td>title_status_missing year odometer</td>\n",
       "      <td>0.018151</td>\n",
       "    </tr>\n",
       "    <tr>\n",
       "      <th>9990</th>\n",
       "      <td>drive_4wd^2 year</td>\n",
       "      <td>0.015826</td>\n",
       "    </tr>\n",
       "    <tr>\n",
       "      <th>9992</th>\n",
       "      <td>drive_4wd^2 cylinders</td>\n",
       "      <td>0.011941</td>\n",
       "    </tr>\n",
       "    <tr>\n",
       "      <th>8775</th>\n",
       "      <td>transmission_automatic^2 odometer</td>\n",
       "      <td>0.010829</td>\n",
       "    </tr>\n",
       "    <tr>\n",
       "      <th>12166</th>\n",
       "      <td>type_pickup type_truck year</td>\n",
       "      <td>0.009039</td>\n",
       "    </tr>\n",
       "    <tr>\n",
       "      <th>11908</th>\n",
       "      <td>type_mini-van year odometer</td>\n",
       "      <td>0.008713</td>\n",
       "    </tr>\n",
       "    <tr>\n",
       "      <th>9799</th>\n",
       "      <td>transmission_other type_pickup type_truck</td>\n",
       "      <td>0.007908</td>\n",
       "    </tr>\n",
       "    <tr>\n",
       "      <th>12575</th>\n",
       "      <td>type_truck^2 year</td>\n",
       "      <td>0.007011</td>\n",
       "    </tr>\n",
       "    <tr>\n",
       "      <th>2437</th>\n",
       "      <td>fuel_diesel type_sedan manufacturer_region_eur...</td>\n",
       "      <td>0.006324</td>\n",
       "    </tr>\n",
       "  </tbody>\n",
       "</table>\n",
       "</div>"
      ]
     },
     "execution_count": 61,
     "metadata": {},
     "output_type": "execute_result"
    }
   ],
   "execution_count": 61
  },
  {
   "cell_type": "markdown",
   "metadata": {},
   "source": "EXPLORING SKLEARN HISTOGRAM GRADIENT BOOST REGRESSION"
  },
  {
   "cell_type": "code",
   "metadata": {
    "ExecuteTime": {
     "end_time": "2025-09-17T18:26:36.819432Z",
     "start_time": "2025-09-17T18:26:36.804051Z"
    }
   },
   "source": [
    "# # Define the model\n",
    "# hgb = HistGradientBoostingRegressor(\n",
    "#     max_iter=250,\n",
    "#     learning_rate=0.06,\n",
    "#     max_depth=8,\n",
    "#     max_leaf_nodes=31,\n",
    "#     l2_regularization=0.4,\n",
    "#     random_state=42,\n",
    "#     verbose=1\n",
    "# )\n",
    "#\n",
    "# # Fit and predict\n",
    "# hgb.fit(X_train_poly, y_train)\n",
    "# y_dev_pred = hgb.predict(X_dev_poly)\n",
    "# y_test_pred = hgb.predict(X_test_poly)\n",
    "#\n",
    "# # Evaluate\n",
    "# print(\"MAE (Dev):\", mean_absolute_error(y_dev, y_dev_pred))\n",
    "# print(\"R Score (Dev):\", r2_score(y_dev, y_dev_pred))\n",
    "# print(\"\\nMAE (Test):\", mean_absolute_error(y_test, y_test_pred))\n",
    "# print(\"R Score (Test):\", r2_score(y_test, y_test_pred))"
   ],
   "outputs": [],
   "execution_count": 62
  },
  {
   "metadata": {},
   "cell_type": "markdown",
   "source": "THIS MODEL PERFORMED ADMIRABLY, BUT THE RUNTIME FOR THESE NEXT TWO BLOCKS WAS LONGER THAN MODELING"
  },
  {
   "metadata": {
    "ExecuteTime": {
     "end_time": "2025-09-17T18:26:36.935123Z",
     "start_time": "2025-09-17T18:26:36.929150Z"
    }
   },
   "cell_type": "code",
   "source": [
    "# from sklearn.inspection import permutation_importance\n",
    "# result = permutation_importance(hgb, X_dev_poly, y_dev, n_repeats=10, random_state=42, n_jobs=-1)"
   ],
   "outputs": [],
   "execution_count": 63
  },
  {
   "cell_type": "code",
   "metadata": {
    "ExecuteTime": {
     "end_time": "2025-09-17T18:26:36.965236Z",
     "start_time": "2025-09-17T18:26:36.962232Z"
    }
   },
   "source": [
    "# pd.DataFrame({\n",
    "#     'feature': feature_names,\n",
    "#     'importance': result.importances_mean\n",
    "# }).sort_values(by='importance', ascending=False)"
   ],
   "outputs": [],
   "execution_count": 64
  },
  {
   "metadata": {},
   "cell_type": "markdown",
   "source": "RUNTIME TOO LONG WITH #RD DEGREE POLYNOMIALS"
  },
  {
   "cell_type": "code",
   "metadata": {
    "ExecuteTime": {
     "end_time": "2025-09-17T18:26:36.996292Z",
     "start_time": "2025-09-17T18:26:36.990242Z"
    }
   },
   "source": [
    "# from sklearn.ensemble import GradientBoostingRegressor\n",
    "#\n",
    "# gbr = GradientBoostingRegressor(\n",
    "#     n_estimators=250,\n",
    "#     learning_rate=0.05,\n",
    "#     max_depth=6,\n",
    "#     random_state=42\n",
    "# )\n",
    "#\n",
    "# gbr.fit(X_train_poly, y_train)\n",
    "# y_dev_pred = gbr.predict(X_dev_poly)\n",
    "# y_test_pred = gbr.predict(X_test_poly)\n",
    "#\n",
    "# print(\"MAE (Dev):\", mean_absolute_error(y_dev, y_dev_pred))\n",
    "# print(\"R (Dev):\", r2_score(y_dev, y_dev_pred))"
   ],
   "outputs": [],
   "execution_count": 65
  },
  {
   "cell_type": "code",
   "metadata": {
    "ExecuteTime": {
     "end_time": "2025-09-17T18:26:37.018653Z",
     "start_time": "2025-09-17T18:26:37.002661Z"
    }
   },
   "source": [
    "# feat_imp_df = pd.DataFrame({\n",
    "#     'feature': feature_names,\n",
    "#     'importance': gbr.feature_importances_\n",
    "# }).sort_values(by='importance', ascending=False)\n",
    "#\n",
    "# feat_imp_df.head(10)"
   ],
   "outputs": [],
   "execution_count": 66
  },
  {
   "metadata": {},
   "cell_type": "markdown",
   "source": [
    "### Evaluation\n",
    "\n",
    "With some modeling accomplished, we aim to reflect on what we identify as a high-quality model and what we are able to learn from this.  We should review our business objective and explore how well we can provide meaningful insight into drivers of used car prices.  Your goal now is to distill your findings and determine whether the earlier phases need revisitation and adjustment or if you have information of value to bring back to your client."
   ]
  },
  {
   "metadata": {},
   "cell_type": "markdown",
   "source": [
    "I experimented with several modeling approaches, including:\n",
    "LinearRegression, RidgeRegression, RandomForestRegressor, XGBRegressor, HistGradientBoostingRegressor, and GradientBoostingRegressor.\n",
    "\n",
    "Throughout the modeling process, I identified key data thresholds (e.g., price filters, missing data handling, feature encoding) and tested them rigorously for their impact on performance.\n",
    "\n",
    "I selected Mean Absolute Error (MAE) as my primary evaluation metric because of the presence of extreme values in both price and odometer. I also tracked R (coefficient of determination) as a proxy for overall model fit and confidence.\n",
    "\n",
    "I did extensive testing with PCA and performance was better without it.  It would not have been usable in this case anyway because of the loss of feature interpretability, which is what this project evolved to require.\n",
    "\n",
    "After tuning, I was able to reduce MAE from ~$12,000s down to the $4,000s, and improve R from the 20th percentile to the 60s, depending on the model and data variant. My confidence in the findings was reinforced by my professional experience in the automotive industry, which aligned with many of the patterns uncovered by the models.\n",
    "\n",
    "Among all tested algorithms, XGBRegressor delivered the best combination of accuracy and runtime efficiency. Even though XGBoost is a standalone library, it integrates seamlessly with scikit-learn, making it easy to use in a familiar pipeline.\n",
    "\n",
    "While HistGradientBoostingRegressor showed competitive performance, it was difficult to extract feature importances in a straightforward way. I also tested the vanilla GradientBoostingRegressor, but its runtime was too long for marginal gains —\n",
    "\n",
    "Key TakeAways:\n",
    "1. We cannot directly observe buyer behavior, but we can infer patterns from listed features and prices.\n",
    "\n",
    "2. Utilitarian vehicle features, such as truck or van body styles, four-wheel drive, and diesel engines, consistently emerged as top price predictors.\n",
    "\n",
    "3. Cylinder count, especially V8 configurations, became impactful when interacting with drivetrain, body type, and fuel type, particularly for pickups and diesel models.\n",
    "\n",
    "4. Older diesel vehicles, especially trucks, get higher pricing regardless of mileage or condition; probably because of their durability, commercial appeal, and resale culture.\n",
    "\n",
    "5. European diesel vans/wagons also showed strong value retention, suggesting broad market trust in their longevity and efficiency."
   ]
  },
  {
   "cell_type": "markdown",
   "metadata": {},
   "source": [
    "### Deployment\n",
    "\n",
    "Now that we've settled on our models and findings, it is time to deliver the information to the client.  You should organize your work as a basic report that details your primary findings.  Keep in mind that your audience is a group of used car dealers interested in fine-tuning their inventory."
   ]
  },
  {
   "metadata": {},
   "cell_type": "markdown",
   "source": [
    "Preface to stakeholders: \"Ladies and/or Gentlemen what I am about to share with you will either be validating or enlightening.\"\n",
    "\n",
    "I experimented with many models and despite the limitations of the data, the models were all able to capture important trends related to pricing.\n",
    "\n",
    "My analysis allowed me to make the following conclusions about the dataset:\n",
    "\n",
    "We cant capture anything customer related with current dataset. That will require someone to provide me with historic sales data.\n",
    "\n",
    "In the absence of sales data, I am still able to point out some key observations about your current used car inventory:\n",
    "\n",
    "It seems utilitarian traits such as diesel engines, four-wheel drive systems, and pickup truck body styles emerged as top predictive features across all leading models. This suggests that vehicles built for durability, towing, or work-related utility command higher prices and retain value more effectively.\n",
    "\n",
    "I also observed that V8 engine configurations, especially when paired with diesel fuel or truck frames, consistently ranked high in interaction terms. Ultimately, our results affirm that your pricing reflects more than brand or age — it rewards vehicles designed for capability, reliability, and long-term use.\n",
    "\n",
    "Noteably, diesel-powered European vehicles, especially vans and wagons, also scored high on value retention, likely due to their reputation for efficiency, longevity, and practicality in both fleet and family use cases.\n",
    "\n",
    "Even without perfect predictive power, the model highlights pricing patterns that reflect universal value: utility, capability, and longevity.\n",
    "\n",
    "These findings may indicate vehicles that have more profit potential than others."
   ]
  },
  {
   "cell_type": "code",
   "metadata": {
    "ExecuteTime": {
     "end_time": "2025-09-17T18:26:45.298230Z",
     "start_time": "2025-09-17T18:26:45.287658Z"
    }
   },
   "source": [],
   "outputs": [],
   "execution_count": null
  },
  {
   "cell_type": "code",
   "metadata": {
    "ExecuteTime": {
     "end_time": "2025-09-17T18:26:45.313993Z",
     "start_time": "2025-09-17T18:26:45.305450Z"
    }
   },
   "source": [],
   "outputs": [],
   "execution_count": null
  },
  {
   "cell_type": "code",
   "metadata": {
    "ExecuteTime": {
     "end_time": "2025-09-17T18:26:45.333646Z",
     "start_time": "2025-09-17T18:26:45.317597Z"
    }
   },
   "source": [],
   "outputs": [],
   "execution_count": null
  },
  {
   "cell_type": "code",
   "metadata": {
    "ExecuteTime": {
     "end_time": "2025-09-17T18:26:45.355958Z",
     "start_time": "2025-09-17T18:26:45.341440Z"
    }
   },
   "source": [],
   "outputs": [],
   "execution_count": null
  }
 ],
 "metadata": {
  "kernelspec": {
   "display_name": "Python 3",
   "language": "python",
   "name": "python3"
  },
  "language_info": {
   "codemirror_mode": {
    "name": "ipython",
    "version": 3
   },
   "file_extension": ".py",
   "mimetype": "text/x-python",
   "name": "python",
   "nbconvert_exporter": "python",
   "pygments_lexer": "ipython3",
   "version": "3.8.8"
  },
  "widgets": {
   "application/vnd.jupyter.widget-state+json": {
    "state": {},
    "version_major": 2,
    "version_minor": 0
   }
  }
 },
 "nbformat": 4,
 "nbformat_minor": 4
}
